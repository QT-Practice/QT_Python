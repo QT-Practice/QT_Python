{
 "cells": [
  {
   "cell_type": "code",
   "execution_count": 2,
   "id": "72559178",
   "metadata": {},
   "outputs": [
    {
     "name": "stdout",
     "output_type": "stream",
     "text": [
      "odd\n"
     ]
    }
   ],
   "source": [
    "# is_even\n",
    "number = 27\n",
    "if number % 2 == 0:\n",
    "    print(\"even\")\n",
    "else:\n",
    "    print(\"odd\")"
   ]
  },
  {
   "cell_type": "code",
   "execution_count": null,
   "id": "9720676b",
   "metadata": {},
   "outputs": [],
   "source": [
    "# define function\n",
    "def is_even(number):\n",
    "    if number % 2 == 0:\n",
    "        print(\"even\")\n",
    "    else:\n",
    "        print(\"odd\")"
   ]
  },
  {
   "cell_type": "code",
   "execution_count": 18,
   "id": "432b6188",
   "metadata": {},
   "outputs": [
    {
     "name": "stdout",
     "output_type": "stream",
     "text": [
      "even\n"
     ]
    }
   ],
   "source": [
    "# calling function\n",
    "is_even(20)"
   ]
  },
  {
   "cell_type": "code",
   "execution_count": 19,
   "id": "ca856447",
   "metadata": {},
   "outputs": [
    {
     "name": "stdout",
     "output_type": "stream",
     "text": [
      "odd\n"
     ]
    }
   ],
   "source": [
    "is_even(21)"
   ]
  },
  {
   "cell_type": "code",
   "execution_count": 21,
   "id": "6434b394",
   "metadata": {},
   "outputs": [],
   "source": [
    "def is_even(number):\n",
    "    \"\"\"This function checks if the number is even or not\n",
    "\n",
    "    Args:\n",
    "       number(int): number to be checked\n",
    "    \n",
    "    Returns (bool): True if even false otherwise   \n",
    "    \"\"\"\n",
    "    result = number % 2 == 0\n",
    "    return result"
   ]
  },
  {
   "cell_type": "code",
   "execution_count": null,
   "id": "0e36d3d2",
   "metadata": {},
   "outputs": [
    {
     "name": "stdout",
     "output_type": "stream",
     "text": [
      "30 is even\n"
     ]
    }
   ],
   "source": [
    "# Usage 1\n",
    "number = 30\n",
    "if is_even(number):\n",
    "    print(f\"{number} is even\")"
   ]
  },
  {
   "cell_type": "code",
   "execution_count": 23,
   "id": "00d7174a",
   "metadata": {},
   "outputs": [
    {
     "name": "stdout",
     "output_type": "stream",
     "text": [
      "90\n"
     ]
    }
   ],
   "source": [
    "# sum of even numbers from 10 to 20\n",
    "sum = 0\n",
    "for index in range(10,21):\n",
    "    if is_even(index):\n",
    "        sum += index\n",
    "print(sum)"
   ]
  }
 ],
 "metadata": {
  "kernelspec": {
   "display_name": "Python 3",
   "language": "python",
   "name": "python3"
  },
  "language_info": {
   "codemirror_mode": {
    "name": "ipython",
    "version": 3
   },
   "file_extension": ".py",
   "mimetype": "text/x-python",
   "name": "python",
   "nbconvert_exporter": "python",
   "pygments_lexer": "ipython3",
   "version": "3.11.9"
  }
 },
 "nbformat": 4,
 "nbformat_minor": 5
}
