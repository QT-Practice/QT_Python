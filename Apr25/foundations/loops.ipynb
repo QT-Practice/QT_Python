{
 "cells": [
  {
   "cell_type": "markdown",
   "id": "689c4263",
   "metadata": {},
   "source": [
    "## Project euler 3\n",
    "\n",
    "* Largest Prime factor"
   ]
  },
  {
   "cell_type": "code",
   "execution_count": 4,
   "id": "997565bc",
   "metadata": {},
   "outputs": [
    {
     "name": "stdout",
     "output_type": "stream",
     "text": [
      "29\n"
     ]
    }
   ],
   "source": [
    "number = 13195\n",
    "factor = number // 2\n",
    "while factor > 1:\n",
    "    # check if it is factor\n",
    "    if number % factor == 0:\n",
    "        # if factor also check if index it is prime\n",
    "        is_prime = True\n",
    "        index = 2\n",
    "        while index <= factor//2 :\n",
    "            if factor % index == 0:\n",
    "                is_prime = False\n",
    "                break\n",
    "            index = index + 1\n",
    "        if is_prime:\n",
    "            print(factor)\n",
    "            break\n",
    "    factor = factor - 1\n",
    "\n",
    "    # if prime print the value and come out of loop"
   ]
  },
  {
   "cell_type": "code",
   "execution_count": 6,
   "id": "04046073",
   "metadata": {},
   "outputs": [],
   "source": [
    "def is_prime(number):\n",
    "    result = True\n",
    "    index = 2\n",
    "    while index <= number // 2:\n",
    "        if number % index == 0:\n",
    "            result = False\n",
    "            break\n",
    "        index = index + 1\n",
    "    return result"
   ]
  },
  {
   "cell_type": "code",
   "execution_count": 7,
   "id": "3bc5666b",
   "metadata": {},
   "outputs": [
    {
     "name": "stdout",
     "output_type": "stream",
     "text": [
      "29\n"
     ]
    }
   ],
   "source": [
    "number = 13195\n",
    "factor = number // 2\n",
    "while factor > 1:\n",
    "    # check if it is factor\n",
    "    if number % factor == 0:\n",
    "        if is_prime(factor):\n",
    "            print(factor)\n",
    "            break\n",
    "    factor = factor - 1"
   ]
  },
  {
   "cell_type": "code",
   "execution_count": 12,
   "id": "527c030e",
   "metadata": {},
   "outputs": [
    {
     "name": "stdout",
     "output_type": "stream",
     "text": [
      "232792560\n"
     ]
    }
   ],
   "source": [
    "# Smallest multiple\n",
    "number = 20\n",
    "\n",
    "# boundary\n",
    "index = 1\n",
    "factorial = 1\n",
    "while index <= number:\n",
    "    factorial = factorial * index\n",
    "    index += 1\n",
    "\n",
    "max = factorial\n",
    "index = number\n",
    "while index <= factorial:\n",
    "    # check if is divisible by all numbers from 2 to number\n",
    "    divisible = True\n",
    "    number_index = 2\n",
    "    while number_index <= number:\n",
    "        if index % number_index != 0:\n",
    "            divisible = False\n",
    "            break\n",
    "        number_index += 1\n",
    "    if divisible:\n",
    "        print(index)\n",
    "        break\n",
    "    index += number\n",
    "\n"
   ]
  },
  {
   "cell_type": "code",
   "execution_count": 14,
   "id": "008b4880",
   "metadata": {},
   "outputs": [
    {
     "name": "stdout",
     "output_type": "stream",
     "text": [
      "25164150\n"
     ]
    }
   ],
   "source": [
    "# Project euler problem 6\n",
    "\n",
    "number = 100\n",
    "\n",
    "sum = (number * (number + 1)) // 2\n",
    "\n",
    "square_sum = sum ** 2\n",
    "\n",
    "square_number = 0\n",
    "index = 1\n",
    "while index <= number:\n",
    "    square_number += index ** 2\n",
    "    index += 1\n",
    "print(square_sum - square_number)"
   ]
  }
 ],
 "metadata": {
  "kernelspec": {
   "display_name": "Python 3",
   "language": "python",
   "name": "python3"
  },
  "language_info": {
   "codemirror_mode": {
    "name": "ipython",
    "version": 3
   },
   "file_extension": ".py",
   "mimetype": "text/x-python",
   "name": "python",
   "nbconvert_exporter": "python",
   "pygments_lexer": "ipython3",
   "version": "3.11.9"
  }
 },
 "nbformat": 4,
 "nbformat_minor": 5
}
