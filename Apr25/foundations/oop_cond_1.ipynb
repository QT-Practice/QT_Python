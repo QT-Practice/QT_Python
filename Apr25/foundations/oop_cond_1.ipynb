{
 "cells": [
  {
   "cell_type": "markdown",
   "id": "8ddb5b34",
   "metadata": {},
   "source": [
    "# Object oriented programming contd"
   ]
  },
  {
   "cell_type": "code",
   "execution_count": 4,
   "id": "33a6a9ec",
   "metadata": {},
   "outputs": [],
   "source": [
    "class Shape:\n",
    "    def area(self):\n",
    "        pass"
   ]
  },
  {
   "cell_type": "code",
   "execution_count": 5,
   "id": "5b1a9640",
   "metadata": {},
   "outputs": [],
   "source": [
    "class Circle(Shape):\n",
    "    def __init__(self, radius):\n",
    "        self.radius = radius\n",
    "\n",
    "    def area(self):\n",
    "        return 3.14 * self.radius ** 2"
   ]
  },
  {
   "cell_type": "code",
   "execution_count": 3,
   "id": "d2e75466",
   "metadata": {},
   "outputs": [],
   "source": [
    "class Rectangle(Shape):\n",
    "    def __init__(self, length, breadth):\n",
    "        self.length = length\n",
    "        self.breadth = breadth\n",
    "\n",
    "    def area(self):\n",
    "        return self.length * self.breadth\n",
    "        "
   ]
  },
  {
   "cell_type": "code",
   "execution_count": 6,
   "id": "b6f7005a",
   "metadata": {},
   "outputs": [],
   "source": [
    "c1 = Circle(5)\n",
    "r1 = Rectangle(4,5)"
   ]
  },
  {
   "cell_type": "code",
   "execution_count": 7,
   "id": "d8d850cf",
   "metadata": {},
   "outputs": [
    {
     "data": {
      "text/plain": [
       "True"
      ]
     },
     "execution_count": 7,
     "metadata": {},
     "output_type": "execute_result"
    }
   ],
   "source": [
    "# membership operators\n",
    "isinstance(c1, Circle)"
   ]
  },
  {
   "cell_type": "code",
   "execution_count": 8,
   "id": "414020a1",
   "metadata": {},
   "outputs": [
    {
     "data": {
      "text/plain": [
       "True"
      ]
     },
     "execution_count": 8,
     "metadata": {},
     "output_type": "execute_result"
    }
   ],
   "source": [
    "isinstance(c1, Shape)"
   ]
  },
  {
   "cell_type": "code",
   "execution_count": 9,
   "id": "08ddad08",
   "metadata": {},
   "outputs": [
    {
     "data": {
      "text/plain": [
       "False"
      ]
     },
     "execution_count": 9,
     "metadata": {},
     "output_type": "execute_result"
    }
   ],
   "source": [
    "isinstance(r1, Circle)"
   ]
  },
  {
   "cell_type": "code",
   "execution_count": 10,
   "id": "34a83047",
   "metadata": {},
   "outputs": [
    {
     "data": {
      "text/plain": [
       "True"
      ]
     },
     "execution_count": 10,
     "metadata": {},
     "output_type": "execute_result"
    }
   ],
   "source": [
    "issubclass(Circle, Shape)"
   ]
  },
  {
   "cell_type": "code",
   "execution_count": 11,
   "id": "71d3592a",
   "metadata": {},
   "outputs": [],
   "source": [
    "def calculate_area(shape):\n",
    "    return shape.area()"
   ]
  },
  {
   "cell_type": "code",
   "execution_count": 12,
   "id": "f90a0d93",
   "metadata": {},
   "outputs": [
    {
     "data": {
      "text/plain": [
       "78.5"
      ]
     },
     "execution_count": 12,
     "metadata": {},
     "output_type": "execute_result"
    }
   ],
   "source": [
    "calculate_area(c1)"
   ]
  },
  {
   "cell_type": "code",
   "execution_count": 13,
   "id": "ce76c088",
   "metadata": {},
   "outputs": [
    {
     "data": {
      "text/plain": [
       "20"
      ]
     },
     "execution_count": 13,
     "metadata": {},
     "output_type": "execute_result"
    }
   ],
   "source": [
    "calculate_area(r1)"
   ]
  },
  {
   "cell_type": "code",
   "execution_count": 14,
   "id": "d1f07cec",
   "metadata": {},
   "outputs": [],
   "source": [
    "class Nucleus(Shape):\n",
    "    def area(self):\n",
    "        return 0"
   ]
  },
  {
   "cell_type": "code",
   "execution_count": 15,
   "id": "f43cfbe7",
   "metadata": {},
   "outputs": [
    {
     "data": {
      "text/plain": [
       "0"
      ]
     },
     "execution_count": 15,
     "metadata": {},
     "output_type": "execute_result"
    }
   ],
   "source": [
    "n1 = Nucleus()\n",
    "calculate_area(n1)"
   ]
  },
  {
   "cell_type": "code",
   "execution_count": 18,
   "id": "0fd6f3b8",
   "metadata": {},
   "outputs": [],
   "source": [
    "# Duck Typing\n",
    "\n",
    "class Animal:\n",
    "    def make_sound(self):\n",
    "        print(\"....Roaring..........\")\n",
    "\n",
    "\n",
    "class Vehicle:\n",
    "    def make_sound(self):\n",
    "        print(\"....Engine grrrrr..........\")"
   ]
  },
  {
   "cell_type": "code",
   "execution_count": 19,
   "id": "18c09707",
   "metadata": {},
   "outputs": [],
   "source": [
    "def make_it_sound(sample):\n",
    "    sample.make_sound()"
   ]
  },
  {
   "cell_type": "code",
   "execution_count": 20,
   "id": "f2968fde",
   "metadata": {},
   "outputs": [],
   "source": [
    "a = Animal()\n",
    "v = Vehicle()"
   ]
  },
  {
   "cell_type": "code",
   "execution_count": 21,
   "id": "feed7d71",
   "metadata": {},
   "outputs": [
    {
     "name": "stdout",
     "output_type": "stream",
     "text": [
      "....Roaring..........\n",
      "....Engine grrrrr..........\n"
     ]
    }
   ],
   "source": [
    "make_it_sound(a)\n",
    "make_it_sound(v)"
   ]
  },
  {
   "cell_type": "code",
   "execution_count": 22,
   "id": "53ff5b98",
   "metadata": {},
   "outputs": [
    {
     "ename": "AttributeError",
     "evalue": "'str' object has no attribute 'make_sound'",
     "output_type": "error",
     "traceback": [
      "\u001b[31m---------------------------------------------------------------------------\u001b[39m",
      "\u001b[31mAttributeError\u001b[39m                            Traceback (most recent call last)",
      "\u001b[36mCell\u001b[39m\u001b[36m \u001b[39m\u001b[32mIn[22]\u001b[39m\u001b[32m, line 1\u001b[39m\n\u001b[32m----> \u001b[39m\u001b[32m1\u001b[39m \u001b[43mmake_it_sound\u001b[49m\u001b[43m(\u001b[49m\u001b[33;43m\"\u001b[39;49m\u001b[33;43mhello\u001b[39;49m\u001b[33;43m\"\u001b[39;49m\u001b[43m)\u001b[49m\n",
      "\u001b[36mCell\u001b[39m\u001b[36m \u001b[39m\u001b[32mIn[19]\u001b[39m\u001b[32m, line 2\u001b[39m, in \u001b[36mmake_it_sound\u001b[39m\u001b[34m(sample)\u001b[39m\n\u001b[32m      1\u001b[39m \u001b[38;5;28;01mdef\u001b[39;00m\u001b[38;5;250m \u001b[39m\u001b[34mmake_it_sound\u001b[39m(sample):\n\u001b[32m----> \u001b[39m\u001b[32m2\u001b[39m     \u001b[43msample\u001b[49m\u001b[43m.\u001b[49m\u001b[43mmake_sound\u001b[49m()\n",
      "\u001b[31mAttributeError\u001b[39m: 'str' object has no attribute 'make_sound'"
     ]
    }
   ],
   "source": [
    "make_it_sound(\"hello\")"
   ]
  },
  {
   "cell_type": "code",
   "execution_count": 35,
   "id": "e441d06e",
   "metadata": {},
   "outputs": [],
   "source": [
    "def is_even(number):\n",
    "    # if not isinstance(number, int):\n",
    "    #     return False\n",
    "    if number == 0:\n",
    "        return False\n",
    "    return number%2 == 0"
   ]
  },
  {
   "cell_type": "code",
   "execution_count": 24,
   "id": "70e7a712",
   "metadata": {},
   "outputs": [
    {
     "data": {
      "text/plain": [
       "True"
      ]
     },
     "execution_count": 24,
     "metadata": {},
     "output_type": "execute_result"
    }
   ],
   "source": [
    "is_even(4)"
   ]
  },
  {
   "cell_type": "code",
   "execution_count": 25,
   "id": "050c36ca",
   "metadata": {},
   "outputs": [
    {
     "data": {
      "text/plain": [
       "False"
      ]
     },
     "execution_count": 25,
     "metadata": {},
     "output_type": "execute_result"
    }
   ],
   "source": [
    "is_even(5)"
   ]
  },
  {
   "cell_type": "code",
   "execution_count": 31,
   "id": "2cc57ca0",
   "metadata": {},
   "outputs": [
    {
     "data": {
      "text/plain": [
       "False"
      ]
     },
     "execution_count": 31,
     "metadata": {},
     "output_type": "execute_result"
    }
   ],
   "source": [
    "is_even(0)"
   ]
  },
  {
   "cell_type": "code",
   "execution_count": 27,
   "id": "23df1fe9",
   "metadata": {},
   "outputs": [
    {
     "data": {
      "text/plain": [
       "True"
      ]
     },
     "execution_count": 27,
     "metadata": {},
     "output_type": "execute_result"
    }
   ],
   "source": [
    "is_even(-2)"
   ]
  },
  {
   "cell_type": "code",
   "execution_count": 28,
   "id": "eb09fa48",
   "metadata": {},
   "outputs": [
    {
     "data": {
      "text/plain": [
       "False"
      ]
     },
     "execution_count": 28,
     "metadata": {},
     "output_type": "execute_result"
    }
   ],
   "source": [
    "is_even(2.1)"
   ]
  },
  {
   "cell_type": "code",
   "execution_count": 29,
   "id": "5ad306d5",
   "metadata": {},
   "outputs": [
    {
     "data": {
      "text/plain": [
       "True"
      ]
     },
     "execution_count": 29,
     "metadata": {},
     "output_type": "execute_result"
    }
   ],
   "source": [
    "is_even(2.0)"
   ]
  },
  {
   "cell_type": "code",
   "execution_count": 36,
   "id": "f1072728",
   "metadata": {},
   "outputs": [
    {
     "ename": "TypeError",
     "evalue": "not all arguments converted during string formatting",
     "output_type": "error",
     "traceback": [
      "\u001b[31m---------------------------------------------------------------------------\u001b[39m",
      "\u001b[31mTypeError\u001b[39m                                 Traceback (most recent call last)",
      "\u001b[36mCell\u001b[39m\u001b[36m \u001b[39m\u001b[32mIn[36]\u001b[39m\u001b[32m, line 1\u001b[39m\n\u001b[32m----> \u001b[39m\u001b[32m1\u001b[39m \u001b[43mis_even\u001b[49m\u001b[43m(\u001b[49m\u001b[33;43m\"\u001b[39;49m\u001b[33;43m2\u001b[39;49m\u001b[33;43m\"\u001b[39;49m\u001b[43m)\u001b[49m\n",
      "\u001b[36mCell\u001b[39m\u001b[36m \u001b[39m\u001b[32mIn[35]\u001b[39m\u001b[32m, line 6\u001b[39m, in \u001b[36mis_even\u001b[39m\u001b[34m(number)\u001b[39m\n\u001b[32m      4\u001b[39m \u001b[38;5;28;01mif\u001b[39;00m number == \u001b[32m0\u001b[39m:\n\u001b[32m      5\u001b[39m     \u001b[38;5;28;01mreturn\u001b[39;00m \u001b[38;5;28;01mFalse\u001b[39;00m\n\u001b[32m----> \u001b[39m\u001b[32m6\u001b[39m \u001b[38;5;28;01mreturn\u001b[39;00m \u001b[43mnumber\u001b[49m\u001b[43m%\u001b[49m\u001b[32;43m2\u001b[39;49m == \u001b[32m0\u001b[39m\n",
      "\u001b[31mTypeError\u001b[39m: not all arguments converted during string formatting"
     ]
    }
   ],
   "source": [
    "is_even(\"2\")"
   ]
  },
  {
   "cell_type": "markdown",
   "id": "b90af1da",
   "metadata": {},
   "source": [
    "# Abstract class"
   ]
  },
  {
   "cell_type": "code",
   "execution_count": 38,
   "id": "86d118cf",
   "metadata": {},
   "outputs": [],
   "source": [
    "class Shape:\n",
    "    def area(self):\n",
    "        pass"
   ]
  },
  {
   "cell_type": "code",
   "execution_count": 39,
   "id": "424a537e",
   "metadata": {},
   "outputs": [],
   "source": [
    "class Circle:\n",
    "    pass"
   ]
  },
  {
   "cell_type": "code",
   "execution_count": 42,
   "id": "1195cced",
   "metadata": {},
   "outputs": [],
   "source": [
    "from abc import ABC, abstractmethod"
   ]
  },
  {
   "cell_type": "code",
   "execution_count": null,
   "id": "c68114d0",
   "metadata": {},
   "outputs": [],
   "source": [
    "class Animal:\n",
    "\n",
    "    @abstractmethod\n",
    "    def sound(self):\n",
    "        pass\n",
    "\n",
    "    def messsage(self):\n",
    "        print(\"Hello\")"
   ]
  },
  {
   "cell_type": "code",
   "execution_count": 49,
   "id": "3addc7ab",
   "metadata": {},
   "outputs": [],
   "source": [
    "class Dog(Animal):\n",
    "    \n",
    "    def sound(self):\n",
    "        return \"Barkin....g\""
   ]
  },
  {
   "cell_type": "code",
   "execution_count": null,
   "id": "02f064a3",
   "metadata": {},
   "outputs": [],
   "source": [
    "class Cat(Animal):\n",
    "\n",
    "    def sound(self):\n",
    "        return \"Meow..................\"\n",
    "        "
   ]
  }
 ],
 "metadata": {
  "kernelspec": {
   "display_name": "Python 3",
   "language": "python",
   "name": "python3"
  },
  "language_info": {
   "codemirror_mode": {
    "name": "ipython",
    "version": 3
   },
   "file_extension": ".py",
   "mimetype": "text/x-python",
   "name": "python",
   "nbconvert_exporter": "python",
   "pygments_lexer": "ipython3",
   "version": "3.11.9"
  }
 },
 "nbformat": 4,
 "nbformat_minor": 5
}
