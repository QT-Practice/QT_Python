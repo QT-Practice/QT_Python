{
 "cells": [
  {
   "cell_type": "code",
   "execution_count": 1,
   "id": "3ce2f6c7",
   "metadata": {},
   "outputs": [],
   "source": [
    "# Avoid cryptic names\n",
    "a = 5\n",
    "\n",
    "max = 5"
   ]
  },
  {
   "cell_type": "code",
   "execution_count": 4,
   "id": "fda2579c",
   "metadata": {},
   "outputs": [
    {
     "ename": "IndentationError",
     "evalue": "unexpected indent (2271205885.py, line 2)",
     "output_type": "error",
     "traceback": [
      "  \u001b[36mCell\u001b[39m\u001b[36m \u001b[39m\u001b[32mIn[4]\u001b[39m\u001b[32m, line 2\u001b[39m\n\u001b[31m    \u001b[39m\u001b[31mend = 10\u001b[39m\n    ^\n\u001b[31mIndentationError\u001b[39m\u001b[31m:\u001b[39m unexpected indent\n"
     ]
    }
   ],
   "source": [
    "start = 1\n",
    "  end = 10"
   ]
  },
  {
   "cell_type": "code",
   "execution_count": 5,
   "id": "0c195033",
   "metadata": {},
   "outputs": [
    {
     "name": "stdout",
     "output_type": "stream",
     "text": [
      "1\n",
      "2\n"
     ]
    }
   ],
   "source": [
    "index = 1\n",
    "while index < 3:\n",
    "    print(index)\n",
    "    index = index + 1\n"
   ]
  },
  {
   "cell_type": "code",
   "execution_count": 6,
   "id": "3baf4938",
   "metadata": {},
   "outputs": [
    {
     "ename": "IndentationError",
     "evalue": "unexpected indent (2150074554.py, line 2)",
     "output_type": "error",
     "traceback": [
      "  \u001b[36mCell\u001b[39m\u001b[36m \u001b[39m\u001b[32mIn[6]\u001b[39m\u001b[32m, line 2\u001b[39m\n\u001b[31m    \u001b[39m\u001b[31mwhile index < 3:\u001b[39m\n    ^\n\u001b[31mIndentationError\u001b[39m\u001b[31m:\u001b[39m unexpected indent\n"
     ]
    }
   ],
   "source": [
    "index = 1\n",
    " while index < 3:\n",
    "    print(index)\n",
    "    index = index + 1"
   ]
  },
  {
   "cell_type": "code",
   "execution_count": 11,
   "id": "4993a136",
   "metadata": {},
   "outputs": [
    {
     "ename": "IndentationError",
     "evalue": "unindent does not match any outer indentation level (<tokenize>, line 4)",
     "output_type": "error",
     "traceback": [
      "  \u001b[36mFile \u001b[39m\u001b[32m<tokenize>:4\u001b[39m\n\u001b[31m    \u001b[39m\u001b[31mindex = index + 1\u001b[39m\n    ^\n\u001b[31mIndentationError\u001b[39m\u001b[31m:\u001b[39m unindent does not match any outer indentation level\n"
     ]
    }
   ],
   "source": [
    "index = 1\n",
    "while index < 3:\n",
    "    print(index)\n",
    "   index = index + 1"
   ]
  },
  {
   "cell_type": "code",
   "execution_count": null,
   "id": "234d6038",
   "metadata": {},
   "outputs": [],
   "source": []
  }
 ],
 "metadata": {
  "kernelspec": {
   "display_name": "Python 3",
   "language": "python",
   "name": "python3"
  },
  "language_info": {
   "codemirror_mode": {
    "name": "ipython",
    "version": 3
   },
   "file_extension": ".py",
   "mimetype": "text/x-python",
   "name": "python",
   "nbconvert_exporter": "python",
   "pygments_lexer": "ipython3",
   "version": "3.11.9"
  }
 },
 "nbformat": 4,
 "nbformat_minor": 5
}
