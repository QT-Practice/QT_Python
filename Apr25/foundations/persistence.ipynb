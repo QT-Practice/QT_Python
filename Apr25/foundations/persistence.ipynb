{
 "cells": [
  {
   "cell_type": "code",
   "execution_count": null,
   "id": "50fff221",
   "metadata": {},
   "outputs": [],
   "source": [
    "# Properties in python\n",
    "\n",
    "class Account:\n",
    "    def __init__(self, number:str, balance: int|float, name:str):\n",
    "        self._number = number\n",
    "        self._balance = balance\n",
    "        self._name = name\n",
    "\n",
    "    def withdraw(self, amount:int|float) -> None:\n",
    "        self._balance -= amount\n",
    "\n",
    "    def deposit(self, amount:int|float) -> None:\n",
    "        self._balance += amount\n",
    "\n",
    "    def get_balance(self) -> int|float:\n",
    "        return self._balance\n",
    "    \n",
    "    def change_name(self,new_name:str) -> None:\n",
    "        self._name = new_name\n",
    "        \n"
   ]
  },
  {
   "cell_type": "code",
   "execution_count": 7,
   "id": "cba1b979",
   "metadata": {},
   "outputs": [],
   "source": [
    "a1 = Account(\"1234\", 100000, \"test1\")\n"
   ]
  },
  {
   "cell_type": "code",
   "execution_count": 8,
   "id": "fca1391d",
   "metadata": {},
   "outputs": [
    {
     "data": {
      "text/plain": [
       "100000"
      ]
     },
     "execution_count": 8,
     "metadata": {},
     "output_type": "execute_result"
    }
   ],
   "source": [
    "a1.get_balance()"
   ]
  },
  {
   "cell_type": "code",
   "execution_count": 9,
   "id": "96b22eb0",
   "metadata": {},
   "outputs": [],
   "source": [
    "a1.withdraw(5000)"
   ]
  },
  {
   "cell_type": "code",
   "execution_count": 10,
   "id": "1a964c18",
   "metadata": {},
   "outputs": [
    {
     "data": {
      "text/plain": [
       "95000"
      ]
     },
     "execution_count": 10,
     "metadata": {},
     "output_type": "execute_result"
    }
   ],
   "source": [
    "a1.get_balance()"
   ]
  },
  {
   "cell_type": "code",
   "execution_count": 37,
   "id": "37e1fbab",
   "metadata": {},
   "outputs": [],
   "source": [
    "class Account:\n",
    "    def __init__(self, number:str, balance: int|float, name:str):\n",
    "        self._number = number\n",
    "        self._balance = balance\n",
    "        self._name = name\n",
    "\n",
    "    def withdraw(self, amount:int|float) -> None:\n",
    "        self._balance -= amount\n",
    "\n",
    "    def deposit(self, amount:int|float) -> None:\n",
    "        self._balance += amount\n",
    "\n",
    "    @property\n",
    "    def balance(self):\n",
    "        return self._balance\n",
    "    \n",
    "    @property\n",
    "    def name(self):\n",
    "        return self._name\n",
    "    \n",
    "    @name.setter\n",
    "    def name(self, value):\n",
    "        self._name = value"
   ]
  },
  {
   "cell_type": "code",
   "execution_count": 38,
   "id": "baf38901",
   "metadata": {},
   "outputs": [],
   "source": [
    "a2 = Account(\"12345\", 100000, \"test2\")"
   ]
  },
  {
   "cell_type": "code",
   "execution_count": 39,
   "id": "38ba362c",
   "metadata": {},
   "outputs": [
    {
     "data": {
      "text/plain": [
       "100000"
      ]
     },
     "execution_count": 39,
     "metadata": {},
     "output_type": "execute_result"
    }
   ],
   "source": [
    "a2.balance"
   ]
  },
  {
   "cell_type": "code",
   "execution_count": 40,
   "id": "72b33c8d",
   "metadata": {},
   "outputs": [
    {
     "data": {
      "text/plain": [
       "'test2'"
      ]
     },
     "execution_count": 40,
     "metadata": {},
     "output_type": "execute_result"
    }
   ],
   "source": [
    "a2.name"
   ]
  },
  {
   "cell_type": "code",
   "execution_count": 41,
   "id": "b3f470ed",
   "metadata": {},
   "outputs": [],
   "source": [
    "a2.name = \"testing_2\""
   ]
  },
  {
   "cell_type": "code",
   "execution_count": 42,
   "id": "d904d4c0",
   "metadata": {},
   "outputs": [
    {
     "data": {
      "text/plain": [
       "'testing_2'"
      ]
     },
     "execution_count": 42,
     "metadata": {},
     "output_type": "execute_result"
    }
   ],
   "source": [
    "a2.name"
   ]
  },
  {
   "cell_type": "code",
   "execution_count": 34,
   "id": "33650cd4",
   "metadata": {},
   "outputs": [],
   "source": [
    "class Person:\n",
    "    def __init__(self, name):\n",
    "        self._name = name\n",
    "\n",
    "    @property\n",
    "    def name(self):\n",
    "        return self._name\n",
    "\n",
    "    @name.setter\n",
    "    def name(self, value):\n",
    "        if not isinstance(value, str):\n",
    "            raise TypeError('Name must be a string')\n",
    "        self._name = value"
   ]
  },
  {
   "cell_type": "code",
   "execution_count": 35,
   "id": "3f10c896",
   "metadata": {},
   "outputs": [],
   "source": [
    "p = Person(\"test\")"
   ]
  },
  {
   "cell_type": "code",
   "execution_count": 36,
   "id": "beb13637",
   "metadata": {},
   "outputs": [],
   "source": [
    "p.name = \"hello\""
   ]
  },
  {
   "cell_type": "code",
   "execution_count": null,
   "id": "ddb4300e",
   "metadata": {},
   "outputs": [],
   "source": [
    "## Python file handling"
   ]
  },
  {
   "cell_type": "code",
   "execution_count": 46,
   "id": "c068adb5",
   "metadata": {},
   "outputs": [],
   "source": [
    "# relative path\n",
    "path = 'data/test.txt'\n",
    "# absolute path\n",
    "# r'C:\\khajaclassroom\\Python\\Apr25\\foundations\\data\\test.txt'\n",
    "file = open('data/test.txt', mode='r')"
   ]
  },
  {
   "cell_type": "code",
   "execution_count": 44,
   "id": "2ace6b91",
   "metadata": {},
   "outputs": [
    {
     "data": {
      "text/plain": [
       "'Hello \\nHow are you'"
      ]
     },
     "execution_count": 44,
     "metadata": {},
     "output_type": "execute_result"
    }
   ],
   "source": [
    "file.read()"
   ]
  },
  {
   "cell_type": "code",
   "execution_count": 47,
   "id": "8ea659ff",
   "metadata": {},
   "outputs": [
    {
     "name": "stdout",
     "output_type": "stream",
     "text": [
      "Hello \n",
      "\n",
      "How are you\n"
     ]
    }
   ],
   "source": [
    "for line in file.readlines():\n",
    "    print(line)"
   ]
  },
  {
   "cell_type": "code",
   "execution_count": 48,
   "id": "b6112fab",
   "metadata": {},
   "outputs": [],
   "source": [
    "file.close()"
   ]
  },
  {
   "cell_type": "code",
   "execution_count": 49,
   "id": "2e8553f4",
   "metadata": {},
   "outputs": [
    {
     "name": "stdout",
     "output_type": "stream",
     "text": [
      "Hello \n",
      "How are you\n"
     ]
    }
   ],
   "source": [
    "try:\n",
    "    file = open('data/test.txt', mode='r')\n",
    "    print(file.read())\n",
    "finally:\n",
    "    file.close()"
   ]
  },
  {
   "cell_type": "code",
   "execution_count": 50,
   "id": "463ed17b",
   "metadata": {},
   "outputs": [
    {
     "name": "stdout",
     "output_type": "stream",
     "text": [
      "Hello \n",
      "How are you\n"
     ]
    }
   ],
   "source": [
    "# context managers\n",
    "with open('data/test.txt', mode='r') as file:\n",
    "    print(file.read())"
   ]
  },
  {
   "cell_type": "code",
   "execution_count": 56,
   "id": "43f2f787",
   "metadata": {},
   "outputs": [],
   "source": [
    "with open('data/test1.txt', mode='w') as file:\n",
    "    file.writelines([\"Hello\\n\", \"Hai\\n\"])\n"
   ]
  },
  {
   "cell_type": "code",
   "execution_count": 57,
   "id": "546b849d",
   "metadata": {},
   "outputs": [],
   "source": [
    "with open('data/test1.txt', mode='a') as file:\n",
    "    file.writelines([\"Doing\\n\", \"good\\n\"])"
   ]
  },
  {
   "cell_type": "code",
   "execution_count": 58,
   "id": "442edf91",
   "metadata": {},
   "outputs": [],
   "source": [
    "courses_dict = {}\n",
    "courses_dict['Python'] = {\n",
    "    'name': 'Python',\n",
    "    'topics': ['Standard', 'API']\n",
    "}\n",
    "courses_dict['Linux'] = {\n",
    "    'name': 'Linux',\n",
    "    'topics': ['bash', 'Debian']\n",
    "}"
   ]
  },
  {
   "cell_type": "code",
   "execution_count": 59,
   "id": "ac1f8121",
   "metadata": {},
   "outputs": [
    {
     "data": {
      "text/plain": [
       "{'Python': {'name': 'Python', 'topics': ['Standard', 'API']},\n",
       " 'Linux': {'name': 'Linux', 'topics': ['bash', 'Debian']}}"
      ]
     },
     "execution_count": 59,
     "metadata": {},
     "output_type": "execute_result"
    }
   ],
   "source": [
    "courses_dict"
   ]
  },
  {
   "cell_type": "code",
   "execution_count": 64,
   "id": "60f67568",
   "metadata": {},
   "outputs": [],
   "source": [
    "import json\n",
    "with open('data/courses.json', mode='w') as courses_file:\n",
    "    json.dump(courses_dict, courses_file,indent=4)"
   ]
  },
  {
   "cell_type": "code",
   "execution_count": 65,
   "id": "f9a7fc32",
   "metadata": {},
   "outputs": [
    {
     "name": "stdout",
     "output_type": "stream",
     "text": [
      "Collecting pyyaml\n",
      "  Using cached PyYAML-6.0.2-cp311-cp311-win_amd64.whl.metadata (2.1 kB)\n",
      "Using cached PyYAML-6.0.2-cp311-cp311-win_amd64.whl (161 kB)\n",
      "Installing collected packages: pyyaml\n",
      "Successfully installed pyyaml-6.0.2\n",
      "Note: you may need to restart the kernel to use updated packages.\n"
     ]
    },
    {
     "name": "stderr",
     "output_type": "stream",
     "text": [
      "\n",
      "[notice] A new release of pip is available: 24.0 -> 25.1\n",
      "[notice] To update, run: python.exe -m pip install --upgrade pip\n"
     ]
    }
   ],
   "source": [
    "%pip install pyyaml"
   ]
  },
  {
   "cell_type": "code",
   "execution_count": 66,
   "id": "687e5bf0",
   "metadata": {},
   "outputs": [],
   "source": [
    "import yaml\n",
    "with open('data/courses.yaml', mode='w') as courses_file:\n",
    "    yaml.dump(courses_dict, courses_file)"
   ]
  },
  {
   "cell_type": "code",
   "execution_count": 67,
   "id": "4255ca98",
   "metadata": {},
   "outputs": [
    {
     "name": "stdout",
     "output_type": "stream",
     "text": [
      "Sheri Nowmer\n"
     ]
    }
   ],
   "source": [
    "# Reading json files\n",
    "import json\n",
    "with open('data/sample.json', mode='r') as sample_file:\n",
    "    sample_dict = json.load(sample_file)\n",
    "    print(sample_dict['full_name'])\n"
   ]
  },
  {
   "cell_type": "code",
   "execution_count": 68,
   "id": "50cf1216",
   "metadata": {},
   "outputs": [
    {
     "name": "stdout",
     "output_type": "stream",
     "text": [
      "Sheri Nowmer\n"
     ]
    }
   ],
   "source": [
    "import yaml\n",
    "with open('data/sample.yaml', mode='r') as sample_file:\n",
    "    sample_dict = yaml.safe_load(sample_file)\n",
    "    print(sample_dict['full_name'])"
   ]
  }
 ],
 "metadata": {
  "kernelspec": {
   "display_name": "Python 3",
   "language": "python",
   "name": "python3"
  },
  "language_info": {
   "codemirror_mode": {
    "name": "ipython",
    "version": 3
   },
   "file_extension": ".py",
   "mimetype": "text/x-python",
   "name": "python",
   "nbconvert_exporter": "python",
   "pygments_lexer": "ipython3",
   "version": "3.11.9"
  }
 },
 "nbformat": 4,
 "nbformat_minor": 5
}
