{
 "cells": [
  {
   "cell_type": "markdown",
   "id": "55c19b1d",
   "metadata": {},
   "source": [
    "# Asynchronous in python"
   ]
  },
  {
   "cell_type": "code",
   "execution_count": 4,
   "id": "6a439c69",
   "metadata": {},
   "outputs": [],
   "source": [
    "import time\n",
    "def say_hello():\n",
    "    print(\"Hello\")\n",
    "    time.sleep(5)\n",
    "    print(\"World\")\n",
    "\n",
    "def say_hello_again():\n",
    "    print(\"Hello\")\n",
    "    time.sleep(2)\n",
    "    print(\"World Again\")\n",
    "    "
   ]
  },
  {
   "cell_type": "code",
   "execution_count": 5,
   "id": "475dc89e",
   "metadata": {},
   "outputs": [
    {
     "name": "stdout",
     "output_type": "stream",
     "text": [
      "Hello\n",
      "World\n",
      "Hello\n",
      "World Again\n"
     ]
    }
   ],
   "source": [
    "say_hello()\n",
    "say_hello_again()"
   ]
  },
  {
   "cell_type": "code",
   "execution_count": 8,
   "id": "1df26b63",
   "metadata": {},
   "outputs": [],
   "source": [
    "import asyncio\n",
    "\n",
    "async def say_hello():\n",
    "    print(\"Hello\")\n",
    "    await asyncio.sleep(5)\n",
    "    print(\"World\")\n",
    "\n",
    "\n",
    "async def say_hello_again():\n",
    "    print(\"Hello Again\")\n",
    "    await asyncio.sleep(2)\n",
    "    print(\"World Again\")"
   ]
  },
  {
   "cell_type": "code",
   "execution_count": 9,
   "id": "5290fcc0",
   "metadata": {},
   "outputs": [
    {
     "name": "stdout",
     "output_type": "stream",
     "text": [
      "Hello\n",
      "Hello Again\n",
      "World Again\n",
      "World\n"
     ]
    },
    {
     "data": {
      "text/plain": [
       "[None, None]"
      ]
     },
     "execution_count": 9,
     "metadata": {},
     "output_type": "execute_result"
    }
   ],
   "source": [
    "await asyncio.gather(say_hello(), say_hello_again())"
   ]
  }
 ],
 "metadata": {
  "kernelspec": {
   "display_name": "Python 3",
   "language": "python",
   "name": "python3"
  },
  "language_info": {
   "codemirror_mode": {
    "name": "ipython",
    "version": 3
   },
   "file_extension": ".py",
   "mimetype": "text/x-python",
   "name": "python",
   "nbconvert_exporter": "python",
   "pygments_lexer": "ipython3",
   "version": "3.11.9"
  }
 },
 "nbformat": 4,
 "nbformat_minor": 5
}
