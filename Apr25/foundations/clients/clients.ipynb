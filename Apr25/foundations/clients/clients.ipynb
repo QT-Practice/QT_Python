{
 "cells": [
  {
   "cell_type": "code",
   "execution_count": 1,
   "id": "0f2c64af",
   "metadata": {},
   "outputs": [
    {
     "name": "stdout",
     "output_type": "stream",
     "text": [
      "Collecting requests\n",
      "  Using cached requests-2.32.3-py3-none-any.whl.metadata (4.6 kB)\n",
      "Collecting charset-normalizer<4,>=2 (from requests)\n",
      "  Downloading charset_normalizer-3.4.2-cp311-cp311-win_amd64.whl.metadata (36 kB)\n",
      "Collecting idna<4,>=2.5 (from requests)\n",
      "  Using cached idna-3.10-py3-none-any.whl.metadata (10 kB)\n",
      "Collecting urllib3<3,>=1.21.1 (from requests)\n",
      "  Using cached urllib3-2.4.0-py3-none-any.whl.metadata (6.5 kB)\n",
      "Collecting certifi>=2017.4.17 (from requests)\n",
      "  Using cached certifi-2025.4.26-py3-none-any.whl.metadata (2.5 kB)\n",
      "Using cached requests-2.32.3-py3-none-any.whl (64 kB)\n",
      "Using cached certifi-2025.4.26-py3-none-any.whl (159 kB)\n",
      "Downloading charset_normalizer-3.4.2-cp311-cp311-win_amd64.whl (105 kB)\n",
      "   ---------------------------------------- 0.0/105.4 kB ? eta -:--:--\n",
      "   ---------------------------------------- 105.4/105.4 kB 6.3 MB/s eta 0:00:00\n",
      "Using cached idna-3.10-py3-none-any.whl (70 kB)\n",
      "Using cached urllib3-2.4.0-py3-none-any.whl (128 kB)\n",
      "Installing collected packages: urllib3, idna, charset-normalizer, certifi, requests\n",
      "Successfully installed certifi-2025.4.26 charset-normalizer-3.4.2 idna-3.10 requests-2.32.3 urllib3-2.4.0\n",
      "Note: you may need to restart the kernel to use updated packages.\n"
     ]
    },
    {
     "name": "stderr",
     "output_type": "stream",
     "text": [
      "\n",
      "[notice] A new release of pip is available: 24.0 -> 25.1.1\n",
      "[notice] To update, run: python.exe -m pip install --upgrade pip\n"
     ]
    }
   ],
   "source": [
    "%pip install requests"
   ]
  },
  {
   "cell_type": "code",
   "execution_count": 2,
   "id": "f9e167a4",
   "metadata": {},
   "outputs": [],
   "source": [
    "import requests"
   ]
  },
  {
   "cell_type": "code",
   "execution_count": 3,
   "id": "7ee7785f",
   "metadata": {},
   "outputs": [],
   "source": [
    "url = \"https://fakestoreapi.com/products/1\"\n",
    "response = requests.get(url)"
   ]
  },
  {
   "cell_type": "code",
   "execution_count": 4,
   "id": "03f259bd",
   "metadata": {},
   "outputs": [
    {
     "data": {
      "text/plain": [
       "<Response [200]>"
      ]
     },
     "execution_count": 4,
     "metadata": {},
     "output_type": "execute_result"
    }
   ],
   "source": [
    "response"
   ]
  },
  {
   "cell_type": "code",
   "execution_count": 5,
   "id": "f5facf23",
   "metadata": {},
   "outputs": [
    {
     "data": {
      "text/plain": [
       "requests.models.Response"
      ]
     },
     "execution_count": 5,
     "metadata": {},
     "output_type": "execute_result"
    }
   ],
   "source": [
    "type(response)"
   ]
  },
  {
   "cell_type": "code",
   "execution_count": 6,
   "id": "e9cbdcbc",
   "metadata": {},
   "outputs": [
    {
     "data": {
      "text/plain": [
       "200"
      ]
     },
     "execution_count": 6,
     "metadata": {},
     "output_type": "execute_result"
    }
   ],
   "source": [
    "response.status_code"
   ]
  },
  {
   "cell_type": "code",
   "execution_count": 7,
   "id": "a1260fbe",
   "metadata": {},
   "outputs": [
    {
     "data": {
      "text/plain": [
       "b'{\"id\":1,\"title\":\"Fjallraven - Foldsack No. 1 Backpack, Fits 15 Laptops\",\"price\":109.95,\"description\":\"Your perfect pack for everyday use and walks in the forest. Stash your laptop (up to 15 inches) in the padded sleeve, your everyday\",\"category\":\"men\\'s clothing\",\"image\":\"https://fakestoreapi.com/img/81fPKd-2AYL._AC_SL1500_.jpg\",\"rating\":{\"rate\":3.9,\"count\":120}}'"
      ]
     },
     "execution_count": 7,
     "metadata": {},
     "output_type": "execute_result"
    }
   ],
   "source": [
    "response.content"
   ]
  },
  {
   "cell_type": "code",
   "execution_count": 8,
   "id": "7cd7804e",
   "metadata": {},
   "outputs": [
    {
     "name": "stdout",
     "output_type": "stream",
     "text": [
      "b'{\"id\":1,\"title\":\"Fjallraven - Foldsack No. 1 Backpack, Fits 15 Laptops\",\"price\":109.95,\"description\":\"Your perfect pack for everyday use and walks in the forest. Stash your laptop (up to 15 inches) in the padded sleeve, your everyday\",\"category\":\"men\\'s clothing\",\"image\":\"https://fakestoreapi.com/img/81fPKd-2AYL._AC_SL1500_.jpg\",\"rating\":{\"rate\":3.9,\"count\":120}}'\n"
     ]
    }
   ],
   "source": [
    "import requests\n",
    "url = \"https://fakestoreapi.com/products/1\"\n",
    "response = requests.get(url)\n",
    "if response.status_code == 200:\n",
    "    print(response.content)"
   ]
  },
  {
   "cell_type": "code",
   "execution_count": 12,
   "id": "93997824",
   "metadata": {},
   "outputs": [],
   "source": [
    "import requests\n",
    "url = \"https://api.open-meteo.com/v1/forecast?latitude=17.38&longitude=78.48&hourly=temperature_2m&forecast_days=1\"\n",
    "response = requests.get(url=url)"
   ]
  },
  {
   "cell_type": "code",
   "execution_count": 13,
   "id": "3d1d8799",
   "metadata": {},
   "outputs": [
    {
     "data": {
      "text/plain": [
       "<Response [200]>"
      ]
     },
     "execution_count": 13,
     "metadata": {},
     "output_type": "execute_result"
    }
   ],
   "source": [
    "response"
   ]
  },
  {
   "cell_type": "code",
   "execution_count": 14,
   "id": "95dc621a",
   "metadata": {},
   "outputs": [
    {
     "data": {
      "text/plain": [
       "b'{\"latitude\":17.375,\"longitude\":78.5,\"generationtime_ms\":0.011920928955078125,\"utc_offset_seconds\":0,\"timezone\":\"GMT\",\"timezone_abbreviation\":\"GMT\",\"elevation\":498.0,\"hourly_units\":{\"time\":\"iso8601\",\"temperature_2m\":\"\\xc2\\xb0C\"},\"hourly\":{\"time\":[\"2025-05-08T00:00\",\"2025-05-08T01:00\",\"2025-05-08T02:00\",\"2025-05-08T03:00\",\"2025-05-08T04:00\",\"2025-05-08T05:00\",\"2025-05-08T06:00\",\"2025-05-08T07:00\",\"2025-05-08T08:00\",\"2025-05-08T09:00\",\"2025-05-08T10:00\",\"2025-05-08T11:00\",\"2025-05-08T12:00\",\"2025-05-08T13:00\",\"2025-05-08T14:00\",\"2025-05-08T15:00\",\"2025-05-08T16:00\",\"2025-05-08T17:00\",\"2025-05-08T18:00\",\"2025-05-08T19:00\",\"2025-05-08T20:00\",\"2025-05-08T21:00\",\"2025-05-08T22:00\",\"2025-05-08T23:00\"],\"temperature_2m\":[25.4,25.4,26.7,28.7,30.9,32.7,34.0,34.8,35.4,35.4,34.5,29.4,29.4,28.2,27.3,27.2,27.1,27.1,27.0,27.0,26.8,26.4,26.0,25.6]}}'"
      ]
     },
     "execution_count": 14,
     "metadata": {},
     "output_type": "execute_result"
    }
   ],
   "source": [
    "response.content"
   ]
  },
  {
   "cell_type": "code",
   "execution_count": 16,
   "id": "c4657dbb",
   "metadata": {},
   "outputs": [
    {
     "data": {
      "text/plain": [
       "dict"
      ]
     },
     "execution_count": 16,
     "metadata": {},
     "output_type": "execute_result"
    }
   ],
   "source": [
    "json_response  = response.json()\n",
    "type(json_response)"
   ]
  },
  {
   "cell_type": "code",
   "execution_count": 17,
   "id": "cf8cec20",
   "metadata": {},
   "outputs": [
    {
     "data": {
      "text/plain": [
       "{'latitude': 17.375,\n",
       " 'longitude': 78.5,\n",
       " 'generationtime_ms': 0.011920928955078125,\n",
       " 'utc_offset_seconds': 0,\n",
       " 'timezone': 'GMT',\n",
       " 'timezone_abbreviation': 'GMT',\n",
       " 'elevation': 498.0,\n",
       " 'hourly_units': {'time': 'iso8601', 'temperature_2m': '°C'},\n",
       " 'hourly': {'time': ['2025-05-08T00:00',\n",
       "   '2025-05-08T01:00',\n",
       "   '2025-05-08T02:00',\n",
       "   '2025-05-08T03:00',\n",
       "   '2025-05-08T04:00',\n",
       "   '2025-05-08T05:00',\n",
       "   '2025-05-08T06:00',\n",
       "   '2025-05-08T07:00',\n",
       "   '2025-05-08T08:00',\n",
       "   '2025-05-08T09:00',\n",
       "   '2025-05-08T10:00',\n",
       "   '2025-05-08T11:00',\n",
       "   '2025-05-08T12:00',\n",
       "   '2025-05-08T13:00',\n",
       "   '2025-05-08T14:00',\n",
       "   '2025-05-08T15:00',\n",
       "   '2025-05-08T16:00',\n",
       "   '2025-05-08T17:00',\n",
       "   '2025-05-08T18:00',\n",
       "   '2025-05-08T19:00',\n",
       "   '2025-05-08T20:00',\n",
       "   '2025-05-08T21:00',\n",
       "   '2025-05-08T22:00',\n",
       "   '2025-05-08T23:00'],\n",
       "  'temperature_2m': [25.4,\n",
       "   25.4,\n",
       "   26.7,\n",
       "   28.7,\n",
       "   30.9,\n",
       "   32.7,\n",
       "   34.0,\n",
       "   34.8,\n",
       "   35.4,\n",
       "   35.4,\n",
       "   34.5,\n",
       "   29.4,\n",
       "   29.4,\n",
       "   28.2,\n",
       "   27.3,\n",
       "   27.2,\n",
       "   27.1,\n",
       "   27.1,\n",
       "   27.0,\n",
       "   27.0,\n",
       "   26.8,\n",
       "   26.4,\n",
       "   26.0,\n",
       "   25.6]}}"
      ]
     },
     "execution_count": 17,
     "metadata": {},
     "output_type": "execute_result"
    }
   ],
   "source": [
    "json_response"
   ]
  },
  {
   "cell_type": "code",
   "execution_count": 20,
   "id": "1c188e53",
   "metadata": {},
   "outputs": [],
   "source": [
    "temperatures= json_response[\"hourly\"][\"temperature_2m\"]"
   ]
  },
  {
   "cell_type": "code",
   "execution_count": 21,
   "id": "237b8ffd",
   "metadata": {},
   "outputs": [
    {
     "data": {
      "text/plain": [
       "25.4"
      ]
     },
     "execution_count": 21,
     "metadata": {},
     "output_type": "execute_result"
    }
   ],
   "source": [
    "min(temperatures)"
   ]
  },
  {
   "cell_type": "code",
   "execution_count": 22,
   "id": "faf0ccff",
   "metadata": {},
   "outputs": [
    {
     "data": {
      "text/plain": [
       "35.4"
      ]
     },
     "execution_count": 22,
     "metadata": {},
     "output_type": "execute_result"
    }
   ],
   "source": [
    "max(temperatures)"
   ]
  }
 ],
 "metadata": {
  "kernelspec": {
   "display_name": ".venv",
   "language": "python",
   "name": "python3"
  },
  "language_info": {
   "codemirror_mode": {
    "name": "ipython",
    "version": 3
   },
   "file_extension": ".py",
   "mimetype": "text/x-python",
   "name": "python",
   "nbconvert_exporter": "python",
   "pygments_lexer": "ipython3",
   "version": "3.11.9"
  }
 },
 "nbformat": 4,
 "nbformat_minor": 5
}
