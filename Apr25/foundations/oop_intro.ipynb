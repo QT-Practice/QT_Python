{
 "cells": [
  {
   "cell_type": "markdown",
   "id": "84e9ac7f",
   "metadata": {},
   "source": [
    "# Classes and objects"
   ]
  },
  {
   "cell_type": "code",
   "execution_count": 5,
   "id": "6063be2b",
   "metadata": {},
   "outputs": [],
   "source": [
    "class Account:\n",
    "    pass"
   ]
  },
  {
   "cell_type": "code",
   "execution_count": 2,
   "id": "6f6efd06",
   "metadata": {},
   "outputs": [
    {
     "data": {
      "text/plain": [
       "str"
      ]
     },
     "execution_count": 2,
     "metadata": {},
     "output_type": "execute_result"
    }
   ],
   "source": [
    "type(\"5\")"
   ]
  },
  {
   "cell_type": "code",
   "execution_count": 3,
   "id": "a0dce0c4",
   "metadata": {},
   "outputs": [],
   "source": [
    "x = \"hello\""
   ]
  },
  {
   "cell_type": "code",
   "execution_count": 4,
   "id": "2d1be5c2",
   "metadata": {},
   "outputs": [
    {
     "data": {
      "text/plain": [
       "'HELLO'"
      ]
     },
     "execution_count": 4,
     "metadata": {},
     "output_type": "execute_result"
    }
   ],
   "source": [
    "x.upper()"
   ]
  },
  {
   "cell_type": "code",
   "execution_count": 10,
   "id": "073f225a",
   "metadata": {},
   "outputs": [],
   "source": [
    "class Account:\n",
    "    def __init__(self, number=0, balance=0):\n",
    "        self.number = number\n",
    "        self.balance = balance\n",
    "        \n",
    "    def withdraw(self, value):\n",
    "        self.balance -= value\n",
    "\n",
    "    def deposit(self, value):\n",
    "        self.balance += value\n",
    "\n",
    "    def transfer(self, account, amount):\n",
    "        account.balance+= amount\n",
    "        self.balance -= amount"
   ]
  },
  {
   "cell_type": "code",
   "execution_count": 7,
   "id": "6c67d9f5",
   "metadata": {},
   "outputs": [],
   "source": [
    "# create object -> instantiate\n",
    "a1 = Account()"
   ]
  },
  {
   "cell_type": "code",
   "execution_count": null,
   "id": "c4956e9e",
   "metadata": {},
   "outputs": [],
   "source": [
    "a2 = Account()"
   ]
  },
  {
   "cell_type": "code",
   "execution_count": null,
   "id": "09095e27",
   "metadata": {},
   "outputs": [],
   "source": [
    "a1.deposit(5000)"
   ]
  },
  {
   "cell_type": "code",
   "execution_count": 13,
   "id": "f7e6e522",
   "metadata": {},
   "outputs": [],
   "source": [
    "your_account = Account(number=1,balance=1000000)"
   ]
  },
  {
   "cell_type": "code",
   "execution_count": 12,
   "id": "6d19d9f0",
   "metadata": {},
   "outputs": [],
   "source": [
    "my_account = Account(number=2, balance=1000000)"
   ]
  },
  {
   "cell_type": "code",
   "execution_count": 14,
   "id": "f3c497bc",
   "metadata": {},
   "outputs": [],
   "source": [
    "your_account.deposit(100000)"
   ]
  },
  {
   "cell_type": "code",
   "execution_count": 15,
   "id": "2c812631",
   "metadata": {},
   "outputs": [
    {
     "data": {
      "text/plain": [
       "1100000"
      ]
     },
     "execution_count": 15,
     "metadata": {},
     "output_type": "execute_result"
    }
   ],
   "source": [
    "your_account.balance"
   ]
  },
  {
   "cell_type": "code",
   "execution_count": 16,
   "id": "8a3844a8",
   "metadata": {},
   "outputs": [],
   "source": [
    "your_account.transfer(account=my_account, amount=100000)"
   ]
  },
  {
   "cell_type": "code",
   "execution_count": 17,
   "id": "d6a79e28",
   "metadata": {},
   "outputs": [
    {
     "data": {
      "text/plain": [
       "1000000"
      ]
     },
     "execution_count": 17,
     "metadata": {},
     "output_type": "execute_result"
    }
   ],
   "source": [
    "your_account.balance"
   ]
  },
  {
   "cell_type": "code",
   "execution_count": 18,
   "id": "bb27498d",
   "metadata": {},
   "outputs": [
    {
     "data": {
      "text/plain": [
       "1100000"
      ]
     },
     "execution_count": 18,
     "metadata": {},
     "output_type": "execute_result"
    }
   ],
   "source": [
    "my_account.balance"
   ]
  },
  {
   "cell_type": "code",
   "execution_count": 30,
   "id": "0f922794",
   "metadata": {},
   "outputs": [],
   "source": [
    "class Vehicle:\n",
    "    def start(self):\n",
    "        print(\"Started.................\")\n",
    "    def stop(self):\n",
    "        print(\"Stopped.................\")"
   ]
  },
  {
   "cell_type": "code",
   "execution_count": 31,
   "id": "16afdb0b",
   "metadata": {},
   "outputs": [],
   "source": [
    "class Car(Vehicle):\n",
    "    def start(self):\n",
    "        print(\"I'm sick, I cant start\")"
   ]
  },
  {
   "cell_type": "code",
   "execution_count": 32,
   "id": "a68697c8",
   "metadata": {},
   "outputs": [],
   "source": [
    "c1 = Car()"
   ]
  },
  {
   "cell_type": "code",
   "execution_count": 26,
   "id": "c5b14e0f",
   "metadata": {},
   "outputs": [
    {
     "name": "stdout",
     "output_type": "stream",
     "text": [
      "Started.................\n"
     ]
    }
   ],
   "source": [
    "c1.start()"
   ]
  },
  {
   "cell_type": "code",
   "execution_count": 34,
   "id": "300f73c9",
   "metadata": {},
   "outputs": [
    {
     "name": "stdout",
     "output_type": "stream",
     "text": [
      "Stopped.................\n"
     ]
    }
   ],
   "source": [
    "c1.stop()"
   ]
  },
  {
   "cell_type": "code",
   "execution_count": 33,
   "id": "52b5f814",
   "metadata": {},
   "outputs": [
    {
     "name": "stdout",
     "output_type": "stream",
     "text": [
      "I'm sick, I cant start\n"
     ]
    }
   ],
   "source": [
    "c1.start()"
   ]
  },
  {
   "cell_type": "code",
   "execution_count": 35,
   "id": "f31fd877",
   "metadata": {},
   "outputs": [
    {
     "data": {
      "text/plain": [
       "'<__main__.Car object at 0x0000013E5F637A90>'"
      ]
     },
     "execution_count": 35,
     "metadata": {},
     "output_type": "execute_result"
    }
   ],
   "source": [
    "c1.__str__()"
   ]
  },
  {
   "cell_type": "code",
   "execution_count": 36,
   "id": "a0685f25",
   "metadata": {},
   "outputs": [
    {
     "data": {
      "text/plain": [
       "'hello'"
      ]
     },
     "execution_count": 36,
     "metadata": {},
     "output_type": "execute_result"
    }
   ],
   "source": [
    "x = \"hello\"\n",
    "x.__str__()"
   ]
  },
  {
   "cell_type": "code",
   "execution_count": 37,
   "id": "14a5eb9c",
   "metadata": {},
   "outputs": [],
   "source": [
    "class Engine:\n",
    "    def start(self):\n",
    "        print(\"Engine is started\")\n",
    "    \n",
    "    def stop(self):\n",
    "        print(\"Engine is stopped\")"
   ]
  },
  {
   "cell_type": "code",
   "execution_count": null,
   "id": "28d1cc05",
   "metadata": {},
   "outputs": [],
   "source": [
    "class Bike:\n",
    "    def __init__(self):\n",
    "        # Bike has engine\n",
    "        self.engine = Engine()\n",
    "    def start(self):\n",
    "        self.engine.start()"
   ]
  },
  {
   "cell_type": "code",
   "execution_count": null,
   "id": "1ff070b4",
   "metadata": {},
   "outputs": [],
   "source": [
    "class Generator:\n",
    "    def __init__(self):\n",
    "        # Generator has engine\n",
    "        self.engine = Engine()\n",
    "    def on(self):\n",
    "        self.engine.start()"
   ]
  }
 ],
 "metadata": {
  "kernelspec": {
   "display_name": "Python 3",
   "language": "python",
   "name": "python3"
  },
  "language_info": {
   "codemirror_mode": {
    "name": "ipython",
    "version": 3
   },
   "file_extension": ".py",
   "mimetype": "text/x-python",
   "name": "python",
   "nbconvert_exporter": "python",
   "pygments_lexer": "ipython3",
   "version": "3.11.9"
  }
 },
 "nbformat": 4,
 "nbformat_minor": 5
}
