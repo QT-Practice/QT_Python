{
 "cells": [
  {
   "cell_type": "code",
   "execution_count": 11,
   "id": "34263bce",
   "metadata": {},
   "outputs": [],
   "source": [
    "class Account:\n",
    "    def __init__(self, number, balance):\n",
    "        self.number = number\n",
    "        self.balance = balance\n",
    "\n",
    "    def withdraw(self, amount):\n",
    "        self.balance -= amount\n",
    "\n",
    "    def deposit(self, amount):\n",
    "        self.balance += amount"
   ]
  },
  {
   "cell_type": "code",
   "execution_count": 12,
   "id": "08a51074",
   "metadata": {},
   "outputs": [],
   "source": [
    "# savings account derived from Account\n",
    "class SavingsAccount(Account):\n",
    "    pass"
   ]
  },
  {
   "cell_type": "code",
   "execution_count": 13,
   "id": "9a220895",
   "metadata": {},
   "outputs": [],
   "source": [
    "# current account derived from Account\n",
    "class CurrentAccount(Account):\n",
    "    pass"
   ]
  },
  {
   "cell_type": "code",
   "execution_count": 14,
   "id": "032abab8",
   "metadata": {},
   "outputs": [],
   "source": [
    "c1 = CurrentAccount(number=1, balance=500000)"
   ]
  },
  {
   "cell_type": "code",
   "execution_count": 15,
   "id": "af797d88",
   "metadata": {},
   "outputs": [],
   "source": [
    "s1 = SavingsAccount(number=1, balance=10000)"
   ]
  },
  {
   "cell_type": "code",
   "execution_count": 16,
   "id": "ccd84f1d",
   "metadata": {},
   "outputs": [
    {
     "data": {
      "text/plain": [
       "500000"
      ]
     },
     "execution_count": 16,
     "metadata": {},
     "output_type": "execute_result"
    }
   ],
   "source": [
    "c1.balance"
   ]
  },
  {
   "cell_type": "code",
   "execution_count": 17,
   "id": "7d378989",
   "metadata": {},
   "outputs": [
    {
     "data": {
      "text/plain": [
       "10000"
      ]
     },
     "execution_count": 17,
     "metadata": {},
     "output_type": "execute_result"
    }
   ],
   "source": [
    "s1.balance"
   ]
  },
  {
   "cell_type": "markdown",
   "id": "98a95ccb",
   "metadata": {},
   "source": [
    "### Savings Account \n",
    "* your are not allowed to deposit or withdraw morethan 50000 in Savings Account\n",
    "* "
   ]
  },
  {
   "cell_type": "code",
   "execution_count": 21,
   "id": "d91c31f3",
   "metadata": {},
   "outputs": [],
   "source": [
    "# savings account derived from Account\n",
    "class SavingsAccount(Account):\n",
    "    \n",
    "    def withdraw(self, amount):\n",
    "        if amount >= 50000:\n",
    "            print(\"invalid transaction. withdraw declined\")\n",
    "        else:\n",
    "            # call base class method\n",
    "            super().withdraw(amount)\n",
    "\n",
    "    def deposit(self, amount):\n",
    "        if amount >= 50000:\n",
    "            print(\"invalid transaction. deposit declined\")\n",
    "        else:\n",
    "            # call base class method\n",
    "            super().deposit(amount)"
   ]
  },
  {
   "cell_type": "code",
   "execution_count": 27,
   "id": "f55afb64",
   "metadata": {},
   "outputs": [],
   "source": [
    "s1 = SavingsAccount(1, 100000)"
   ]
  },
  {
   "cell_type": "code",
   "execution_count": null,
   "id": "52b3cdb8",
   "metadata": {},
   "outputs": [
    {
     "name": "stdout",
     "output_type": "stream",
     "text": [
      "invalid transaction. deposit declined\n"
     ]
    }
   ],
   "source": [
    "s1.deposit(100000)"
   ]
  },
  {
   "cell_type": "code",
   "execution_count": 29,
   "id": "057a94f4",
   "metadata": {},
   "outputs": [
    {
     "data": {
      "text/plain": [
       "100000"
      ]
     },
     "execution_count": 29,
     "metadata": {},
     "output_type": "execute_result"
    }
   ],
   "source": [
    "s1.balance"
   ]
  },
  {
   "cell_type": "code",
   "execution_count": 24,
   "id": "9d8fb7fc",
   "metadata": {},
   "outputs": [
    {
     "name": "stdout",
     "output_type": "stream",
     "text": [
      "invalid transaction. withdraw declined\n"
     ]
    }
   ],
   "source": [
    "s1.withdraw(100000)"
   ]
  },
  {
   "cell_type": "code",
   "execution_count": 30,
   "id": "65ba4c00",
   "metadata": {},
   "outputs": [
    {
     "data": {
      "text/plain": [
       "100000"
      ]
     },
     "execution_count": 30,
     "metadata": {},
     "output_type": "execute_result"
    }
   ],
   "source": [
    "s1.balance"
   ]
  },
  {
   "cell_type": "code",
   "execution_count": 31,
   "id": "56a592c2",
   "metadata": {},
   "outputs": [
    {
     "data": {
      "text/plain": [
       "110000"
      ]
     },
     "execution_count": 31,
     "metadata": {},
     "output_type": "execute_result"
    }
   ],
   "source": [
    "s1.deposit(10000)\n",
    "s1.balance"
   ]
  },
  {
   "cell_type": "code",
   "execution_count": 45,
   "id": "0f6e337f",
   "metadata": {},
   "outputs": [],
   "source": [
    "# Access modifier conventions in python\n",
    "\n",
    "class Account:\n",
    "    def __init__(self, number, balance):\n",
    "        # by convention this is private\n",
    "        self._number = number\n",
    "        self.__balance = balance\n",
    "\n",
    "    def deposit(self, amount):\n",
    "        self.__balance += amount\n",
    "\n",
    "    def get_balance(self):\n",
    "        return self.__balance\n",
    "\n",
    "    "
   ]
  },
  {
   "cell_type": "code",
   "execution_count": 41,
   "id": "69283dc5",
   "metadata": {},
   "outputs": [],
   "source": [
    "a1 = Account(1, 10000)"
   ]
  },
  {
   "cell_type": "code",
   "execution_count": 46,
   "id": "0874c3c4",
   "metadata": {},
   "outputs": [
    {
     "ename": "AttributeError",
     "evalue": "'Account' object has no attribute '__balance'",
     "output_type": "error",
     "traceback": [
      "\u001b[31m---------------------------------------------------------------------------\u001b[39m",
      "\u001b[31mAttributeError\u001b[39m                            Traceback (most recent call last)",
      "\u001b[36mCell\u001b[39m\u001b[36m \u001b[39m\u001b[32mIn[46]\u001b[39m\u001b[32m, line 1\u001b[39m\n\u001b[32m----> \u001b[39m\u001b[32m1\u001b[39m \u001b[43ma1\u001b[49m\u001b[43m.\u001b[49m\u001b[43m__balance\u001b[49m += \u001b[32m100\u001b[39m\n",
      "\u001b[31mAttributeError\u001b[39m: 'Account' object has no attribute '__balance'"
     ]
    }
   ],
   "source": [
    "a1.__balance += 100"
   ]
  },
  {
   "cell_type": "code",
   "execution_count": 47,
   "id": "a838b4bd",
   "metadata": {},
   "outputs": [],
   "source": [
    "a1.deposit(100)"
   ]
  },
  {
   "cell_type": "code",
   "execution_count": 48,
   "id": "e1ee8c15",
   "metadata": {},
   "outputs": [
    {
     "data": {
      "text/plain": [
       "10200"
      ]
     },
     "execution_count": 48,
     "metadata": {},
     "output_type": "execute_result"
    }
   ],
   "source": [
    "a1.get_balance()"
   ]
  },
  {
   "cell_type": "code",
   "execution_count": 49,
   "id": "8267e9c9",
   "metadata": {},
   "outputs": [
    {
     "ename": "AttributeError",
     "evalue": "'Account' object has no attribute '_number'",
     "output_type": "error",
     "traceback": [
      "\u001b[31m---------------------------------------------------------------------------\u001b[39m",
      "\u001b[31mAttributeError\u001b[39m                            Traceback (most recent call last)",
      "\u001b[36mCell\u001b[39m\u001b[36m \u001b[39m\u001b[32mIn[49]\u001b[39m\u001b[32m, line 1\u001b[39m\n\u001b[32m----> \u001b[39m\u001b[32m1\u001b[39m \u001b[43ma1\u001b[49m\u001b[43m.\u001b[49m\u001b[43m_number\u001b[49m += \u001b[32m1\u001b[39m\n",
      "\u001b[31mAttributeError\u001b[39m: 'Account' object has no attribute '_number'"
     ]
    }
   ],
   "source": [
    "a1._number += 1"
   ]
  }
 ],
 "metadata": {
  "kernelspec": {
   "display_name": "Python 3",
   "language": "python",
   "name": "python3"
  },
  "language_info": {
   "codemirror_mode": {
    "name": "ipython",
    "version": 3
   },
   "file_extension": ".py",
   "mimetype": "text/x-python",
   "name": "python",
   "nbconvert_exporter": "python",
   "pygments_lexer": "ipython3",
   "version": "3.11.9"
  }
 },
 "nbformat": 4,
 "nbformat_minor": 5
}
