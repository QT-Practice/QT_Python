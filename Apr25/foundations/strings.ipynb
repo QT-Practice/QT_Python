{
 "cells": [
  {
   "cell_type": "code",
   "execution_count": 3,
   "id": "02396f46",
   "metadata": {},
   "outputs": [],
   "source": [
    "name = 'Python'\n",
    "language = \"Python\"\n",
    "description = \"\"\"Python is a multi purpose\n",
    "language\n",
    "\"\"\"\n",
    "other_info = '''Python is largely used\n",
    "in \n",
    "scripting and AI\n",
    "'''"
   ]
  },
  {
   "cell_type": "code",
   "execution_count": 4,
   "id": "472c3027",
   "metadata": {},
   "outputs": [],
   "source": [
    "# string is a sequence of characters\n",
    "message = 'Hello'"
   ]
  },
  {
   "cell_type": "code",
   "execution_count": 5,
   "id": "08de3317",
   "metadata": {},
   "outputs": [
    {
     "data": {
      "text/plain": [
       "'H'"
      ]
     },
     "execution_count": 5,
     "metadata": {},
     "output_type": "execute_result"
    }
   ],
   "source": [
    "message[0]"
   ]
  },
  {
   "cell_type": "code",
   "execution_count": 6,
   "id": "1859d70e",
   "metadata": {},
   "outputs": [
    {
     "data": {
      "text/plain": [
       "'o'"
      ]
     },
     "execution_count": 6,
     "metadata": {},
     "output_type": "execute_result"
    }
   ],
   "source": [
    "message[-1]"
   ]
  },
  {
   "cell_type": "code",
   "execution_count": 7,
   "id": "116e12af",
   "metadata": {},
   "outputs": [
    {
     "data": {
      "text/plain": [
       "'olleH'"
      ]
     },
     "execution_count": 7,
     "metadata": {},
     "output_type": "execute_result"
    }
   ],
   "source": [
    "message[::-1]"
   ]
  },
  {
   "cell_type": "code",
   "execution_count": 8,
   "id": "9e444b11",
   "metadata": {},
   "outputs": [
    {
     "data": {
      "text/plain": [
       "2027625418032"
      ]
     },
     "execution_count": 8,
     "metadata": {},
     "output_type": "execute_result"
    }
   ],
   "source": [
    "# strings are immutable\n",
    "x = \"Hello\"\n",
    "id(x)"
   ]
  },
  {
   "cell_type": "code",
   "execution_count": 9,
   "id": "d5ec3337",
   "metadata": {},
   "outputs": [
    {
     "data": {
      "text/plain": [
       "2027620838512"
      ]
     },
     "execution_count": 9,
     "metadata": {},
     "output_type": "execute_result"
    }
   ],
   "source": [
    "x = 'hello'\n",
    "id(x)"
   ]
  },
  {
   "cell_type": "code",
   "execution_count": 10,
   "id": "b71f5c54",
   "metadata": {},
   "outputs": [
    {
     "ename": "TypeError",
     "evalue": "'str' object does not support item assignment",
     "output_type": "error",
     "traceback": [
      "\u001b[31m---------------------------------------------------------------------------\u001b[39m",
      "\u001b[31mTypeError\u001b[39m                                 Traceback (most recent call last)",
      "\u001b[36mCell\u001b[39m\u001b[36m \u001b[39m\u001b[32mIn[10]\u001b[39m\u001b[32m, line 1\u001b[39m\n\u001b[32m----> \u001b[39m\u001b[32m1\u001b[39m \u001b[43mx\u001b[49m\u001b[43m[\u001b[49m\u001b[32;43m0\u001b[39;49m\u001b[43m]\u001b[49m = \u001b[33m'\u001b[39m\u001b[33mH\u001b[39m\u001b[33m'\u001b[39m\n",
      "\u001b[31mTypeError\u001b[39m: 'str' object does not support item assignment"
     ]
    }
   ],
   "source": [
    "x[0] = 'H'"
   ]
  },
  {
   "cell_type": "code",
   "execution_count": 11,
   "id": "8fcda32c",
   "metadata": {},
   "outputs": [],
   "source": [
    "# comparision\n",
    "message_1 = \"Hello\"\n",
    "message_2 = \"hello\"\n",
    "message_3 = \"hi\""
   ]
  },
  {
   "cell_type": "code",
   "execution_count": 12,
   "id": "9945121d",
   "metadata": {},
   "outputs": [
    {
     "data": {
      "text/plain": [
       "False"
      ]
     },
     "execution_count": 12,
     "metadata": {},
     "output_type": "execute_result"
    }
   ],
   "source": [
    "message_1 == message_2"
   ]
  },
  {
   "cell_type": "code",
   "execution_count": 13,
   "id": "b6ba012e",
   "metadata": {},
   "outputs": [
    {
     "data": {
      "text/plain": [
       "True"
      ]
     },
     "execution_count": 13,
     "metadata": {},
     "output_type": "execute_result"
    }
   ],
   "source": [
    "# comparision ignoring case\n",
    "message_1.lower() == message_2.lower()"
   ]
  },
  {
   "cell_type": "code",
   "execution_count": 14,
   "id": "7e10e3ef",
   "metadata": {},
   "outputs": [
    {
     "data": {
      "text/plain": [
       "False"
      ]
     },
     "execution_count": 14,
     "metadata": {},
     "output_type": "execute_result"
    }
   ],
   "source": [
    "message_1.lower() == message_3.lower()"
   ]
  },
  {
   "cell_type": "code",
   "execution_count": 16,
   "id": "406b2a28",
   "metadata": {},
   "outputs": [],
   "source": [
    "# join strings\n",
    "greet = \"Hello \"\n",
    "name = \"Python\""
   ]
  },
  {
   "cell_type": "code",
   "execution_count": 17,
   "id": "00ff76bd",
   "metadata": {},
   "outputs": [
    {
     "data": {
      "text/plain": [
       "'Hello Python'"
      ]
     },
     "execution_count": 17,
     "metadata": {},
     "output_type": "execute_result"
    }
   ],
   "source": [
    "greet + name"
   ]
  },
  {
   "cell_type": "code",
   "execution_count": 18,
   "id": "c9a6ea4d",
   "metadata": {},
   "outputs": [
    {
     "data": {
      "text/plain": [
       "'Hello Hello '"
      ]
     },
     "execution_count": 18,
     "metadata": {},
     "output_type": "execute_result"
    }
   ],
   "source": [
    "greet * 2"
   ]
  },
  {
   "cell_type": "code",
   "execution_count": 19,
   "id": "1375c6c4",
   "metadata": {},
   "outputs": [
    {
     "data": {
      "text/plain": [
       "'Hello  Python'"
      ]
     },
     "execution_count": 19,
     "metadata": {},
     "output_type": "execute_result"
    }
   ],
   "source": [
    "# interpolation\n",
    "# string formatting\n",
    "f\"{greet} {name}\""
   ]
  },
  {
   "cell_type": "code",
   "execution_count": 20,
   "id": "6a4aa50d",
   "metadata": {},
   "outputs": [
    {
     "data": {
      "text/plain": [
       "'im watching Bahubali'"
      ]
     },
     "execution_count": 20,
     "metadata": {},
     "output_type": "execute_result"
    }
   ],
   "source": [
    "movie = \"Bahubali\"\n",
    "f\"im watching {movie}\""
   ]
  },
  {
   "cell_type": "code",
   "execution_count": 21,
   "id": "994bdcc6",
   "metadata": {},
   "outputs": [],
   "source": [
    "name = \"Python\"\n",
    "version = \"3.11\""
   ]
  },
  {
   "cell_type": "code",
   "execution_count": 22,
   "id": "3b3cff33",
   "metadata": {},
   "outputs": [
    {
     "name": "stdout",
     "output_type": "stream",
     "text": [
      "I'm using Python with version 3.11\n"
     ]
    }
   ],
   "source": [
    "print(f\"I'm using {name} with version {version}\")"
   ]
  },
  {
   "cell_type": "code",
   "execution_count": 23,
   "id": "e6c75eea",
   "metadata": {},
   "outputs": [
    {
     "data": {
      "text/plain": [
       "'Python'"
      ]
     },
     "execution_count": 23,
     "metadata": {},
     "output_type": "execute_result"
    }
   ],
   "source": [
    "name"
   ]
  },
  {
   "cell_type": "code",
   "execution_count": 24,
   "id": "dfd12ef6",
   "metadata": {},
   "outputs": [
    {
     "data": {
      "text/plain": [
       "'PYTHON'"
      ]
     },
     "execution_count": 24,
     "metadata": {},
     "output_type": "execute_result"
    }
   ],
   "source": [
    "name.upper()"
   ]
  },
  {
   "cell_type": "code",
   "execution_count": 25,
   "id": "786d0c30",
   "metadata": {},
   "outputs": [
    {
     "data": {
      "text/plain": [
       "'python'"
      ]
     },
     "execution_count": 25,
     "metadata": {},
     "output_type": "execute_result"
    }
   ],
   "source": [
    "name.lower()"
   ]
  },
  {
   "cell_type": "code",
   "execution_count": 29,
   "id": "e005a928",
   "metadata": {},
   "outputs": [
    {
     "data": {
      "text/plain": [
       "'My python'"
      ]
     },
     "execution_count": 29,
     "metadata": {},
     "output_type": "execute_result"
    }
   ],
   "source": [
    "x = \"my python\"\n",
    "x.capitalize()"
   ]
  },
  {
   "cell_type": "code",
   "execution_count": 30,
   "id": "3f3ad423",
   "metadata": {},
   "outputs": [],
   "source": [
    "x = \"            python                     \""
   ]
  },
  {
   "cell_type": "code",
   "execution_count": 31,
   "id": "a4865297",
   "metadata": {},
   "outputs": [
    {
     "name": "stdout",
     "output_type": "stream",
     "text": [
      "            python                     \n"
     ]
    }
   ],
   "source": [
    "print(x)"
   ]
  },
  {
   "cell_type": "code",
   "execution_count": 32,
   "id": "8d728fcf",
   "metadata": {},
   "outputs": [
    {
     "data": {
      "text/plain": [
       "'python'"
      ]
     },
     "execution_count": 32,
     "metadata": {},
     "output_type": "execute_result"
    }
   ],
   "source": [
    "x.strip()"
   ]
  },
  {
   "cell_type": "code",
   "execution_count": 33,
   "id": "347d2c2e",
   "metadata": {},
   "outputs": [],
   "source": [
    "x = \"##########python*********************\""
   ]
  },
  {
   "cell_type": "code",
   "execution_count": 34,
   "id": "df16a78b",
   "metadata": {},
   "outputs": [
    {
     "data": {
      "text/plain": [
       "'python*********************'"
      ]
     },
     "execution_count": 34,
     "metadata": {},
     "output_type": "execute_result"
    }
   ],
   "source": [
    "x.strip('#')"
   ]
  },
  {
   "cell_type": "code",
   "execution_count": 35,
   "id": "a6430e4c",
   "metadata": {},
   "outputs": [
    {
     "data": {
      "text/plain": [
       "'##########python'"
      ]
     },
     "execution_count": 35,
     "metadata": {},
     "output_type": "execute_result"
    }
   ],
   "source": [
    "x.strip('*')"
   ]
  },
  {
   "cell_type": "code",
   "execution_count": 36,
   "id": "93f99391",
   "metadata": {},
   "outputs": [
    {
     "data": {
      "text/plain": [
       "'python'"
      ]
     },
     "execution_count": 36,
     "metadata": {},
     "output_type": "execute_result"
    }
   ],
   "source": [
    "x.strip('#*')"
   ]
  },
  {
   "cell_type": "code",
   "execution_count": 37,
   "id": "93a23c6c",
   "metadata": {},
   "outputs": [],
   "source": [
    "x = \"##########python##########\""
   ]
  },
  {
   "cell_type": "code",
   "execution_count": 38,
   "id": "4d6e2e65",
   "metadata": {},
   "outputs": [
    {
     "data": {
      "text/plain": [
       "'##########python##########'"
      ]
     },
     "execution_count": 38,
     "metadata": {},
     "output_type": "execute_result"
    }
   ],
   "source": [
    "x.lstrip()"
   ]
  },
  {
   "cell_type": "code",
   "execution_count": 39,
   "id": "d8bef6bf",
   "metadata": {},
   "outputs": [
    {
     "data": {
      "text/plain": [
       "'python##########'"
      ]
     },
     "execution_count": 39,
     "metadata": {},
     "output_type": "execute_result"
    }
   ],
   "source": [
    "x.lstrip('#')"
   ]
  },
  {
   "cell_type": "code",
   "execution_count": 40,
   "id": "1dd8370c",
   "metadata": {},
   "outputs": [
    {
     "data": {
      "text/plain": [
       "'##########python'"
      ]
     },
     "execution_count": 40,
     "metadata": {},
     "output_type": "execute_result"
    }
   ],
   "source": [
    "x.rstrip('#')"
   ]
  },
  {
   "cell_type": "code",
   "execution_count": 41,
   "id": "67c144fb",
   "metadata": {},
   "outputs": [],
   "source": [
    "subject=\"Maths,Science,Social\""
   ]
  },
  {
   "cell_type": "code",
   "execution_count": null,
   "id": "feeb699d",
   "metadata": {},
   "outputs": [
    {
     "data": {
      "text/plain": [
       "['Maths', 'Science', 'Social']"
      ]
     },
     "execution_count": 42,
     "metadata": {},
     "output_type": "execute_result"
    }
   ],
   "source": [
    "# string splitting\n",
    "subject.split(',')"
   ]
  },
  {
   "cell_type": "code",
   "execution_count": 43,
   "id": "55c90e19",
   "metadata": {},
   "outputs": [],
   "source": [
    "# joining string\n",
    "\n",
    "names = ['a', 'b', 'c', 'd']"
   ]
  },
  {
   "cell_type": "code",
   "execution_count": 45,
   "id": "4d234c6b",
   "metadata": {},
   "outputs": [
    {
     "data": {
      "text/plain": [
       "'a -> b -> c -> d'"
      ]
     },
     "execution_count": 45,
     "metadata": {},
     "output_type": "execute_result"
    }
   ],
   "source": [
    "\" -> \".join(names)"
   ]
  },
  {
   "cell_type": "code",
   "execution_count": 46,
   "id": "9abc4e95",
   "metadata": {},
   "outputs": [],
   "source": [
    "# Escape Sequences"
   ]
  },
  {
   "cell_type": "code",
   "execution_count": 47,
   "id": "d2bebd81",
   "metadata": {},
   "outputs": [
    {
     "ename": "SyntaxError",
     "evalue": "unterminated string literal (detected at line 1) (2354465016.py, line 1)",
     "output_type": "error",
     "traceback": [
      "  \u001b[36mCell\u001b[39m\u001b[36m \u001b[39m\u001b[32mIn[47]\u001b[39m\u001b[32m, line 1\u001b[39m\n\u001b[31m    \u001b[39m\u001b[31mprint('I'm good')\u001b[39m\n                   ^\n\u001b[31mSyntaxError\u001b[39m\u001b[31m:\u001b[39m unterminated string literal (detected at line 1)\n"
     ]
    }
   ],
   "source": [
    "print('I'm good')"
   ]
  },
  {
   "cell_type": "code",
   "execution_count": 48,
   "id": "c62144de",
   "metadata": {},
   "outputs": [
    {
     "name": "stdout",
     "output_type": "stream",
     "text": [
      "I'm good\n"
     ]
    }
   ],
   "source": [
    "print('I\\'m good')"
   ]
  },
  {
   "cell_type": "code",
   "execution_count": 49,
   "id": "ef58c634",
   "metadata": {},
   "outputs": [
    {
     "name": "stdout",
     "output_type": "stream",
     "text": [
      "I'm good\n"
     ]
    }
   ],
   "source": [
    "print(\"I'm good\")"
   ]
  },
  {
   "cell_type": "code",
   "execution_count": 51,
   "id": "255f2db9",
   "metadata": {},
   "outputs": [
    {
     "name": "stdout",
     "output_type": "stream",
     "text": [
      "I\"m good\n"
     ]
    }
   ],
   "source": [
    "print(\"I\\\"m good\")"
   ]
  },
  {
   "cell_type": "code",
   "execution_count": 53,
   "id": "00926734",
   "metadata": {},
   "outputs": [
    {
     "name": "stdout",
     "output_type": "stream",
     "text": [
      "\tMaths\n",
      "\tScience\n"
     ]
    }
   ],
   "source": [
    "print(\"\\tMaths\\n\\tScience\")"
   ]
  }
 ],
 "metadata": {
  "kernelspec": {
   "display_name": "Python 3",
   "language": "python",
   "name": "python3"
  },
  "language_info": {
   "codemirror_mode": {
    "name": "ipython",
    "version": 3
   },
   "file_extension": ".py",
   "mimetype": "text/x-python",
   "name": "python",
   "nbconvert_exporter": "python",
   "pygments_lexer": "ipython3",
   "version": "3.11.9"
  }
 },
 "nbformat": 4,
 "nbformat_minor": 5
}
