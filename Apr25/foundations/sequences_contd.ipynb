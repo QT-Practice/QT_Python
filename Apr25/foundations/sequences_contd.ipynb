{
 "cells": [
  {
   "cell_type": "code",
   "execution_count": 1,
   "id": "c83a1a37",
   "metadata": {},
   "outputs": [],
   "source": [
    "colors = [\"red\", \"blue\", \"green\"]"
   ]
  },
  {
   "cell_type": "code",
   "execution_count": 2,
   "id": "8ec69ace",
   "metadata": {},
   "outputs": [
    {
     "data": {
      "text/plain": [
       "list"
      ]
     },
     "execution_count": 2,
     "metadata": {},
     "output_type": "execute_result"
    }
   ],
   "source": [
    "type(colors)"
   ]
  },
  {
   "cell_type": "code",
   "execution_count": 3,
   "id": "fbe9e24a",
   "metadata": {},
   "outputs": [
    {
     "data": {
      "text/plain": [
       "3"
      ]
     },
     "execution_count": 3,
     "metadata": {},
     "output_type": "execute_result"
    }
   ],
   "source": [
    "# find the size of the collection\n",
    "len(colors)"
   ]
  },
  {
   "cell_type": "code",
   "execution_count": 5,
   "id": "e14dc8a7",
   "metadata": {},
   "outputs": [
    {
     "data": {
      "text/plain": [
       "1"
      ]
     },
     "execution_count": 5,
     "metadata": {},
     "output_type": "execute_result"
    }
   ],
   "source": [
    "colors.count('red')"
   ]
  },
  {
   "cell_type": "code",
   "execution_count": 6,
   "id": "5222bc85",
   "metadata": {},
   "outputs": [
    {
     "data": {
      "text/plain": [
       "0"
      ]
     },
     "execution_count": 6,
     "metadata": {},
     "output_type": "execute_result"
    }
   ],
   "source": [
    "colors.count('white')"
   ]
  },
  {
   "cell_type": "code",
   "execution_count": null,
   "id": "afb68ac1",
   "metadata": {},
   "outputs": [],
   "source": [
    "# inserted at last\n",
    "colors.append('white')"
   ]
  },
  {
   "cell_type": "code",
   "execution_count": 9,
   "id": "41ec1764",
   "metadata": {},
   "outputs": [],
   "source": [
    "# inserted at specific index\n",
    "colors.insert(0,'black')"
   ]
  },
  {
   "cell_type": "code",
   "execution_count": 10,
   "id": "9ee8ca9d",
   "metadata": {},
   "outputs": [
    {
     "data": {
      "text/plain": [
       "'black'"
      ]
     },
     "execution_count": 10,
     "metadata": {},
     "output_type": "execute_result"
    }
   ],
   "source": [
    "colors.pop(0)"
   ]
  },
  {
   "cell_type": "code",
   "execution_count": 11,
   "id": "aa3c8620",
   "metadata": {},
   "outputs": [
    {
     "data": {
      "text/plain": [
       "'white'"
      ]
     },
     "execution_count": 11,
     "metadata": {},
     "output_type": "execute_result"
    }
   ],
   "source": [
    "colors.pop()"
   ]
  },
  {
   "cell_type": "code",
   "execution_count": 12,
   "id": "1c840541",
   "metadata": {},
   "outputs": [],
   "source": [
    "my_colors = ['pink', 'purple']"
   ]
  },
  {
   "cell_type": "code",
   "execution_count": 13,
   "id": "e7d93895",
   "metadata": {},
   "outputs": [],
   "source": [
    "colors.extend(my_colors)"
   ]
  },
  {
   "cell_type": "code",
   "execution_count": 14,
   "id": "68054645",
   "metadata": {},
   "outputs": [],
   "source": [
    "colors_set = set(colors)"
   ]
  },
  {
   "cell_type": "code",
   "execution_count": 15,
   "id": "590eb18a",
   "metadata": {},
   "outputs": [],
   "source": [
    "colors_set_1 = {\"white\", \"black\", \"red\" }"
   ]
  },
  {
   "cell_type": "code",
   "execution_count": 16,
   "id": "14b54a11",
   "metadata": {},
   "outputs": [],
   "source": [
    "colors_set_2 = {\"red\", \"green\", \"yellow\"}"
   ]
  },
  {
   "cell_type": "code",
   "execution_count": 17,
   "id": "e2f7910b",
   "metadata": {},
   "outputs": [
    {
     "data": {
      "text/plain": [
       "{'black', 'green', 'red', 'white', 'yellow'}"
      ]
     },
     "execution_count": 17,
     "metadata": {},
     "output_type": "execute_result"
    }
   ],
   "source": [
    "colors_set_1.union(colors_set_2)"
   ]
  },
  {
   "cell_type": "code",
   "execution_count": 18,
   "id": "5af036d1",
   "metadata": {},
   "outputs": [
    {
     "data": {
      "text/plain": [
       "{'red'}"
      ]
     },
     "execution_count": 18,
     "metadata": {},
     "output_type": "execute_result"
    }
   ],
   "source": [
    "colors_set_1.intersection(colors_set_2)"
   ]
  },
  {
   "cell_type": "code",
   "execution_count": 19,
   "id": "0aa338e2",
   "metadata": {},
   "outputs": [
    {
     "data": {
      "text/plain": [
       "{'black', 'white'}"
      ]
     },
     "execution_count": 19,
     "metadata": {},
     "output_type": "execute_result"
    }
   ],
   "source": [
    "colors_set_1.difference(colors_set_2)"
   ]
  },
  {
   "cell_type": "markdown",
   "id": "ebf1da05",
   "metadata": {},
   "source": [
    "# Membership operator"
   ]
  },
  {
   "cell_type": "code",
   "execution_count": 20,
   "id": "c1ab5168",
   "metadata": {},
   "outputs": [
    {
     "data": {
      "text/plain": [
       "['black', 'red', 'blue', 'green', 'pink', 'purple']"
      ]
     },
     "execution_count": 20,
     "metadata": {},
     "output_type": "execute_result"
    }
   ],
   "source": [
    "colors"
   ]
  },
  {
   "cell_type": "code",
   "execution_count": 21,
   "id": "bbb40b3b",
   "metadata": {},
   "outputs": [
    {
     "data": {
      "text/plain": [
       "True"
      ]
     },
     "execution_count": 21,
     "metadata": {},
     "output_type": "execute_result"
    }
   ],
   "source": [
    "'red' in colors"
   ]
  },
  {
   "cell_type": "code",
   "execution_count": 22,
   "id": "e774c155",
   "metadata": {},
   "outputs": [
    {
     "data": {
      "text/plain": [
       "False"
      ]
     },
     "execution_count": 22,
     "metadata": {},
     "output_type": "execute_result"
    }
   ],
   "source": [
    "'violet' in colors"
   ]
  },
  {
   "cell_type": "code",
   "execution_count": 23,
   "id": "ba1ba6fd",
   "metadata": {},
   "outputs": [
    {
     "data": {
      "text/plain": [
       "True"
      ]
     },
     "execution_count": 23,
     "metadata": {},
     "output_type": "execute_result"
    }
   ],
   "source": [
    "'violet' not in colors"
   ]
  },
  {
   "cell_type": "code",
   "execution_count": null,
   "id": "bbe42b00",
   "metadata": {},
   "outputs": [],
   "source": [
    "# tuple, set, list, string, dictionaries"
   ]
  },
  {
   "cell_type": "code",
   "execution_count": 24,
   "id": "4e07c85d",
   "metadata": {},
   "outputs": [],
   "source": [
    "# nested lists\n",
    "\n",
    "matrix = [ [1,2], [3,4] ]"
   ]
  },
  {
   "cell_type": "code",
   "execution_count": 26,
   "id": "c22a0708",
   "metadata": {},
   "outputs": [
    {
     "data": {
      "text/plain": [
       "1"
      ]
     },
     "execution_count": 26,
     "metadata": {},
     "output_type": "execute_result"
    }
   ],
   "source": [
    "matrix[0][0]"
   ]
  },
  {
   "cell_type": "code",
   "execution_count": 27,
   "id": "63d84798",
   "metadata": {},
   "outputs": [
    {
     "name": "stdout",
     "output_type": "stream",
     "text": [
      "1\n",
      "2\n",
      "3\n",
      "4\n"
     ]
    }
   ],
   "source": [
    "for row in matrix:\n",
    "    for col in row:\n",
    "        print(col)\n"
   ]
  },
  {
   "cell_type": "code",
   "execution_count": 32,
   "id": "0ba91193",
   "metadata": {},
   "outputs": [
    {
     "name": "stdout",
     "output_type": "stream",
     "text": [
      "1\n",
      "2\n",
      "3\n",
      "4\n"
     ]
    }
   ],
   "source": [
    "i = 0\n",
    "while i < 2:\n",
    "    j = 0\n",
    "    while j < 2:\n",
    "        print(matrix[i][j])\n",
    "        j += 1\n",
    "    i += 1"
   ]
  },
  {
   "cell_type": "markdown",
   "id": "31003ba7",
   "metadata": {},
   "source": [
    "# Dictionary"
   ]
  },
  {
   "cell_type": "code",
   "execution_count": null,
   "id": "56f63c57",
   "metadata": {},
   "outputs": [],
   "source": [
    "# key = str, Value = str\n",
    "# key = str Value = list\n",
    "\n",
    "state_capitals = {\n",
    "    'Telangana': 'Hyderabad',\n",
    "    'Karnataka': 'Bengaluru',\n",
    "    'Gujarat': 'Ahmedabad',\n",
    "    'Maharastra': 'Mumbai',\n",
    "    'Tamilnadu': 'Chennai',\n",
    "    'AndhraPradesh': 'Amaravati'\n",
    "}"
   ]
  },
  {
   "cell_type": "code",
   "execution_count": 36,
   "id": "c06aa64c",
   "metadata": {},
   "outputs": [
    {
     "data": {
      "text/plain": [
       "'Hyderabad'"
      ]
     },
     "execution_count": 36,
     "metadata": {},
     "output_type": "execute_result"
    }
   ],
   "source": [
    "state_capitals['Telangana']"
   ]
  },
  {
   "cell_type": "code",
   "execution_count": 39,
   "id": "350a01a3",
   "metadata": {},
   "outputs": [
    {
     "name": "stdout",
     "output_type": "stream",
     "text": [
      "Telangana -> Hyderabad\n",
      "Karnataka -> Bengaluru\n",
      "Gujarat -> Ahmedabad\n",
      "Maharastra -> Mumbai\n",
      "Tamilnadu -> Chennai\n",
      "AndhraPradesh -> Amaravati\n"
     ]
    }
   ],
   "source": [
    "# default iteration gives keys only\n",
    "for state in state_capitals:\n",
    "    print(f\"{state} -> {state_capitals[state]}\")"
   ]
  },
  {
   "cell_type": "code",
   "execution_count": 40,
   "id": "83bfae0f",
   "metadata": {},
   "outputs": [
    {
     "name": "stdout",
     "output_type": "stream",
     "text": [
      "Hyderabad\n",
      "Bengaluru\n",
      "Ahmedabad\n",
      "Mumbai\n",
      "Chennai\n",
      "Amaravati\n"
     ]
    }
   ],
   "source": [
    "for capital in state_capitals.values():\n",
    "    print(capital)"
   ]
  },
  {
   "cell_type": "code",
   "execution_count": 41,
   "id": "c8574e85",
   "metadata": {},
   "outputs": [
    {
     "name": "stdout",
     "output_type": "stream",
     "text": [
      "Telangana -> Hyderabad\n",
      "Karnataka -> Bengaluru\n",
      "Gujarat -> Ahmedabad\n",
      "Maharastra -> Mumbai\n",
      "Tamilnadu -> Chennai\n",
      "AndhraPradesh -> Amaravati\n"
     ]
    }
   ],
   "source": [
    "for state, capital in state_capitals.items():\n",
    "    print(f\"{state} -> {capital}\")"
   ]
  },
  {
   "cell_type": "code",
   "execution_count": 45,
   "id": "755ed996",
   "metadata": {},
   "outputs": [],
   "source": [
    "movie_directors = dict()"
   ]
  },
  {
   "cell_type": "code",
   "execution_count": 46,
   "id": "c7d7581f",
   "metadata": {},
   "outputs": [],
   "source": [
    "movie_directors['Bahubali'] = 'SS Rajamouli'"
   ]
  },
  {
   "cell_type": "code",
   "execution_count": 47,
   "id": "600b668a",
   "metadata": {},
   "outputs": [
    {
     "data": {
      "text/plain": [
       "{'Bahubali': 'SS Rajamouli'}"
      ]
     },
     "execution_count": 47,
     "metadata": {},
     "output_type": "execute_result"
    }
   ],
   "source": [
    "movie_directors"
   ]
  },
  {
   "cell_type": "code",
   "execution_count": 48,
   "id": "959e20fe",
   "metadata": {},
   "outputs": [],
   "source": [
    "movie_directors['Kalki'] = 'Nag Ashwin'"
   ]
  },
  {
   "cell_type": "code",
   "execution_count": 49,
   "id": "0300aeb8",
   "metadata": {},
   "outputs": [],
   "source": [
    "movie_directors['OG'] = 'Sujeeth'"
   ]
  },
  {
   "cell_type": "code",
   "execution_count": 50,
   "id": "d8c2cdf2",
   "metadata": {},
   "outputs": [
    {
     "data": {
      "text/plain": [
       "{'Bahubali': 'SS Rajamouli', 'Kalki': 'Nag Ashwin', 'OG': 'Sujeeth'}"
      ]
     },
     "execution_count": 50,
     "metadata": {},
     "output_type": "execute_result"
    }
   ],
   "source": [
    "movie_directors"
   ]
  },
  {
   "cell_type": "code",
   "execution_count": 51,
   "id": "183dce14",
   "metadata": {},
   "outputs": [
    {
     "data": {
      "text/plain": [
       "'Sujeeth'"
      ]
     },
     "execution_count": 51,
     "metadata": {},
     "output_type": "execute_result"
    }
   ],
   "source": [
    "movie_directors.pop('OG')"
   ]
  },
  {
   "cell_type": "code",
   "execution_count": 52,
   "id": "674c1b5d",
   "metadata": {},
   "outputs": [
    {
     "data": {
      "text/plain": [
       "{'Bahubali': 'SS Rajamouli', 'Kalki': 'Nag Ashwin'}"
      ]
     },
     "execution_count": 52,
     "metadata": {},
     "output_type": "execute_result"
    }
   ],
   "source": [
    "movie_directors"
   ]
  },
  {
   "cell_type": "code",
   "execution_count": 53,
   "id": "476f9a35",
   "metadata": {},
   "outputs": [],
   "source": [
    "movie_directors.update({\"animal\": \"Sandeep Reddy\"})"
   ]
  },
  {
   "cell_type": "code",
   "execution_count": 54,
   "id": "ad1b5faf",
   "metadata": {},
   "outputs": [
    {
     "data": {
      "text/plain": [
       "{'Bahubali': 'SS Rajamouli', 'Kalki': 'Nag Ashwin', 'animal': 'Sandeep Reddy'}"
      ]
     },
     "execution_count": 54,
     "metadata": {},
     "output_type": "execute_result"
    }
   ],
   "source": [
    "movie_directors"
   ]
  },
  {
   "cell_type": "code",
   "execution_count": 55,
   "id": "0c263b1c",
   "metadata": {},
   "outputs": [],
   "source": [
    "movie_actors = dict()\n"
   ]
  },
  {
   "cell_type": "code",
   "execution_count": 56,
   "id": "55061fde",
   "metadata": {},
   "outputs": [],
   "source": [
    "movie_actors['Bahubali'] = ['Prabhas', 'Rana']"
   ]
  },
  {
   "cell_type": "code",
   "execution_count": 57,
   "id": "6b7a413d",
   "metadata": {},
   "outputs": [],
   "source": [
    "movie_actors['Stree'] = ['RajKumar Rao', 'Shradha Kapoor', 'Pankaj Tripathi']"
   ]
  },
  {
   "cell_type": "code",
   "execution_count": 58,
   "id": "d6b59611",
   "metadata": {},
   "outputs": [
    {
     "data": {
      "text/plain": [
       "{'Bahubali': ['Prabhas', 'Rana'],\n",
       " 'Stree': ['RajKumar Rao', 'Shradha Kapoor', 'Pankaj Tripathi']}"
      ]
     },
     "execution_count": 58,
     "metadata": {},
     "output_type": "execute_result"
    }
   ],
   "source": [
    "movie_actors"
   ]
  },
  {
   "cell_type": "code",
   "execution_count": 60,
   "id": "52e0701a",
   "metadata": {},
   "outputs": [
    {
     "data": {
      "text/plain": [
       "'Rana'"
      ]
     },
     "execution_count": 60,
     "metadata": {},
     "output_type": "execute_result"
    }
   ],
   "source": [
    "movie_actors['Bahubali'][-1]"
   ]
  }
 ],
 "metadata": {
  "kernelspec": {
   "display_name": "Python 3",
   "language": "python",
   "name": "python3"
  },
  "language_info": {
   "codemirror_mode": {
    "name": "ipython",
    "version": 3
   },
   "file_extension": ".py",
   "mimetype": "text/x-python",
   "name": "python",
   "nbconvert_exporter": "python",
   "pygments_lexer": "ipython3",
   "version": "3.11.9"
  }
 },
 "nbformat": 4,
 "nbformat_minor": 5
}
