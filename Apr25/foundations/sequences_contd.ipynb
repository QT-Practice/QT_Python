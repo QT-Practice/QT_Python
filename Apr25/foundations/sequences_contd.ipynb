{
 "cells": [
  {
   "cell_type": "code",
   "execution_count": 1,
   "id": "c83a1a37",
   "metadata": {},
   "outputs": [],
   "source": [
    "colors = [\"red\", \"blue\", \"green\"]"
   ]
  },
  {
   "cell_type": "code",
   "execution_count": 2,
   "id": "8ec69ace",
   "metadata": {},
   "outputs": [
    {
     "data": {
      "text/plain": [
       "list"
      ]
     },
     "execution_count": 2,
     "metadata": {},
     "output_type": "execute_result"
    }
   ],
   "source": [
    "type(colors)"
   ]
  },
  {
   "cell_type": "code",
   "execution_count": 3,
   "id": "fbe9e24a",
   "metadata": {},
   "outputs": [
    {
     "data": {
      "text/plain": [
       "3"
      ]
     },
     "execution_count": 3,
     "metadata": {},
     "output_type": "execute_result"
    }
   ],
   "source": [
    "# find the size of the collection\n",
    "len(colors)"
   ]
  },
  {
   "cell_type": "code",
   "execution_count": 5,
   "id": "e14dc8a7",
   "metadata": {},
   "outputs": [
    {
     "data": {
      "text/plain": [
       "1"
      ]
     },
     "execution_count": 5,
     "metadata": {},
     "output_type": "execute_result"
    }
   ],
   "source": [
    "colors.count('red')"
   ]
  },
  {
   "cell_type": "code",
   "execution_count": 6,
   "id": "5222bc85",
   "metadata": {},
   "outputs": [
    {
     "data": {
      "text/plain": [
       "0"
      ]
     },
     "execution_count": 6,
     "metadata": {},
     "output_type": "execute_result"
    }
   ],
   "source": [
    "colors.count('white')"
   ]
  },
  {
   "cell_type": "code",
   "execution_count": null,
   "id": "afb68ac1",
   "metadata": {},
   "outputs": [],
   "source": [
    "# inserted at last\n",
    "colors.append('white')"
   ]
  },
  {
   "cell_type": "code",
   "execution_count": 9,
   "id": "41ec1764",
   "metadata": {},
   "outputs": [],
   "source": [
    "# inserted at specific index\n",
    "colors.insert(0,'black')"
   ]
  },
  {
   "cell_type": "code",
   "execution_count": 10,
   "id": "9ee8ca9d",
   "metadata": {},
   "outputs": [
    {
     "data": {
      "text/plain": [
       "'black'"
      ]
     },
     "execution_count": 10,
     "metadata": {},
     "output_type": "execute_result"
    }
   ],
   "source": [
    "colors.pop(0)"
   ]
  },
  {
   "cell_type": "code",
   "execution_count": 11,
   "id": "aa3c8620",
   "metadata": {},
   "outputs": [
    {
     "data": {
      "text/plain": [
       "'white'"
      ]
     },
     "execution_count": 11,
     "metadata": {},
     "output_type": "execute_result"
    }
   ],
   "source": [
    "colors.pop()"
   ]
  },
  {
   "cell_type": "code",
   "execution_count": 12,
   "id": "1c840541",
   "metadata": {},
   "outputs": [],
   "source": [
    "my_colors = ['pink', 'purple']"
   ]
  },
  {
   "cell_type": "code",
   "execution_count": 13,
   "id": "e7d93895",
   "metadata": {},
   "outputs": [],
   "source": [
    "colors.extend(my_colors)"
   ]
  },
  {
   "cell_type": "code",
   "execution_count": 14,
   "id": "68054645",
   "metadata": {},
   "outputs": [],
   "source": [
    "colors_set = set(colors)"
   ]
  },
  {
   "cell_type": "code",
   "execution_count": 15,
   "id": "590eb18a",
   "metadata": {},
   "outputs": [],
   "source": [
    "colors_set_1 = {\"white\", \"black\", \"red\" }"
   ]
  },
  {
   "cell_type": "code",
   "execution_count": 16,
   "id": "14b54a11",
   "metadata": {},
   "outputs": [],
   "source": [
    "colors_set_2 = {\"red\", \"green\", \"yellow\"}"
   ]
  },
  {
   "cell_type": "code",
   "execution_count": 17,
   "id": "e2f7910b",
   "metadata": {},
   "outputs": [
    {
     "data": {
      "text/plain": [
       "{'black', 'green', 'red', 'white', 'yellow'}"
      ]
     },
     "execution_count": 17,
     "metadata": {},
     "output_type": "execute_result"
    }
   ],
   "source": [
    "colors_set_1.union(colors_set_2)"
   ]
  },
  {
   "cell_type": "code",
   "execution_count": 18,
   "id": "5af036d1",
   "metadata": {},
   "outputs": [
    {
     "data": {
      "text/plain": [
       "{'red'}"
      ]
     },
     "execution_count": 18,
     "metadata": {},
     "output_type": "execute_result"
    }
   ],
   "source": [
    "colors_set_1.intersection(colors_set_2)"
   ]
  },
  {
   "cell_type": "code",
   "execution_count": 19,
   "id": "0aa338e2",
   "metadata": {},
   "outputs": [
    {
     "data": {
      "text/plain": [
       "{'black', 'white'}"
      ]
     },
     "execution_count": 19,
     "metadata": {},
     "output_type": "execute_result"
    }
   ],
   "source": [
    "colors_set_1.difference(colors_set_2)"
   ]
  },
  {
   "cell_type": "markdown",
   "id": "ebf1da05",
   "metadata": {},
   "source": [
    "# Membership operator"
   ]
  },
  {
   "cell_type": "code",
   "execution_count": 20,
   "id": "c1ab5168",
   "metadata": {},
   "outputs": [
    {
     "data": {
      "text/plain": [
       "['black', 'red', 'blue', 'green', 'pink', 'purple']"
      ]
     },
     "execution_count": 20,
     "metadata": {},
     "output_type": "execute_result"
    }
   ],
   "source": [
    "colors"
   ]
  },
  {
   "cell_type": "code",
   "execution_count": 21,
   "id": "bbb40b3b",
   "metadata": {},
   "outputs": [
    {
     "data": {
      "text/plain": [
       "True"
      ]
     },
     "execution_count": 21,
     "metadata": {},
     "output_type": "execute_result"
    }
   ],
   "source": [
    "'red' in colors"
   ]
  },
  {
   "cell_type": "code",
   "execution_count": 22,
   "id": "e774c155",
   "metadata": {},
   "outputs": [
    {
     "data": {
      "text/plain": [
       "False"
      ]
     },
     "execution_count": 22,
     "metadata": {},
     "output_type": "execute_result"
    }
   ],
   "source": [
    "'violet' in colors"
   ]
  },
  {
   "cell_type": "code",
   "execution_count": 23,
   "id": "ba1ba6fd",
   "metadata": {},
   "outputs": [
    {
     "data": {
      "text/plain": [
       "True"
      ]
     },
     "execution_count": 23,
     "metadata": {},
     "output_type": "execute_result"
    }
   ],
   "source": [
    "'violet' not in colors"
   ]
  },
  {
   "cell_type": "code",
   "execution_count": null,
   "id": "bbe42b00",
   "metadata": {},
   "outputs": [],
   "source": [
    "# tuple, set, list, string, dictionaries"
   ]
  },
  {
   "cell_type": "code",
   "execution_count": 24,
   "id": "4e07c85d",
   "metadata": {},
   "outputs": [],
   "source": [
    "# nested lists\n",
    "\n",
    "matrix = [ [1,2], [3,4] ]"
   ]
  },
  {
   "cell_type": "code",
   "execution_count": 26,
   "id": "c22a0708",
   "metadata": {},
   "outputs": [
    {
     "data": {
      "text/plain": [
       "1"
      ]
     },
     "execution_count": 26,
     "metadata": {},
     "output_type": "execute_result"
    }
   ],
   "source": [
    "matrix[0][0]"
   ]
  },
  {
   "cell_type": "code",
   "execution_count": 27,
   "id": "63d84798",
   "metadata": {},
   "outputs": [
    {
     "name": "stdout",
     "output_type": "stream",
     "text": [
      "1\n",
      "2\n",
      "3\n",
      "4\n"
     ]
    }
   ],
   "source": [
    "for row in matrix:\n",
    "    for col in row:\n",
    "        print(col)\n"
   ]
  },
  {
   "cell_type": "code",
   "execution_count": 32,
   "id": "0ba91193",
   "metadata": {},
   "outputs": [
    {
     "name": "stdout",
     "output_type": "stream",
     "text": [
      "1\n",
      "2\n",
      "3\n",
      "4\n"
     ]
    }
   ],
   "source": [
    "i = 0\n",
    "while i < 2:\n",
    "    j = 0\n",
    "    while j < 2:\n",
    "        print(matrix[i][j])\n",
    "        j += 1\n",
    "    i += 1"
   ]
  }
 ],
 "metadata": {
  "kernelspec": {
   "display_name": "Python 3",
   "language": "python",
   "name": "python3"
  },
  "language_info": {
   "codemirror_mode": {
    "name": "ipython",
    "version": 3
   },
   "file_extension": ".py",
   "mimetype": "text/x-python",
   "name": "python",
   "nbconvert_exporter": "python",
   "pygments_lexer": "ipython3",
   "version": "3.11.9"
  }
 },
 "nbformat": 4,
 "nbformat_minor": 5
}
