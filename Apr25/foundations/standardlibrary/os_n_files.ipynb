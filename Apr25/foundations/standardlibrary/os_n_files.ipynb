{
 "cells": [
  {
   "cell_type": "code",
   "execution_count": 1,
   "id": "ce539ce8",
   "metadata": {},
   "outputs": [],
   "source": [
    "import os"
   ]
  },
  {
   "cell_type": "code",
   "execution_count": 2,
   "id": "f58e7920",
   "metadata": {},
   "outputs": [
    {
     "data": {
      "text/plain": [
       "'c:\\\\khajaclassroom\\\\Python\\\\Apr25\\\\foundations\\\\standardlibrary'"
      ]
     },
     "execution_count": 2,
     "metadata": {},
     "output_type": "execute_result"
    }
   ],
   "source": [
    "# Get my current working directory\n",
    "cwd = os.getcwd()\n",
    "cwd"
   ]
  },
  {
   "cell_type": "code",
   "execution_count": 3,
   "id": "aacb3301",
   "metadata": {},
   "outputs": [
    {
     "data": {
      "text/plain": [
       "'nt'"
      ]
     },
     "execution_count": 3,
     "metadata": {},
     "output_type": "execute_result"
    }
   ],
   "source": [
    "# Get my operating system inforaation\n",
    "os.name"
   ]
  },
  {
   "cell_type": "code",
   "execution_count": null,
   "id": "9860396b",
   "metadata": {},
   "outputs": [
    {
     "name": "stdout",
     "output_type": "stream",
     "text": [
      "C:\\temp\\demo\n"
     ]
    }
   ],
   "source": [
    "path = \"C:\\\\temp\\\\demo\"\n",
    "print(path)"
   ]
  },
  {
   "cell_type": "code",
   "execution_count": 9,
   "id": "6822461a",
   "metadata": {},
   "outputs": [
    {
     "data": {
      "text/plain": [
       "['main.py', 'main.tf']"
      ]
     },
     "execution_count": 9,
     "metadata": {},
     "output_type": "execute_result"
    }
   ],
   "source": [
    "contents = os.listdir(path)\n",
    "contents"
   ]
  },
  {
   "cell_type": "code",
   "execution_count": 11,
   "id": "8738af4f",
   "metadata": {},
   "outputs": [],
   "source": [
    "# recursive navigating directories\n",
    "path = r\"C:\\temp\\yaml\""
   ]
  },
  {
   "cell_type": "code",
   "execution_count": 17,
   "id": "5cedc318",
   "metadata": {},
   "outputs": [],
   "source": [
    "def walk_directory(path:str) -> None :\n",
    "    for root, dirs, files in os.walk(path):\n",
    "        print(\"-\"*40)\n",
    "        print(f\"current directory = {root}\")\n",
    "        if len(dirs) > 0:\n",
    "            print(f\"subdirectories: {dirs}\")\n",
    "        if len(files) > 0:\n",
    "            print(f\"files: {files}\")\n",
    "        print(\"-\"*40)\n",
    "        print()    "
   ]
  },
  {
   "cell_type": "code",
   "execution_count": 18,
   "id": "1687bdd4",
   "metadata": {},
   "outputs": [
    {
     "name": "stdout",
     "output_type": "stream",
     "text": [
      "----------------------------------------\n",
      "current directory = C:\\temp\\yaml\n",
      "subdirectories: ['scheduling']\n",
      "files: ['eksctl.yml', 'trust-policy.json']\n",
      "----------------------------------------\n",
      "\n",
      "----------------------------------------\n",
      "current directory = C:\\temp\\yaml\\scheduling\n",
      "files: ['nodeaffinity.yaml', 'nodeselector-negative.yaml', 'nodeselector.yaml', 'podaffinity.yaml', 'sample-deploy.yaml', 'toleration-example.yaml']\n",
      "----------------------------------------\n",
      "\n"
     ]
    }
   ],
   "source": [
    "walk_directory(path=path)"
   ]
  },
  {
   "cell_type": "code",
   "execution_count": 26,
   "id": "f4cf7759",
   "metadata": {},
   "outputs": [],
   "source": [
    "from pathlib import Path\n",
    "def walk_directory_path(path:str) -> None:\n",
    "    path = Path(path)\n",
    "    for item in path.rglob('*'):\n",
    "        if item.is_file():\n",
    "            print(f\"File: {item}\")\n",
    "        elif item.is_dir():\n",
    "            print(f\"Directory: {item}\")\n"
   ]
  },
  {
   "cell_type": "code",
   "execution_count": 27,
   "id": "17363a9f",
   "metadata": {},
   "outputs": [
    {
     "name": "stdout",
     "output_type": "stream",
     "text": [
      "File: C:\\temp\\yaml\\eksctl.yml\n",
      "Directory: C:\\temp\\yaml\\scheduling\n",
      "File: C:\\temp\\yaml\\trust-policy.json\n",
      "File: C:\\temp\\yaml\\scheduling\\nodeaffinity.yaml\n",
      "File: C:\\temp\\yaml\\scheduling\\nodeselector-negative.yaml\n",
      "File: C:\\temp\\yaml\\scheduling\\nodeselector.yaml\n",
      "File: C:\\temp\\yaml\\scheduling\\podaffinity.yaml\n",
      "File: C:\\temp\\yaml\\scheduling\\sample-deploy.yaml\n",
      "File: C:\\temp\\yaml\\scheduling\\toleration-example.yaml\n"
     ]
    }
   ],
   "source": [
    "walk_directory_path(path=path)"
   ]
  },
  {
   "cell_type": "code",
   "execution_count": 29,
   "id": "66840dc6",
   "metadata": {},
   "outputs": [
    {
     "name": "stdout",
     "output_type": "stream",
     "text": [
      "C:\\temp\\yaml\\trust-policy.json\n"
     ]
    }
   ],
   "source": [
    "path = Path(r\"C:\\temp\\yaml\")\n",
    "for item in path.rglob(\"**/*.json\"):\n",
    "    print(item)"
   ]
  },
  {
   "cell_type": "code",
   "execution_count": 30,
   "id": "ab50ad57",
   "metadata": {},
   "outputs": [],
   "source": [
    "import platform\n",
    "import os\n",
    "import sys"
   ]
  },
  {
   "cell_type": "code",
   "execution_count": 31,
   "id": "4b009c5a",
   "metadata": {},
   "outputs": [
    {
     "name": "stdout",
     "output_type": "stream",
     "text": [
      "Process Id: 16020\n"
     ]
    }
   ],
   "source": [
    "# Lets get the current process id\n",
    "pid = os.getpid()\n",
    "print(f\"Process Id: {pid}\")"
   ]
  },
  {
   "cell_type": "code",
   "execution_count": 32,
   "id": "cc94daac",
   "metadata": {},
   "outputs": [
    {
     "data": {
      "text/plain": [
       "'DESKTOP-HCKH0DA'"
      ]
     },
     "execution_count": 32,
     "metadata": {},
     "output_type": "execute_result"
    }
   ],
   "source": [
    "# Lets get more info of my systemc\n",
    "platform.node()"
   ]
  },
  {
   "cell_type": "code",
   "execution_count": 33,
   "id": "b0b1edbe",
   "metadata": {},
   "outputs": [
    {
     "data": {
      "text/plain": [
       "('64bit', 'WindowsPE')"
      ]
     },
     "execution_count": 33,
     "metadata": {},
     "output_type": "execute_result"
    }
   ],
   "source": [
    "platform.architecture()"
   ]
  },
  {
   "cell_type": "code",
   "execution_count": 35,
   "id": "21dd81bb",
   "metadata": {},
   "outputs": [
    {
     "data": {
      "text/plain": [
       "'AMD64'"
      ]
     },
     "execution_count": 35,
     "metadata": {},
     "output_type": "execute_result"
    }
   ],
   "source": [
    "platform.machine()"
   ]
  },
  {
   "cell_type": "code",
   "execution_count": 36,
   "id": "07fff730",
   "metadata": {},
   "outputs": [
    {
     "data": {
      "text/plain": [
       "('10', '10.0.26100', 'SP0', 'Multiprocessor Free')"
      ]
     },
     "execution_count": 36,
     "metadata": {},
     "output_type": "execute_result"
    }
   ],
   "source": [
    "platform.win32_ver()"
   ]
  },
  {
   "cell_type": "code",
   "execution_count": 37,
   "id": "e0584a52",
   "metadata": {},
   "outputs": [
    {
     "data": {
      "text/plain": [
       "'Windows'"
      ]
     },
     "execution_count": 37,
     "metadata": {},
     "output_type": "execute_result"
    }
   ],
   "source": [
    "platform.system()"
   ]
  },
  {
   "cell_type": "code",
   "execution_count": 38,
   "id": "87cd9a54",
   "metadata": {},
   "outputs": [
    {
     "data": {
      "text/plain": [
       "'c:\\\\Python311;c:\\\\Users\\\\DELL\\\\AppData\\\\Roaming\\\\Python\\\\Python311\\\\Scripts;C:\\\\Program Files\\\\Microsoft SDKs\\\\Azure\\\\CLI2\\\\wbin;C:\\\\Python311\\\\Scripts\\\\;C:\\\\Python311\\\\;C:\\\\Windows\\\\system32;C:\\\\Windows;C:\\\\Windows\\\\System32\\\\Wbem;C:\\\\Windows\\\\System32\\\\WindowsPowerShell\\\\v1.0\\\\;C:\\\\Windows\\\\System32\\\\OpenSSH\\\\;C:\\\\Program Files\\\\dotnet\\\\;C:\\\\ProgramData\\\\chocolatey\\\\bin;C:\\\\Program Files\\\\Git\\\\cmd;C:\\\\Program Files\\\\Microsoft VS Code\\\\bin;C:\\\\Program Files\\\\Amazon\\\\AWSCLIV2\\\\;C:\\\\Program Files\\\\Meld\\\\;C:\\\\Users\\\\DELL\\\\AppData\\\\Local\\\\nvm;C:\\\\nvm4w\\\\nodejs;C:\\\\Program Files\\\\Docker\\\\Docker\\\\resources\\\\bin;C:\\\\Program Files\\\\OpenJDK\\\\jdk-17.0.2\\\\bin;C:\\\\ProgramData\\\\chocolatey\\\\lib\\\\maven\\\\apache-maven-3.9.9\\\\bin;C:\\\\Program Files (x86)\\\\Google\\\\Cloud SDK\\\\google-cloud-sdk\\\\bin;C:\\\\Windows\\\\system32\\\\config\\\\systemprofile\\\\AppData\\\\Local\\\\Microsoft\\\\WindowsApps;C:\\\\Users\\\\DELL\\\\AppData\\\\Local\\\\Programs\\\\Azure Data Studio\\\\bin;C:\\\\Windows\\\\system32\\\\config\\\\systemprofile\\\\.dotnet\\\\tools;C:\\\\Users\\\\DELL\\\\AppData\\\\Local\\\\Microsoft\\\\WinGet\\\\Links;C:\\\\Users\\\\DELL\\\\AppData\\\\Local\\\\Programs\\\\Lens\\\\resources\\\\cli\\\\bin;C:\\\\Users\\\\DELL\\\\AppData\\\\Local\\\\Microsoft\\\\WindowsApps;C:\\\\Users\\\\DELL\\\\AppData\\\\Local\\\\nvm;C:\\\\nvm4w\\\\nodejs;C:\\\\Users\\\\DELL\\\\AppData\\\\Local\\\\Programs\\\\Ollama;C:\\\\Users\\\\DELL\\\\.dotnet\\\\tools;C:\\\\Program Files\\\\Microsoft SDKs\\\\Azure\\\\CLI2\\\\wbin;C:\\\\Python311\\\\Scripts\\\\;C:\\\\Python311\\\\;C:\\\\Windows\\\\system32;C:\\\\Windows;C:\\\\Windows\\\\System32\\\\Wbem;C:\\\\Windows\\\\System32\\\\WindowsPowerShell\\\\v1.0\\\\;C:\\\\Windows\\\\System32\\\\OpenSSH\\\\;C:\\\\Program Files\\\\dotnet\\\\;C:\\\\ProgramData\\\\chocolatey\\\\bin;C:\\\\Program Files\\\\Git\\\\cmd;C:\\\\Program Files\\\\Microsoft VS Code\\\\bin;C:\\\\Program Files\\\\Amazon\\\\AWSCLIV2\\\\;C:\\\\Program Files\\\\Meld\\\\;C:\\\\Users\\\\DELL\\\\AppData\\\\Local\\\\nvm;C:\\\\nvm4w\\\\nodejs;C:\\\\Program Files\\\\Docker\\\\Docker\\\\resources\\\\bin;C:\\\\Program Files\\\\OpenJDK\\\\jdk-17.0.2\\\\bin;C:\\\\ProgramData\\\\chocolatey\\\\lib\\\\maven\\\\apache-maven-3.9.9\\\\bin;C:\\\\Program Files (x86)\\\\Google\\\\Cloud SDK\\\\google-cloud-sdk\\\\bin;C:\\\\Windows\\\\system32\\\\config\\\\systemprofile\\\\AppData\\\\Local\\\\Microsoft\\\\WindowsApps;C:\\\\Users\\\\DELL\\\\AppData\\\\Local\\\\Programs\\\\Azure Data Studio\\\\bin;C:\\\\Windows\\\\system32\\\\config\\\\systemprofile\\\\.dotnet\\\\tools;C:\\\\Users\\\\DELL\\\\AppData\\\\Local\\\\Microsoft\\\\WinGet\\\\Links;C:\\\\Users\\\\DELL\\\\AppData\\\\Local\\\\Programs\\\\Lens\\\\resources\\\\cli\\\\bin;C:\\\\Users\\\\DELL\\\\AppData\\\\Local\\\\Microsoft\\\\WindowsApps;C:\\\\Users\\\\DELL\\\\AppData\\\\Local\\\\nvm;C:\\\\nvm4w\\\\nodejs;C:\\\\Users\\\\DELL\\\\AppData\\\\Local\\\\Programs\\\\Ollama;C:\\\\Users\\\\DELL\\\\.dotnet\\\\tools'"
      ]
     },
     "execution_count": 38,
     "metadata": {},
     "output_type": "execute_result"
    }
   ],
   "source": [
    "os.environ['PATH']"
   ]
  },
  {
   "cell_type": "code",
   "execution_count": 53,
   "id": "4c2389d7",
   "metadata": {},
   "outputs": [],
   "source": [
    "# check if the files exists\n",
    "file_path = r\"c:\\temp\\test.csv\""
   ]
  },
  {
   "cell_type": "code",
   "execution_count": 54,
   "id": "9de5964d",
   "metadata": {},
   "outputs": [],
   "source": [
    "from pathlib import Path\n",
    "path = Path(file_path)"
   ]
  },
  {
   "cell_type": "code",
   "execution_count": 55,
   "id": "d406e9a9",
   "metadata": {},
   "outputs": [
    {
     "data": {
      "text/plain": [
       "False"
      ]
     },
     "execution_count": 55,
     "metadata": {},
     "output_type": "execute_result"
    }
   ],
   "source": [
    "path.is_dir()"
   ]
  },
  {
   "cell_type": "code",
   "execution_count": 56,
   "id": "72db119e",
   "metadata": {},
   "outputs": [
    {
     "data": {
      "text/plain": [
       "True"
      ]
     },
     "execution_count": 56,
     "metadata": {},
     "output_type": "execute_result"
    }
   ],
   "source": [
    "path.exists()"
   ]
  },
  {
   "cell_type": "code",
   "execution_count": 58,
   "id": "244680cf",
   "metadata": {},
   "outputs": [],
   "source": [
    "path = Path(r\"c:\\temp\")\n",
    "\n",
    "ado_path = path.joinpath(\"ado\")"
   ]
  },
  {
   "cell_type": "code",
   "execution_count": 61,
   "id": "8debae0e",
   "metadata": {},
   "outputs": [],
   "source": [
    "# subprocess\n",
    "\n",
    "import subprocess"
   ]
  },
  {
   "cell_type": "code",
   "execution_count": 65,
   "id": "03b6037c",
   "metadata": {},
   "outputs": [
    {
     "data": {
      "text/plain": [
       "CompletedProcess(args=['notepad'], returncode=0)"
      ]
     },
     "execution_count": 65,
     "metadata": {},
     "output_type": "execute_result"
    }
   ],
   "source": [
    "subprocess.run([\"notepad\"])"
   ]
  },
  {
   "cell_type": "code",
   "execution_count": 67,
   "id": "ad1bd2e3",
   "metadata": {},
   "outputs": [],
   "source": [
    "import datetime"
   ]
  },
  {
   "cell_type": "code",
   "execution_count": 69,
   "id": "3063fb01",
   "metadata": {},
   "outputs": [
    {
     "data": {
      "text/plain": [
       "datetime.date(2025, 5, 3)"
      ]
     },
     "execution_count": 69,
     "metadata": {},
     "output_type": "execute_result"
    }
   ],
   "source": [
    "datetime.date.today()"
   ]
  },
  {
   "cell_type": "code",
   "execution_count": 74,
   "id": "35e665b6",
   "metadata": {},
   "outputs": [],
   "source": [
    "from datetime import datetime, timezone, timedelta"
   ]
  },
  {
   "cell_type": "code",
   "execution_count": 76,
   "id": "ee44a356",
   "metadata": {},
   "outputs": [
    {
     "data": {
      "text/plain": [
       "datetime.datetime(2025, 5, 3, 19, 47, 2, 790986)"
      ]
     },
     "execution_count": 76,
     "metadata": {},
     "output_type": "execute_result"
    }
   ],
   "source": [
    "# current time\n",
    "now = datetime.now()\n",
    "now"
   ]
  },
  {
   "cell_type": "code",
   "execution_count": 77,
   "id": "0479f645",
   "metadata": {},
   "outputs": [
    {
     "data": {
      "text/plain": [
       "datetime.datetime(2025, 5, 3, 14, 17, 54, 51637, tzinfo=datetime.timezone.utc)"
      ]
     },
     "execution_count": 77,
     "metadata": {},
     "output_type": "execute_result"
    }
   ],
   "source": [
    "datetime.now(timezone.utc)"
   ]
  },
  {
   "cell_type": "markdown",
   "id": "8261d2d6",
   "metadata": {},
   "source": [
    "## Different timezones\n",
    "[link](https://docs.oracle.com/cd/F79978_01/docs.90/DSR%20Cloud%20Installation%20Guide/\n",
    "list-frequently-used-time-zones.html)\n",
    "\n",
    "\n",
    "[all](https://en.wikipedia.org/wiki/List_of_tz_database_time_zones)"
   ]
  },
  {
   "cell_type": "code",
   "execution_count": 78,
   "id": "724b4d12",
   "metadata": {},
   "outputs": [],
   "source": [
    "pacific = timezone(timedelta(hours=-8))"
   ]
  },
  {
   "cell_type": "code",
   "execution_count": 79,
   "id": "32fc5737",
   "metadata": {},
   "outputs": [
    {
     "data": {
      "text/plain": [
       "datetime.datetime(2025, 5, 3, 6, 20, 34, 619631, tzinfo=datetime.timezone(datetime.timedelta(days=-1, seconds=57600)))"
      ]
     },
     "execution_count": 79,
     "metadata": {},
     "output_type": "execute_result"
    }
   ],
   "source": [
    "datetime.now(pacific)"
   ]
  },
  {
   "cell_type": "code",
   "execution_count": 88,
   "id": "9b9a317c",
   "metadata": {},
   "outputs": [],
   "source": [
    "from zoneinfo import ZoneInfo\n",
    "from datetime import datetime, timedelta"
   ]
  },
  {
   "cell_type": "code",
   "execution_count": 89,
   "id": "904170dd",
   "metadata": {},
   "outputs": [
    {
     "ename": "ZoneInfoNotFoundError",
     "evalue": "'No time zone found with key America/Los_Angeles'",
     "output_type": "error",
     "traceback": [
      "\u001b[31m---------------------------------------------------------------------------\u001b[39m",
      "\u001b[31mModuleNotFoundError\u001b[39m                       Traceback (most recent call last)",
      "\u001b[36mFile \u001b[39m\u001b[32mc:\\Python311\\Lib\\zoneinfo\\_common.py:12\u001b[39m, in \u001b[36mload_tzdata\u001b[39m\u001b[34m(key)\u001b[39m\n\u001b[32m     11\u001b[39m \u001b[38;5;28;01mtry\u001b[39;00m:\n\u001b[32m---> \u001b[39m\u001b[32m12\u001b[39m     \u001b[38;5;28;01mreturn\u001b[39;00m \u001b[43mresources\u001b[49m\u001b[43m.\u001b[49m\u001b[43mfiles\u001b[49m\u001b[43m(\u001b[49m\u001b[43mpackage_name\u001b[49m\u001b[43m)\u001b[49m.joinpath(resource_name).open(\u001b[33m\"\u001b[39m\u001b[33mrb\u001b[39m\u001b[33m\"\u001b[39m)\n\u001b[32m     13\u001b[39m \u001b[38;5;28;01mexcept\u001b[39;00m (\u001b[38;5;167;01mImportError\u001b[39;00m, \u001b[38;5;167;01mFileNotFoundError\u001b[39;00m, \u001b[38;5;167;01mUnicodeEncodeError\u001b[39;00m):\n\u001b[32m     14\u001b[39m     \u001b[38;5;66;03m# There are three types of exception that can be raised that all amount\u001b[39;00m\n\u001b[32m     15\u001b[39m     \u001b[38;5;66;03m# to \"we cannot find this key\":\u001b[39;00m\n\u001b[32m   (...)\u001b[39m\u001b[32m     22\u001b[39m     \u001b[38;5;66;03m# UnicodeEncodeError: If package_name or resource_name are not UTF-8,\u001b[39;00m\n\u001b[32m     23\u001b[39m     \u001b[38;5;66;03m#   such as keys containing a surrogate character.\u001b[39;00m\n",
      "\u001b[36mFile \u001b[39m\u001b[32mc:\\Python311\\Lib\\importlib\\resources\\_common.py:22\u001b[39m, in \u001b[36mfiles\u001b[39m\u001b[34m(package)\u001b[39m\n\u001b[32m     19\u001b[39m \u001b[38;5;250m\u001b[39m\u001b[33;03m\"\"\"\u001b[39;00m\n\u001b[32m     20\u001b[39m \u001b[33;03mGet a Traversable resource from a package\u001b[39;00m\n\u001b[32m     21\u001b[39m \u001b[33;03m\"\"\"\u001b[39;00m\n\u001b[32m---> \u001b[39m\u001b[32m22\u001b[39m \u001b[38;5;28;01mreturn\u001b[39;00m from_package(\u001b[43mget_package\u001b[49m\u001b[43m(\u001b[49m\u001b[43mpackage\u001b[49m\u001b[43m)\u001b[49m)\n",
      "\u001b[36mFile \u001b[39m\u001b[32mc:\\Python311\\Lib\\importlib\\resources\\_common.py:53\u001b[39m, in \u001b[36mget_package\u001b[39m\u001b[34m(package)\u001b[39m\n\u001b[32m     49\u001b[39m \u001b[38;5;250m\u001b[39m\u001b[33;03m\"\"\"Take a package name or module object and return the module.\u001b[39;00m\n\u001b[32m     50\u001b[39m \n\u001b[32m     51\u001b[39m \u001b[33;03mRaise an exception if the resolved module is not a package.\u001b[39;00m\n\u001b[32m     52\u001b[39m \u001b[33;03m\"\"\"\u001b[39;00m\n\u001b[32m---> \u001b[39m\u001b[32m53\u001b[39m resolved = \u001b[43mresolve\u001b[49m\u001b[43m(\u001b[49m\u001b[43mpackage\u001b[49m\u001b[43m)\u001b[49m\n\u001b[32m     54\u001b[39m \u001b[38;5;28;01mif\u001b[39;00m wrap_spec(resolved).submodule_search_locations \u001b[38;5;129;01mis\u001b[39;00m \u001b[38;5;28;01mNone\u001b[39;00m:\n",
      "\u001b[36mFile \u001b[39m\u001b[32mc:\\Python311\\Lib\\importlib\\resources\\_common.py:44\u001b[39m, in \u001b[36mresolve\u001b[39m\u001b[34m(cand)\u001b[39m\n\u001b[32m     42\u001b[39m \u001b[38;5;28;01mdef\u001b[39;00m\u001b[38;5;250m \u001b[39m\u001b[34mresolve\u001b[39m(cand):\n\u001b[32m     43\u001b[39m     \u001b[38;5;66;03m# type: (Package) -> types.ModuleType\u001b[39;00m\n\u001b[32m---> \u001b[39m\u001b[32m44\u001b[39m     \u001b[38;5;28;01mreturn\u001b[39;00m cand \u001b[38;5;28;01mif\u001b[39;00m \u001b[38;5;28misinstance\u001b[39m(cand, types.ModuleType) \u001b[38;5;28;01melse\u001b[39;00m \u001b[43mimportlib\u001b[49m\u001b[43m.\u001b[49m\u001b[43mimport_module\u001b[49m\u001b[43m(\u001b[49m\u001b[43mcand\u001b[49m\u001b[43m)\u001b[49m\n",
      "\u001b[36mFile \u001b[39m\u001b[32mc:\\Python311\\Lib\\importlib\\__init__.py:126\u001b[39m, in \u001b[36mimport_module\u001b[39m\u001b[34m(name, package)\u001b[39m\n\u001b[32m    125\u001b[39m         level += \u001b[32m1\u001b[39m\n\u001b[32m--> \u001b[39m\u001b[32m126\u001b[39m \u001b[38;5;28;01mreturn\u001b[39;00m \u001b[43m_bootstrap\u001b[49m\u001b[43m.\u001b[49m\u001b[43m_gcd_import\u001b[49m\u001b[43m(\u001b[49m\u001b[43mname\u001b[49m\u001b[43m[\u001b[49m\u001b[43mlevel\u001b[49m\u001b[43m:\u001b[49m\u001b[43m]\u001b[49m\u001b[43m,\u001b[49m\u001b[43m \u001b[49m\u001b[43mpackage\u001b[49m\u001b[43m,\u001b[49m\u001b[43m \u001b[49m\u001b[43mlevel\u001b[49m\u001b[43m)\u001b[49m\n",
      "\u001b[36mFile \u001b[39m\u001b[32m<frozen importlib._bootstrap>:1204\u001b[39m, in \u001b[36m_gcd_import\u001b[39m\u001b[34m(name, package, level)\u001b[39m\n",
      "\u001b[36mFile \u001b[39m\u001b[32m<frozen importlib._bootstrap>:1176\u001b[39m, in \u001b[36m_find_and_load\u001b[39m\u001b[34m(name, import_)\u001b[39m\n",
      "\u001b[36mFile \u001b[39m\u001b[32m<frozen importlib._bootstrap>:1126\u001b[39m, in \u001b[36m_find_and_load_unlocked\u001b[39m\u001b[34m(name, import_)\u001b[39m\n",
      "\u001b[36mFile \u001b[39m\u001b[32m<frozen importlib._bootstrap>:241\u001b[39m, in \u001b[36m_call_with_frames_removed\u001b[39m\u001b[34m(f, *args, **kwds)\u001b[39m\n",
      "\u001b[36mFile \u001b[39m\u001b[32m<frozen importlib._bootstrap>:1204\u001b[39m, in \u001b[36m_gcd_import\u001b[39m\u001b[34m(name, package, level)\u001b[39m\n",
      "\u001b[36mFile \u001b[39m\u001b[32m<frozen importlib._bootstrap>:1176\u001b[39m, in \u001b[36m_find_and_load\u001b[39m\u001b[34m(name, import_)\u001b[39m\n",
      "\u001b[36mFile \u001b[39m\u001b[32m<frozen importlib._bootstrap>:1126\u001b[39m, in \u001b[36m_find_and_load_unlocked\u001b[39m\u001b[34m(name, import_)\u001b[39m\n",
      "\u001b[36mFile \u001b[39m\u001b[32m<frozen importlib._bootstrap>:241\u001b[39m, in \u001b[36m_call_with_frames_removed\u001b[39m\u001b[34m(f, *args, **kwds)\u001b[39m\n",
      "\u001b[36mFile \u001b[39m\u001b[32m<frozen importlib._bootstrap>:1204\u001b[39m, in \u001b[36m_gcd_import\u001b[39m\u001b[34m(name, package, level)\u001b[39m\n",
      "\u001b[36mFile \u001b[39m\u001b[32m<frozen importlib._bootstrap>:1176\u001b[39m, in \u001b[36m_find_and_load\u001b[39m\u001b[34m(name, import_)\u001b[39m\n",
      "\u001b[36mFile \u001b[39m\u001b[32m<frozen importlib._bootstrap>:1140\u001b[39m, in \u001b[36m_find_and_load_unlocked\u001b[39m\u001b[34m(name, import_)\u001b[39m\n",
      "\u001b[31mModuleNotFoundError\u001b[39m: No module named 'tzdata'",
      "\nDuring handling of the above exception, another exception occurred:\n",
      "\u001b[31mZoneInfoNotFoundError\u001b[39m                     Traceback (most recent call last)",
      "\u001b[36mCell\u001b[39m\u001b[36m \u001b[39m\u001b[32mIn[89]\u001b[39m\u001b[32m, line 1\u001b[39m\n\u001b[32m----> \u001b[39m\u001b[32m1\u001b[39m pacific = \u001b[43mZoneInfo\u001b[49m\u001b[43m(\u001b[49m\u001b[33;43m\"\u001b[39;49m\u001b[33;43mAmerica/Los_Angeles\u001b[39;49m\u001b[33;43m\"\u001b[39;49m\u001b[43m)\u001b[49m\n",
      "\u001b[36mFile \u001b[39m\u001b[32mc:\\Python311\\Lib\\zoneinfo\\_common.py:24\u001b[39m, in \u001b[36mload_tzdata\u001b[39m\u001b[34m(key)\u001b[39m\n\u001b[32m     12\u001b[39m     \u001b[38;5;28;01mreturn\u001b[39;00m resources.files(package_name).joinpath(resource_name).open(\u001b[33m\"\u001b[39m\u001b[33mrb\u001b[39m\u001b[33m\"\u001b[39m)\n\u001b[32m     13\u001b[39m \u001b[38;5;28;01mexcept\u001b[39;00m (\u001b[38;5;167;01mImportError\u001b[39;00m, \u001b[38;5;167;01mFileNotFoundError\u001b[39;00m, \u001b[38;5;167;01mUnicodeEncodeError\u001b[39;00m):\n\u001b[32m     14\u001b[39m     \u001b[38;5;66;03m# There are three types of exception that can be raised that all amount\u001b[39;00m\n\u001b[32m     15\u001b[39m     \u001b[38;5;66;03m# to \"we cannot find this key\":\u001b[39;00m\n\u001b[32m   (...)\u001b[39m\u001b[32m     22\u001b[39m     \u001b[38;5;66;03m# UnicodeEncodeError: If package_name or resource_name are not UTF-8,\u001b[39;00m\n\u001b[32m     23\u001b[39m     \u001b[38;5;66;03m#   such as keys containing a surrogate character.\u001b[39;00m\n\u001b[32m---> \u001b[39m\u001b[32m24\u001b[39m     \u001b[38;5;28;01mraise\u001b[39;00m ZoneInfoNotFoundError(\u001b[33mf\u001b[39m\u001b[33m\"\u001b[39m\u001b[33mNo time zone found with key \u001b[39m\u001b[38;5;132;01m{\u001b[39;00mkey\u001b[38;5;132;01m}\u001b[39;00m\u001b[33m\"\u001b[39m)\n",
      "\u001b[31mZoneInfoNotFoundError\u001b[39m: 'No time zone found with key America/Los_Angeles'"
     ]
    }
   ],
   "source": [
    "pacific = ZoneInfo(\"America/Los_Angeles\")"
   ]
  },
  {
   "cell_type": "code",
   "execution_count": 90,
   "id": "5d3c1201",
   "metadata": {},
   "outputs": [],
   "source": [
    "import datetime as dt"
   ]
  },
  {
   "cell_type": "code",
   "execution_count": 91,
   "id": "cd2caa77",
   "metadata": {},
   "outputs": [],
   "source": [
    "now = dt.datetime.now()"
   ]
  },
  {
   "cell_type": "code",
   "execution_count": 92,
   "id": "fe38732e",
   "metadata": {},
   "outputs": [],
   "source": [
    "indian_independence = dt.datetime(1947,8,15,0,0,0)"
   ]
  },
  {
   "cell_type": "code",
   "execution_count": 93,
   "id": "03f75882",
   "metadata": {},
   "outputs": [
    {
     "data": {
      "text/plain": [
       "datetime.timedelta(days=28386, seconds=71894, microseconds=299825)"
      ]
     },
     "execution_count": 93,
     "metadata": {},
     "output_type": "execute_result"
    }
   ],
   "source": [
    "now - indian_independence "
   ]
  },
  {
   "cell_type": "code",
   "execution_count": 94,
   "id": "1c2c3be7",
   "metadata": {},
   "outputs": [],
   "source": [
    "now = dt.datetime.now()"
   ]
  },
  {
   "cell_type": "code",
   "execution_count": 95,
   "id": "d9f6fcd6",
   "metadata": {},
   "outputs": [
    {
     "data": {
      "text/plain": [
       "datetime.datetime(2025, 5, 3, 20, 0, 55, 610104)"
      ]
     },
     "execution_count": 95,
     "metadata": {},
     "output_type": "execute_result"
    }
   ],
   "source": [
    "now"
   ]
  },
  {
   "cell_type": "code",
   "execution_count": 96,
   "id": "1a32cfe8",
   "metadata": {},
   "outputs": [
    {
     "data": {
      "text/plain": [
       "'03-05-2025'"
      ]
     },
     "execution_count": 96,
     "metadata": {},
     "output_type": "execute_result"
    }
   ],
   "source": [
    "now.strftime(\"%d-%m-%Y\")"
   ]
  },
  {
   "cell_type": "code",
   "execution_count": 97,
   "id": "19e93316",
   "metadata": {},
   "outputs": [
    {
     "data": {
      "text/plain": [
       "'05/03/2025'"
      ]
     },
     "execution_count": 97,
     "metadata": {},
     "output_type": "execute_result"
    }
   ],
   "source": [
    "now.strftime(\"%m/%d/%Y\")"
   ]
  },
  {
   "cell_type": "code",
   "execution_count": 98,
   "id": "c6f9ac99",
   "metadata": {},
   "outputs": [
    {
     "data": {
      "text/plain": [
       "'May/03/2025'"
      ]
     },
     "execution_count": 98,
     "metadata": {},
     "output_type": "execute_result"
    }
   ],
   "source": [
    "now.strftime(\"%B/%d/%Y\")"
   ]
  },
  {
   "cell_type": "code",
   "execution_count": 99,
   "id": "6844cd45",
   "metadata": {},
   "outputs": [
    {
     "data": {
      "text/plain": [
       "'2025-05-03T20:00:55.610104'"
      ]
     },
     "execution_count": 99,
     "metadata": {},
     "output_type": "execute_result"
    }
   ],
   "source": [
    "now.isoformat()"
   ]
  },
  {
   "cell_type": "code",
   "execution_count": 100,
   "id": "65a99a35",
   "metadata": {},
   "outputs": [],
   "source": [
    "import locale\n",
    "from datetime import datetime"
   ]
  },
  {
   "cell_type": "code",
   "execution_count": 118,
   "id": "44864b41",
   "metadata": {},
   "outputs": [
    {
     "data": {
      "text/plain": [
       "'en-in'"
      ]
     },
     "execution_count": 118,
     "metadata": {},
     "output_type": "execute_result"
    }
   ],
   "source": [
    "locale.setlocale(locale.LC_TIME, 'en-in')"
   ]
  },
  {
   "cell_type": "code",
   "execution_count": 119,
   "id": "07c5720c",
   "metadata": {},
   "outputs": [],
   "source": [
    "now = datetime.now()"
   ]
  },
  {
   "cell_type": "code",
   "execution_count": 120,
   "id": "a4950517",
   "metadata": {},
   "outputs": [
    {
     "data": {
      "text/plain": [
       "datetime.datetime(2025, 5, 3, 20, 8, 8, 971248)"
      ]
     },
     "execution_count": 120,
     "metadata": {},
     "output_type": "execute_result"
    }
   ],
   "source": [
    "now"
   ]
  },
  {
   "cell_type": "code",
   "execution_count": 121,
   "id": "495abe7e",
   "metadata": {},
   "outputs": [
    {
     "data": {
      "text/plain": [
       "'Saturday, 03. May 2025'"
      ]
     },
     "execution_count": 121,
     "metadata": {},
     "output_type": "execute_result"
    }
   ],
   "source": [
    "now.strftime(\"%A, %d. %B %Y\")"
   ]
  },
  {
   "cell_type": "code",
   "execution_count": null,
   "id": "624131cb",
   "metadata": {},
   "outputs": [],
   "source": [
    "# Exercise: \n",
    "# How to convert string into date\n",
    "# How to convert string into datetime"
   ]
  },
  {
   "cell_type": "code",
   "execution_count": 122,
   "id": "a6a2fdc1",
   "metadata": {},
   "outputs": [],
   "source": [
    "# Generators in python"
   ]
  },
  {
   "cell_type": "code",
   "execution_count": null,
   "id": "d53cf15d",
   "metadata": {},
   "outputs": [],
   "source": [
    "# Lets write a function which returns even numbers between start and finish\n",
    "\n",
    "def even_numbers(start:int, finish:int):\n",
    "    results = []\n",
    "    for number in range(start,finish+1):\n",
    "        if number % 2 == 0:\n",
    "            results.append(number)\n",
    "    return results\n"
   ]
  },
  {
   "cell_type": "code",
   "execution_count": 126,
   "id": "56507b41",
   "metadata": {},
   "outputs": [
    {
     "data": {
      "text/plain": [
       "[10, 12, 14, 16, 18, 20]"
      ]
     },
     "execution_count": 126,
     "metadata": {},
     "output_type": "execute_result"
    }
   ],
   "source": [
    "even_numbers(10,20)"
   ]
  },
  {
   "cell_type": "code",
   "execution_count": 128,
   "id": "666a4593",
   "metadata": {},
   "outputs": [],
   "source": [
    "def even_numbers_generator(start:int, finish:int):\n",
    "    for number in range(start,finish+1):\n",
    "        if number % 2 == 0:\n",
    "            yield number"
   ]
  },
  {
   "cell_type": "code",
   "execution_count": 129,
   "id": "b0830a47",
   "metadata": {},
   "outputs": [
    {
     "data": {
      "text/plain": [
       "<generator object even_numbers_generator at 0x00000228197CA020>"
      ]
     },
     "execution_count": 129,
     "metadata": {},
     "output_type": "execute_result"
    }
   ],
   "source": [
    "even_numbers_generator(10,20)"
   ]
  },
  {
   "cell_type": "code",
   "execution_count": 130,
   "id": "b1309e3a",
   "metadata": {},
   "outputs": [
    {
     "name": "stdout",
     "output_type": "stream",
     "text": [
      "10\n",
      "12\n",
      "14\n",
      "16\n",
      "18\n",
      "20\n"
     ]
    }
   ],
   "source": [
    "for even_number in even_numbers_generator(10,20):\n",
    "    print(even_number)"
   ]
  }
 ],
 "metadata": {
  "kernelspec": {
   "display_name": "Python 3",
   "language": "python",
   "name": "python3"
  },
  "language_info": {
   "codemirror_mode": {
    "name": "ipython",
    "version": 3
   },
   "file_extension": ".py",
   "mimetype": "text/x-python",
   "name": "python",
   "nbconvert_exporter": "python",
   "pygments_lexer": "ipython3",
   "version": "3.11.9"
  }
 },
 "nbformat": 4,
 "nbformat_minor": 5
}
