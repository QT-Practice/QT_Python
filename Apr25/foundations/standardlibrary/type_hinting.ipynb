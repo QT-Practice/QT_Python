{
 "cells": [
  {
   "cell_type": "markdown",
   "id": "cc05f46d",
   "metadata": {},
   "source": [
    "# Functions type hinting"
   ]
  },
  {
   "cell_type": "code",
   "execution_count": 1,
   "id": "097cf7c2",
   "metadata": {},
   "outputs": [],
   "source": [
    "def say_hello(name):\n",
    "    return f\"Hello {name}\""
   ]
  },
  {
   "cell_type": "code",
   "execution_count": 2,
   "id": "71d40d84",
   "metadata": {},
   "outputs": [
    {
     "data": {
      "text/plain": [
       "'Hello Python'"
      ]
     },
     "execution_count": 2,
     "metadata": {},
     "output_type": "execute_result"
    }
   ],
   "source": [
    "say_hello(\"Python\")"
   ]
  },
  {
   "cell_type": "code",
   "execution_count": 3,
   "id": "ea529e29",
   "metadata": {},
   "outputs": [],
   "source": [
    "# with type hinting\n",
    "\n",
    "def say_hello(name:str) -> str:\n",
    "    \"\"\"This function returns hello message\n",
    "\n",
    "    Args:\n",
    "        name (str): name of the person\n",
    "\n",
    "    Returns:\n",
    "        str: Hello message\n",
    "    \"\"\"\n",
    "    return f\"Hello {name} \""
   ]
  },
  {
   "cell_type": "code",
   "execution_count": 4,
   "id": "18756aae",
   "metadata": {},
   "outputs": [
    {
     "data": {
      "text/plain": [
       "'Hello Python '"
      ]
     },
     "execution_count": 4,
     "metadata": {},
     "output_type": "execute_result"
    }
   ],
   "source": [
    "say_hello(name=\"Python\")"
   ]
  },
  {
   "cell_type": "code",
   "execution_count": 5,
   "id": "8e927021",
   "metadata": {},
   "outputs": [],
   "source": [
    "from typing import Union\n",
    "\n",
    "def simple_intrest(principal: Union[int,float], time: int, rate: int) -> float:\n",
    "    \"\"\"Calculates simple intrest\n",
    "\n",
    "    Args:\n",
    "        principal (Union[int,float]): principal amount\n",
    "        time (int): time in years\n",
    "        rate (int): annual intrest rate\n",
    "\n",
    "    Returns:\n",
    "        float: simple intrest\n",
    "    \"\"\"\n",
    "    return principal * time * rate / 100"
   ]
  },
  {
   "cell_type": "code",
   "execution_count": 6,
   "id": "7017f25c",
   "metadata": {},
   "outputs": [
    {
     "data": {
      "text/plain": [
       "12000.803999999998"
      ]
     },
     "execution_count": 6,
     "metadata": {},
     "output_type": "execute_result"
    }
   ],
   "source": [
    "simple_intrest(principal=10000.67, time=10, rate=12)"
   ]
  },
  {
   "cell_type": "code",
   "execution_count": 7,
   "id": "f49ea1d7",
   "metadata": {},
   "outputs": [],
   "source": [
    "def simple_intrest(principal: int|float, time: int, rate: int) -> float:\n",
    "    \"\"\"Calculates simple intrest\n",
    "\n",
    "    Args:\n",
    "        principal (int|float): principal amount\n",
    "        time (int): time in years\n",
    "        rate (int): annual intrest rate\n",
    "\n",
    "    Returns:\n",
    "        float: simple intrest\n",
    "    \"\"\"\n",
    "    return principal * time * rate / 100"
   ]
  },
  {
   "cell_type": "code",
   "execution_count": 8,
   "id": "2ccc0b13",
   "metadata": {},
   "outputs": [],
   "source": [
    "from typing import Optional\n",
    "\n",
    "def add(x: Optional[int] = 10, y:Optional[int] = 10):\n",
    "    return x + y"
   ]
  },
  {
   "cell_type": "code",
   "execution_count": 9,
   "id": "c1920aab",
   "metadata": {},
   "outputs": [
    {
     "data": {
      "text/plain": [
       "20"
      ]
     },
     "execution_count": 9,
     "metadata": {},
     "output_type": "execute_result"
    }
   ],
   "source": [
    "add()"
   ]
  },
  {
   "cell_type": "code",
   "execution_count": 10,
   "id": "5ff80287",
   "metadata": {},
   "outputs": [
    {
     "data": {
      "text/plain": [
       "110"
      ]
     },
     "execution_count": 10,
     "metadata": {},
     "output_type": "execute_result"
    }
   ],
   "source": [
    "add(x=100)"
   ]
  },
  {
   "cell_type": "code",
   "execution_count": 12,
   "id": "95c9d2f6",
   "metadata": {},
   "outputs": [],
   "source": [
    "def filter_names(names: list[str], filter: Optional[str] =\"aieou\") -> list[str]:\n",
    "    \"\"\"This function filters names based on starting letter in filter\n",
    "\n",
    "    Args:\n",
    "        names (list[str]): _description_\n",
    "        filter (Optional[str], optional): _description_. Defaults to \"aieou\".\n",
    "\n",
    "    Returns:\n",
    "        list[str]: _description_\n",
    "    \"\"\"\n",
    "    return [ superhero for superhero in names if superhero[0].lower() in filter ]\n"
   ]
  },
  {
   "cell_type": "code",
   "execution_count": 13,
   "id": "f19dd7e0",
   "metadata": {},
   "outputs": [
    {
     "data": {
      "text/plain": [
       "['Avengers']"
      ]
     },
     "execution_count": 13,
     "metadata": {},
     "output_type": "execute_result"
    }
   ],
   "source": [
    "filter_names([\"Avengers\", \"Justice League\"])"
   ]
  },
  {
   "cell_type": "code",
   "execution_count": null,
   "id": "9257f4b5",
   "metadata": {},
   "outputs": [],
   "source": [
    "# Type Hinting for Classes"
   ]
  },
  {
   "cell_type": "code",
   "execution_count": null,
   "id": "23982e5c",
   "metadata": {},
   "outputs": [],
   "source": [
    "class Product:\n",
    "    count: int\n",
    "    def __init__(self, name:str, price: int|float):\n",
    "        \"\"\"Initialize the Product object\n",
    "\n",
    "        Args:\n",
    "            name (str): _description_\n",
    "            price (int | float): _description_\n",
    "        \"\"\"\n",
    "        self._name = name\n",
    "        self._price = price"
   ]
  },
  {
   "cell_type": "code",
   "execution_count": 16,
   "id": "46ed4cb2",
   "metadata": {},
   "outputs": [],
   "source": [
    "# Typed Dict\n",
    "from typing import TypedDict"
   ]
  },
  {
   "cell_type": "code",
   "execution_count": 15,
   "id": "9dd18adb",
   "metadata": {},
   "outputs": [],
   "source": [
    "class Person(TypedDict):\n",
    "    name: str\n",
    "    age: int\n",
    "    email: str"
   ]
  },
  {
   "cell_type": "code",
   "execution_count": 17,
   "id": "d46bba06",
   "metadata": {},
   "outputs": [],
   "source": [
    "person_info: Person = {\n",
    "    'name': 'John Doe',\n",
    "    'age': 20,\n",
    "    'email': 'john.doe@examples.in'\n",
    "}"
   ]
  },
  {
   "cell_type": "code",
   "execution_count": 18,
   "id": "e480c9bf",
   "metadata": {},
   "outputs": [
    {
     "data": {
      "text/plain": [
       "'John Doe'"
      ]
     },
     "execution_count": 18,
     "metadata": {},
     "output_type": "execute_result"
    }
   ],
   "source": [
    "person_info['name']"
   ]
  },
  {
   "cell_type": "code",
   "execution_count": 19,
   "id": "d52dc7fb",
   "metadata": {},
   "outputs": [
    {
     "data": {
      "text/plain": [
       "'john.doe@examples.in'"
      ]
     },
     "execution_count": 19,
     "metadata": {},
     "output_type": "execute_result"
    }
   ],
   "source": [
    "person_info['email']"
   ]
  },
  {
   "cell_type": "code",
   "execution_count": null,
   "id": "b1f6feac",
   "metadata": {},
   "outputs": [],
   "source": [
    "from typing import Required, NotRequired\n",
    "\n",
    "class Person(TypedDict):\n",
    "    name: Required[str]\n",
    "    age: NotRequired[int]\n",
    "    email: Required[str]"
   ]
  }
 ],
 "metadata": {
  "kernelspec": {
   "display_name": "Python 3",
   "language": "python",
   "name": "python3"
  },
  "language_info": {
   "codemirror_mode": {
    "name": "ipython",
    "version": 3
   },
   "file_extension": ".py",
   "mimetype": "text/x-python",
   "name": "python",
   "nbconvert_exporter": "python",
   "pygments_lexer": "ipython3",
   "version": "3.11.9"
  }
 },
 "nbformat": 4,
 "nbformat_minor": 5
}
