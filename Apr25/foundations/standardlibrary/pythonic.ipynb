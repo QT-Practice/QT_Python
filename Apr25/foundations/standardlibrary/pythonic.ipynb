{
 "cells": [
  {
   "cell_type": "code",
   "execution_count": null,
   "id": "75ec77be",
   "metadata": {},
   "outputs": [],
   "source": [
    "## list comprehensions"
   ]
  },
  {
   "cell_type": "code",
   "execution_count": 1,
   "id": "f5841721",
   "metadata": {},
   "outputs": [],
   "source": [
    "def even_numbers(start:int, finish:int):\n",
    "    results = []\n",
    "    for number in range(start,finish+1):\n",
    "        if number % 2 == 0:\n",
    "            results.append(number)\n",
    "    return results"
   ]
  },
  {
   "cell_type": "code",
   "execution_count": 2,
   "id": "06861fcc",
   "metadata": {},
   "outputs": [
    {
     "data": {
      "text/plain": [
       "[10, 12, 14, 16, 18, 20, 22, 24, 26, 28, 30]"
      ]
     },
     "execution_count": 2,
     "metadata": {},
     "output_type": "execute_result"
    }
   ],
   "source": [
    "even_numbers(10,30)"
   ]
  },
  {
   "cell_type": "code",
   "execution_count": 3,
   "id": "63acfd99",
   "metadata": {},
   "outputs": [
    {
     "data": {
      "text/plain": [
       "[10,\n",
       " 11,\n",
       " 12,\n",
       " 13,\n",
       " 14,\n",
       " 15,\n",
       " 16,\n",
       " 17,\n",
       " 18,\n",
       " 19,\n",
       " 20,\n",
       " 21,\n",
       " 22,\n",
       " 23,\n",
       " 24,\n",
       " 25,\n",
       " 26,\n",
       " 27,\n",
       " 28,\n",
       " 29]"
      ]
     },
     "execution_count": 3,
     "metadata": {},
     "output_type": "execute_result"
    }
   ],
   "source": [
    "[ number for number in range(10,30) ]"
   ]
  },
  {
   "cell_type": "code",
   "execution_count": 4,
   "id": "6a2c7a69",
   "metadata": {},
   "outputs": [
    {
     "data": {
      "text/plain": [
       "[10, 12, 14, 16, 18, 20, 22, 24, 26, 28]"
      ]
     },
     "execution_count": 4,
     "metadata": {},
     "output_type": "execute_result"
    }
   ],
   "source": [
    "[ number for number in range(10,30) if number%2 == 0 ]"
   ]
  },
  {
   "cell_type": "code",
   "execution_count": 5,
   "id": "911ff8f8",
   "metadata": {},
   "outputs": [
    {
     "data": {
      "text/plain": [
       "[10, 12, 14, 16, 18, 20, 22, 24, 26, 28]"
      ]
     },
     "execution_count": 5,
     "metadata": {},
     "output_type": "execute_result"
    }
   ],
   "source": [
    "start = 10\n",
    "end = 30\n",
    "[ number for number in range(start,end) if number%2 == 0 ]"
   ]
  },
  {
   "cell_type": "code",
   "execution_count": null,
   "id": "c59a23ad",
   "metadata": {},
   "outputs": [],
   "source": [
    "multiples = [ number  for number in range(10) if number%3 == 0 or number%5 == 0 ]"
   ]
  },
  {
   "cell_type": "code",
   "execution_count": 7,
   "id": "fb82aebc",
   "metadata": {},
   "outputs": [
    {
     "data": {
      "text/plain": [
       "[0, 3, 5, 6, 9]"
      ]
     },
     "execution_count": 7,
     "metadata": {},
     "output_type": "execute_result"
    }
   ],
   "source": [
    "multiples"
   ]
  },
  {
   "cell_type": "code",
   "execution_count": 8,
   "id": "a586f3d3",
   "metadata": {},
   "outputs": [
    {
     "data": {
      "text/plain": [
       "23"
      ]
     },
     "execution_count": 8,
     "metadata": {},
     "output_type": "execute_result"
    }
   ],
   "source": [
    "sum(multiples)"
   ]
  },
  {
   "cell_type": "code",
   "execution_count": 10,
   "id": "2cc401c5",
   "metadata": {},
   "outputs": [
    {
     "data": {
      "text/plain": [
       "233168"
      ]
     },
     "execution_count": 10,
     "metadata": {},
     "output_type": "execute_result"
    }
   ],
   "source": [
    "max = 1000\n",
    "sum([ number  for number in range(max) if number%3 == 0 or number%5 == 0 ])"
   ]
  },
  {
   "cell_type": "code",
   "execution_count": 11,
   "id": "8ed95856",
   "metadata": {},
   "outputs": [],
   "source": [
    "numbers = list(range(1,11))"
   ]
  },
  {
   "cell_type": "code",
   "execution_count": 12,
   "id": "e8251619",
   "metadata": {},
   "outputs": [
    {
     "data": {
      "text/plain": [
       "[1, 2, 3, 4, 5, 6, 7, 8, 9, 10]"
      ]
     },
     "execution_count": 12,
     "metadata": {},
     "output_type": "execute_result"
    }
   ],
   "source": [
    "numbers"
   ]
  },
  {
   "cell_type": "code",
   "execution_count": 13,
   "id": "7a7953fe",
   "metadata": {},
   "outputs": [
    {
     "data": {
      "text/plain": [
       "{1, 4, 9, 16, 25, 36, 49, 64, 81, 100}"
      ]
     },
     "execution_count": 13,
     "metadata": {},
     "output_type": "execute_result"
    }
   ],
   "source": [
    "{ number ** 2 for number in numbers }"
   ]
  },
  {
   "cell_type": "code",
   "execution_count": 14,
   "id": "3a53e621",
   "metadata": {},
   "outputs": [],
   "source": [
    "# let create a dictionary where key is number and value is its cube\n",
    "\n",
    "cube_dict = { number: number ** 3 for number in range(1,11) }"
   ]
  },
  {
   "cell_type": "code",
   "execution_count": 15,
   "id": "5e64d820",
   "metadata": {},
   "outputs": [
    {
     "data": {
      "text/plain": [
       "{1: 1, 2: 8, 3: 27, 4: 64, 5: 125, 6: 216, 7: 343, 8: 512, 9: 729, 10: 1000}"
      ]
     },
     "execution_count": 15,
     "metadata": {},
     "output_type": "execute_result"
    }
   ],
   "source": [
    "cube_dict"
   ]
  },
  {
   "cell_type": "code",
   "execution_count": 17,
   "id": "9e81c774",
   "metadata": {},
   "outputs": [],
   "source": [
    "superheros = [\n",
    "    \"Captain Thunder\",\n",
    "    \"Shadow Viper\",\n",
    "    \"Iron Sentinel\",\n",
    "    \"Crimson Falcon\",\n",
    "    \"Night Blaze\",\n",
    "    \"Silver Specter\",\n",
    "    \"Aqua Dynamo\",\n",
    "    \"Solar Flare\",\n",
    "    \"Phantom Mirage\",\n",
    "    \"Quantum Hawk\",\n",
    "    \"Blizzard Guardian\",\n",
    "    \"Vortex Ranger\",\n",
    "    \"Lunar Eclipse\",\n",
    "    \"Emerald Archer\",\n",
    "    \"Titanium Titan\"\n",
    "]\n"
   ]
  },
  {
   "cell_type": "code",
   "execution_count": 18,
   "id": "1a26c884",
   "metadata": {},
   "outputs": [
    {
     "name": "stdout",
     "output_type": "stream",
     "text": [
      "['Iron Sentinel', 'Aqua Dynamo', 'Emerald Archer']\n"
     ]
    }
   ],
   "source": [
    "# get all the super heros who name starts with vowel\n",
    "\n",
    "# Traditional\n",
    "vowel_heros = []\n",
    "for superhero in superheros:\n",
    "    if superhero[0].lower() in \"aeiou\":\n",
    "        vowel_heros.append(superhero)\n",
    "print(vowel_heros)\n",
    "\n"
   ]
  },
  {
   "cell_type": "code",
   "execution_count": 19,
   "id": "0ccaf538",
   "metadata": {},
   "outputs": [
    {
     "data": {
      "text/plain": [
       "['Iron Sentinel', 'Aqua Dynamo', 'Emerald Archer']"
      ]
     },
     "execution_count": 19,
     "metadata": {},
     "output_type": "execute_result"
    }
   ],
   "source": [
    "# get all the super heros who name starts with vowel\n",
    "\n",
    "[ superhero for superhero in superheros if superhero[0].lower() in \"aeiou\" ]"
   ]
  },
  {
   "cell_type": "code",
   "execution_count": 22,
   "id": "41f2e25e",
   "metadata": {},
   "outputs": [
    {
     "name": "stdout",
     "output_type": "stream",
     "text": [
      "31239\n"
     ]
    }
   ],
   "source": [
    "from pathlib import Path\n",
    "\n",
    "file = Path('os_n_files.ipynb')\n",
    "print(file.stat().st_size)"
   ]
  },
  {
   "cell_type": "code",
   "execution_count": 25,
   "id": "6178f342",
   "metadata": {},
   "outputs": [
    {
     "data": {
      "text/plain": [
       "[WindowsPath('C:/Users/Dell/Downloads/BCompare-5.0.6.30713.exe'),\n",
       " WindowsPath('C:/Users/Dell/Downloads/gesc1dd.zip'),\n",
       " WindowsPath('C:/Users/Dell/Downloads/Git-2.48.1-64-bit.exe'),\n",
       " WindowsPath('C:/Users/Dell/Downloads/InstallerProjects2022.vsix'),\n",
       " WindowsPath('C:/Users/Dell/Downloads/jess1dd.zip'),\n",
       " WindowsPath('C:/Users/Dell/Downloads/jess2dd.zip'),\n",
       " WindowsPath('C:/Users/Dell/Downloads/Lens Setup 2025.2.141554-latest.exe'),\n",
       " WindowsPath('C:/Users/Dell/Downloads/li-et-al-2023-potential-health-impact-of-microplastics-a-review-of-environmental-distribution-human-exposure-and-toxic.pdf'),\n",
       " WindowsPath('C:/Users/Dell/Downloads/ms-devlabs.custom-terraform-tasks-0.1.33.vsix'),\n",
       " WindowsPath('C:/Users/Dell/Downloads/Office_2024_EN_64Bits.exe'),\n",
       " WindowsPath('C:/Users/Dell/Downloads/OllamaSetup.exe'),\n",
       " WindowsPath('C:/Users/Dell/Downloads/pone.0288661.pdf'),\n",
       " WindowsPath('C:/Users/Dell/Downloads/Sample - Superstore-better.xlsx'),\n",
       " WindowsPath('C:/Users/Dell/Downloads/Sample - Superstore.xls'),\n",
       " WindowsPath('C:/Users/Dell/Downloads/SampleVideo_1280x720_1mb.mp4'),\n",
       " WindowsPath('C:/Users/Dell/Downloads/spring-petclinic-3.4.0-SNAPSHOT.jar'),\n",
       " WindowsPath('C:/Users/Dell/Downloads/vlc-3.0.21-win32.exe'),\n",
       " WindowsPath('C:/Users/Dell/Downloads/gesc1dd/gesc101.pdf'),\n",
       " WindowsPath('C:/Users/Dell/Downloads/gesc1dd/gesc102.pdf'),\n",
       " WindowsPath('C:/Users/Dell/Downloads/gesc1dd/gesc103.pdf'),\n",
       " WindowsPath('C:/Users/Dell/Downloads/gesc1dd/gesc105.pdf'),\n",
       " WindowsPath('C:/Users/Dell/Downloads/gesc1dd/gesc106.pdf'),\n",
       " WindowsPath('C:/Users/Dell/Downloads/gesc1dd/gesc107.pdf'),\n",
       " WindowsPath('C:/Users/Dell/Downloads/gesc1dd/gesc108.pdf'),\n",
       " WindowsPath('C:/Users/Dell/Downloads/gesc1dd/gesc109.pdf'),\n",
       " WindowsPath('C:/Users/Dell/Downloads/gesc1dd/gesc110.pdf'),\n",
       " WindowsPath('C:/Users/Dell/Downloads/gesc1dd/gesc111.pdf'),\n",
       " WindowsPath('C:/Users/Dell/Downloads/gesc1dd/gesc112.pdf'),\n",
       " WindowsPath('C:/Users/Dell/Downloads/gesc1dd/gesc113.pdf'),\n",
       " WindowsPath('C:/Users/Dell/Downloads/gesc1dd/gesc1ps.pdf'),\n",
       " WindowsPath('C:/Users/Dell/Downloads/jess1dd/jess101.pdf'),\n",
       " WindowsPath('C:/Users/Dell/Downloads/jess1dd/jess103.pdf'),\n",
       " WindowsPath('C:/Users/Dell/Downloads/jess1dd/jess104.pdf'),\n",
       " WindowsPath('C:/Users/Dell/Downloads/jess1dd/jess105.pdf'),\n",
       " WindowsPath('C:/Users/Dell/Downloads/jess1dd/jess106.pdf'),\n",
       " WindowsPath('C:/Users/Dell/Downloads/jess1dd/jess107.pdf'),\n",
       " WindowsPath('C:/Users/Dell/Downloads/jess1dd/jess1a1.pdf'),\n",
       " WindowsPath('C:/Users/Dell/Downloads/jess1dd/jess1ps.pdf'),\n",
       " WindowsPath('C:/Users/Dell/Downloads/package/setup.exe')]"
      ]
     },
     "execution_count": 25,
     "metadata": {},
     "output_type": "execute_result"
    }
   ],
   "source": [
    "# path = Path(r\"C:\\Users\\Dell\\Downloads\")\n",
    "# for item in path.rglob(\"*\"):\n",
    "#     if item.is_file():\n",
    "#         print(item.stat().st_size)\n",
    "path = Path(r\"C:\\Users\\Dell\\Downloads\")\n",
    "[ item for item in Path(r\"C:\\Users\\Dell\\Downloads\").rglob(\"*\") if  item.is_file() and item.stat().st_size > 1048576 ]"
   ]
  },
  {
   "cell_type": "code",
   "execution_count": null,
   "id": "6a241226",
   "metadata": {},
   "outputs": [],
   "source": []
  }
 ],
 "metadata": {
  "kernelspec": {
   "display_name": "Python 3",
   "language": "python",
   "name": "python3"
  },
  "language_info": {
   "codemirror_mode": {
    "name": "ipython",
    "version": 3
   },
   "file_extension": ".py",
   "mimetype": "text/x-python",
   "name": "python",
   "nbconvert_exporter": "python",
   "pygments_lexer": "ipython3",
   "version": "3.11.9"
  }
 },
 "nbformat": 4,
 "nbformat_minor": 5
}
