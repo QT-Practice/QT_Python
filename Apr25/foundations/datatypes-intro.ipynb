{
 "cells": [
  {
   "cell_type": "markdown",
   "id": "c49b86dc",
   "metadata": {},
   "source": [
    "# Exploring Numeric Data types\n",
    "\n",
    "* int\n",
    "* float\n",
    "* complex"
   ]
  },
  {
   "cell_type": "code",
   "execution_count": 1,
   "id": "3d6843bd",
   "metadata": {},
   "outputs": [],
   "source": [
    "x = 5"
   ]
  },
  {
   "cell_type": "code",
   "execution_count": 2,
   "id": "775009eb",
   "metadata": {},
   "outputs": [
    {
     "data": {
      "text/plain": [
       "5"
      ]
     },
     "execution_count": 2,
     "metadata": {},
     "output_type": "execute_result"
    }
   ],
   "source": [
    "x"
   ]
  },
  {
   "cell_type": "code",
   "execution_count": 3,
   "id": "4e1de3e6",
   "metadata": {},
   "outputs": [
    {
     "data": {
      "text/plain": [
       "int"
      ]
     },
     "execution_count": 3,
     "metadata": {},
     "output_type": "execute_result"
    }
   ],
   "source": [
    "type(x)"
   ]
  },
  {
   "cell_type": "markdown",
   "id": "eb9357d0",
   "metadata": {},
   "source": [
    "# Operators\n",
    "[link](https://www.programiz.com/python-programming/operators)"
   ]
  },
  {
   "cell_type": "code",
   "execution_count": 4,
   "id": "182423b4",
   "metadata": {},
   "outputs": [],
   "source": [
    "x = 10\n",
    "y = 20"
   ]
  },
  {
   "cell_type": "code",
   "execution_count": 5,
   "id": "185d7995",
   "metadata": {},
   "outputs": [
    {
     "data": {
      "text/plain": [
       "30"
      ]
     },
     "execution_count": 5,
     "metadata": {},
     "output_type": "execute_result"
    }
   ],
   "source": [
    "x + y"
   ]
  },
  {
   "cell_type": "code",
   "execution_count": 6,
   "id": "f15aca08",
   "metadata": {},
   "outputs": [
    {
     "data": {
      "text/plain": [
       "-10"
      ]
     },
     "execution_count": 6,
     "metadata": {},
     "output_type": "execute_result"
    }
   ],
   "source": [
    "x - y"
   ]
  },
  {
   "cell_type": "code",
   "execution_count": 7,
   "id": "03379278",
   "metadata": {},
   "outputs": [
    {
     "data": {
      "text/plain": [
       "200"
      ]
     },
     "execution_count": 7,
     "metadata": {},
     "output_type": "execute_result"
    }
   ],
   "source": [
    "x * y"
   ]
  },
  {
   "cell_type": "code",
   "execution_count": 8,
   "id": "e7d7eef0",
   "metadata": {},
   "outputs": [
    {
     "data": {
      "text/plain": [
       "0.5"
      ]
     },
     "execution_count": 8,
     "metadata": {},
     "output_type": "execute_result"
    }
   ],
   "source": [
    "x / y"
   ]
  },
  {
   "cell_type": "code",
   "execution_count": 9,
   "id": "52321b13",
   "metadata": {},
   "outputs": [
    {
     "data": {
      "text/plain": [
       "0"
      ]
     },
     "execution_count": 9,
     "metadata": {},
     "output_type": "execute_result"
    }
   ],
   "source": [
    "x // y"
   ]
  },
  {
   "cell_type": "code",
   "execution_count": 10,
   "id": "1d2653fe",
   "metadata": {},
   "outputs": [
    {
     "data": {
      "text/plain": [
       "10"
      ]
     },
     "execution_count": 10,
     "metadata": {},
     "output_type": "execute_result"
    }
   ],
   "source": [
    "x % y"
   ]
  },
  {
   "cell_type": "code",
   "execution_count": 11,
   "id": "9e45d8fb",
   "metadata": {},
   "outputs": [
    {
     "data": {
      "text/plain": [
       "100"
      ]
     },
     "execution_count": 11,
     "metadata": {},
     "output_type": "execute_result"
    }
   ],
   "source": [
    "x ** 2"
   ]
  },
  {
   "cell_type": "code",
   "execution_count": 12,
   "id": "256a3524",
   "metadata": {},
   "outputs": [
    {
     "data": {
      "text/plain": [
       "1000"
      ]
     },
     "execution_count": 12,
     "metadata": {},
     "output_type": "execute_result"
    }
   ],
   "source": [
    "x ** 3"
   ]
  },
  {
   "cell_type": "code",
   "execution_count": 34,
   "id": "0841497d",
   "metadata": {},
   "outputs": [],
   "source": [
    "# simple intrest\n",
    "\n",
    "principal = 1000000\n",
    "time = 25\n",
    "rate = 24"
   ]
  },
  {
   "cell_type": "code",
   "execution_count": 35,
   "id": "aeab8800",
   "metadata": {},
   "outputs": [],
   "source": [
    "si = principal * time * rate / 100"
   ]
  },
  {
   "cell_type": "code",
   "execution_count": 36,
   "id": "a1bf9c8b",
   "metadata": {},
   "outputs": [
    {
     "data": {
      "text/plain": [
       "6000000.0"
      ]
     },
     "execution_count": 36,
     "metadata": {},
     "output_type": "execute_result"
    }
   ],
   "source": [
    "si"
   ]
  },
  {
   "cell_type": "code",
   "execution_count": 37,
   "id": "e947846b",
   "metadata": {},
   "outputs": [
    {
     "data": {
      "text/plain": [
       "7000000.0"
      ]
     },
     "execution_count": 37,
     "metadata": {},
     "output_type": "execute_result"
    }
   ],
   "source": [
    "total = principal + si\n",
    "total"
   ]
  },
  {
   "cell_type": "code",
   "execution_count": 38,
   "id": "f0a24a79",
   "metadata": {},
   "outputs": [],
   "source": [
    "# Compound intrest\n",
    "n = 12"
   ]
  },
  {
   "cell_type": "code",
   "execution_count": 39,
   "id": "ce87e908",
   "metadata": {},
   "outputs": [],
   "source": [
    "total = principal * ((1 + ((rate/100)/n) )** (n*time))"
   ]
  },
  {
   "cell_type": "code",
   "execution_count": 40,
   "id": "8299714f",
   "metadata": {},
   "outputs": [
    {
     "data": {
      "text/plain": [
       "380234508.06153566"
      ]
     },
     "execution_count": 40,
     "metadata": {},
     "output_type": "execute_result"
    }
   ],
   "source": [
    "total"
   ]
  },
  {
   "cell_type": "markdown",
   "id": "5cc5d787",
   "metadata": {},
   "source": [
    "To calculate the monthly EMI (Equated Monthly Installment) for a loan, you use the formula:\n",
    "\n",
    "$$\n",
    "\\text{EMI} = \\frac{P \\times R \\times (1+R)^N}{(1+R)^N - 1}\n",
    "$$\n",
    "\n",
    "Where:  \n",
    "- $$P$$ = Principal loan amount  \n",
    "- $$R$$ = Monthly interest rate (annual interest rate divided by 12 and converted to decimal)  \n",
    "- $$N$$ = Loan tenure in months  \n",
    "\n",
    "### Steps to calculate EMI:\n",
    "\n",
    "1. **Convert the annual interest rate to a monthly interest rate:**  \n",
    "   $$\n",
    "   R = \\frac{\\text{Annual Interest Rate}}{12 \\times 100}\n",
    "   $$  \n",
    "   For example, if the annual interest rate is 7.2%, then  \n",
    "   $$\n",
    "   R = \\frac{7.2}{12 \\times 100} = 0.006\n",
    "   $$\n",
    "\n",
    "2. **Determine the loan tenure in months:**  \n",
    "   If the loan tenure is given in years, multiply by 12. For example, 10 years = 120 months.\n",
    "\n",
    "3. **Plug values into the EMI formula:**  \n",
    "   Calculate $$(1+R)^N$$, then apply the formula to get the EMI amount.\n",
    "\n",
    "### Example:\n",
    "\n",
    "For a loan amount of ₹10,00,000 at an annual interest rate of 7.2% for 10 years (120 months):\n",
    "\n",
    "- $$P = 10,00,000$$  \n",
    "- $$R = 7.2 / 12 / 100 = 0.006$$  \n",
    "- $$N = 120$$\n",
    "\n",
    "$$\n",
    "\\text{EMI} = \\frac{10,00,000 \\times 0.006 \\times (1+0.006)^{120}}{(1+0.006)^{120} - 1} \\approx ₹11,714\n",
    "$$\n",
    "\n",
    "So, the monthly EMI is approximately ₹11,714[1][2][4][5].\n",
    "\n",
    "### Additional Notes:\n",
    "\n",
    "- EMI includes both principal and interest repayment, with the interest portion decreasing over time and principal portion increasing.  \n",
    "- The formula assumes a fixed interest rate and fixed tenure.  \n",
    "- EMIs are usually paid monthly on the same date.  \n",
    "- You can use online EMI calculators by entering the loan amount, interest rate, and tenure to get instant results without manual calculation[4][8].\n",
    "\n",
    "This formula and method are commonly used for home loans, car loans, personal loans, and other installment-based loans.\n",
    "\n",
    "Citations:\n",
    "[1] https://www.forbes.com/advisor/in/home-loan/emi-calculation-formula/\n",
    "[2] https://www.hdfc.com/home-loan-emi-calculator\n",
    "[3] https://corporatefinanceinstitute.com/resources/commercial-lending/equated-monthly-installment-emi/\n",
    "[4] https://www.omnicalculator.com/finance/emi\n",
    "[5] https://www.geeksforgeeks.org/emi-calculator/\n",
    "[6] https://www.marketfeed.com/calculators/emi-calculator\n",
    "[7] https://www.youtube.com/watch?v=QWOFZC_sfq0\n",
    "[8] https://www.icicibank.com/personal-banking/loans/home-loan/emi-calculator\n",
    "[9] https://www.calculatorsoup.com/calculators/financial/emi-loan-calculator.php\n",
    "\n",
    "---\n",
    "Answer from Perplexity: pplx.ai/share"
   ]
  },
  {
   "cell_type": "code",
   "execution_count": 41,
   "id": "e662238a",
   "metadata": {},
   "outputs": [],
   "source": [
    "# Find out emi\n",
    "principal = 20000000\n",
    "rate = 0.09\n",
    "tenure = 20 * 12\n",
    "monthly_rate = rate / 12"
   ]
  },
  {
   "cell_type": "code",
   "execution_count": 42,
   "id": "f58705d3",
   "metadata": {},
   "outputs": [],
   "source": [
    "emi = (principal * monthly_rate * ((1+monthly_rate)**tenure))/((1+monthly_rate)**tenure - 1)"
   ]
  },
  {
   "cell_type": "code",
   "execution_count": 43,
   "id": "3d75b90e",
   "metadata": {},
   "outputs": [
    {
     "data": {
      "text/plain": [
       "179945.1911700341"
      ]
     },
     "execution_count": 43,
     "metadata": {},
     "output_type": "execute_result"
    }
   ],
   "source": [
    "emi"
   ]
  },
  {
   "cell_type": "code",
   "execution_count": 46,
   "id": "debdaf48",
   "metadata": {},
   "outputs": [
    {
     "data": {
      "text/plain": [
       "43186845.88080818"
      ]
     },
     "execution_count": 46,
     "metadata": {},
     "output_type": "execute_result"
    }
   ],
   "source": [
    "total_paid = tenure * emi\n",
    "total_paid"
   ]
  },
  {
   "cell_type": "code",
   "execution_count": 45,
   "id": "a1e525fc",
   "metadata": {},
   "outputs": [
    {
     "data": {
      "text/plain": [
       "23186845.880808182"
      ]
     },
     "execution_count": 45,
     "metadata": {},
     "output_type": "execute_result"
    }
   ],
   "source": [
    "total_paid - principal"
   ]
  },
  {
   "cell_type": "code",
   "execution_count": null,
   "id": "0b498d64",
   "metadata": {},
   "outputs": [],
   "source": [
    "prompt = \"\"\"\n",
    "\n",
    "I 'm learning python. I want you to give me exercises \n",
    "without answers to help me learn numeric data types \n",
    "and operators in python\n",
    "\"\"\""
   ]
  },
  {
   "cell_type": "code",
   "execution_count": 1,
   "id": "4f130bc7",
   "metadata": {},
   "outputs": [],
   "source": [
    "# Assignment Operators\n",
    "number = 10"
   ]
  },
  {
   "cell_type": "code",
   "execution_count": 2,
   "id": "ec0e2046",
   "metadata": {},
   "outputs": [
    {
     "data": {
      "text/plain": [
       "140717129430088"
      ]
     },
     "execution_count": 2,
     "metadata": {},
     "output_type": "execute_result"
    }
   ],
   "source": [
    "id(number)"
   ]
  },
  {
   "cell_type": "code",
   "execution_count": 3,
   "id": "b2489307",
   "metadata": {},
   "outputs": [
    {
     "name": "stdout",
     "output_type": "stream",
     "text": [
      "140717129430120\n",
      "140717129430152\n"
     ]
    }
   ],
   "source": [
    "number = 11\n",
    "print(id(number))\n",
    "number = 12\n",
    "print(id(number))"
   ]
  },
  {
   "cell_type": "code",
   "execution_count": 4,
   "id": "073fa950",
   "metadata": {},
   "outputs": [
    {
     "data": {
      "text/plain": [
       "100"
      ]
     },
     "execution_count": 4,
     "metadata": {},
     "output_type": "execute_result"
    }
   ],
   "source": [
    "number = 10\n",
    "number = number * 10\n",
    "number"
   ]
  },
  {
   "cell_type": "code",
   "execution_count": 5,
   "id": "dcb9f89d",
   "metadata": {},
   "outputs": [
    {
     "data": {
      "text/plain": [
       "100"
      ]
     },
     "execution_count": 5,
     "metadata": {},
     "output_type": "execute_result"
    }
   ],
   "source": [
    "number = 10\n",
    "number *= 10\n",
    "number"
   ]
  },
  {
   "cell_type": "code",
   "execution_count": 7,
   "id": "484787bf",
   "metadata": {},
   "outputs": [
    {
     "data": {
      "text/plain": [
       "10000"
      ]
     },
     "execution_count": 7,
     "metadata": {},
     "output_type": "execute_result"
    }
   ],
   "source": [
    "number = 10\n",
    "number = number ** 2\n",
    "number **= 2\n",
    "number"
   ]
  },
  {
   "cell_type": "code",
   "execution_count": 8,
   "id": "5783e1f2",
   "metadata": {},
   "outputs": [
    {
     "data": {
      "text/plain": [
       "2"
      ]
     },
     "execution_count": 8,
     "metadata": {},
     "output_type": "execute_result"
    }
   ],
   "source": [
    "index = 1\n",
    "index = index + 1\n",
    "index"
   ]
  },
  {
   "cell_type": "code",
   "execution_count": null,
   "id": "bcbbba73",
   "metadata": {},
   "outputs": [],
   "source": [
    "index = 1\n",
    "index += 1\n"
   ]
  },
  {
   "cell_type": "code",
   "execution_count": 9,
   "id": "7c197ad2",
   "metadata": {},
   "outputs": [],
   "source": [
    "maths = float(input(\"Enter maths marks: \"))"
   ]
  },
  {
   "cell_type": "code",
   "execution_count": 14,
   "id": "ed8d6f15",
   "metadata": {},
   "outputs": [],
   "source": [
    "age = 25"
   ]
  },
  {
   "cell_type": "code",
   "execution_count": 15,
   "id": "1c3a9246",
   "metadata": {},
   "outputs": [
    {
     "data": {
      "text/plain": [
       "True"
      ]
     },
     "execution_count": 15,
     "metadata": {},
     "output_type": "execute_result"
    }
   ],
   "source": [
    "age >= 18"
   ]
  },
  {
   "cell_type": "code",
   "execution_count": 16,
   "id": "58f2c11a",
   "metadata": {},
   "outputs": [],
   "source": [
    "over_18 = age >= 18"
   ]
  },
  {
   "cell_type": "code",
   "execution_count": 17,
   "id": "90e6b2a5",
   "metadata": {},
   "outputs": [],
   "source": [
    "over_21 = age >= 21"
   ]
  },
  {
   "cell_type": "code",
   "execution_count": 18,
   "id": "6c57b7bd",
   "metadata": {},
   "outputs": [
    {
     "data": {
      "text/plain": [
       "True"
      ]
     },
     "execution_count": 18,
     "metadata": {},
     "output_type": "execute_result"
    }
   ],
   "source": [
    "True and True"
   ]
  },
  {
   "cell_type": "code",
   "execution_count": 20,
   "id": "e1b57e07",
   "metadata": {},
   "outputs": [
    {
     "name": "stdout",
     "output_type": "stream",
     "text": [
      "odd\n"
     ]
    }
   ],
   "source": [
    "# simple if else \n",
    "# even or odd\n",
    "\n",
    "number = int(input(\"Enter any number \")) \n",
    "if number % 2 == 0:\n",
    "    print(\"even\")\n",
    "else:\n",
    "    print(\"odd\")"
   ]
  },
  {
   "cell_type": "markdown",
   "id": "3a917166",
   "metadata": {},
   "source": [
    "## Grade Calculation Table\n",
    "\n",
    "Below is a standard grade calculation table that shows how to convert the number of wrong answers on a test into a percentage grade and a typical letter grade. This table is commonly used for quick grading, especially for quizzes and tests with a fixed number of questions[2][4].\n",
    "\n",
    "| # Correct | # Wrong | Percentage (%) | Letter Grade |\n",
    "|-----------|---------|---------------|-------------|\n",
    "| 10        | 0       | 100           | A           |\n",
    "| 9         | 1       | 90            | A           |\n",
    "| 8         | 2       | 80            | B           |\n",
    "| 7         | 3       | 70            | C           |\n",
    "| 6         | 4       | 60            | D           |\n",
    "| 5         | 5       | 50            | F           |\n",
    "| 4         | 6       | 40            | F           |\n",
    "| 3         | 7       | 30            | F           |\n",
    "| 2         | 8       | 20            | F           |\n",
    "| 1         | 9       | 10            | F           |\n",
    "| 0         | 10      | 0             | F           |\n",
    "\n",
    "### Common Letter Grade Scale\n",
    "\n",
    "| Letter Grade | Percentage Range |\n",
    "|--------------|-----------------|\n",
    "| A            | 90–100%         |\n",
    "| B            | 80–89%          |\n",
    "| C            | 70–79%          |\n",
    "| D            | 60–69%          |\n",
    "| F            | Below 60%       |\n",
    "\n",
    "### How to Calculate Your Grade\n",
    "\n",
    "- **Percentage Grade:**  \n",
    "  $$\n",
    "  \\text{Percentage} = \\left( \\frac{\\text{Number of Correct Answers}}{\\text{Total Questions}} \\right) \\times 100\n",
    "  $$\n",
    "\n",
    "- **Weighted Grade (if assignments/tests have different weights):**  \n",
    "  $$\n",
    "  \\text{Weighted Grade} = (w_1 \\times g_1 + w_2 \\times g_2 + ... + w_n \\times g_n)\n",
    "  $$\n",
    "  where $$ w $$ is the weight (in decimal form, e.g., 20% = 0.20) and $$ g $$ is the grade for each component[1][6][7].\n",
    "\n",
    "- **Weighted Average (if weights are not in percent):**  \n",
    "  $$\n",
    "  \\text{Weighted Grade} = \\frac{w_1 \\times g_1 + w_2 \\times g_2 + ... + w_n \\times g_n}{w_1 + w_2 + ... + w_n}\n",
    "  $$\n",
    "  This is useful when using credits or points instead of percentages[1][6].\n",
    "\n",
    "### Example Calculation\n",
    "\n",
    "Suppose you have these grades:\n",
    "\n",
    "| Assignment     | Grade (%) | Weight (%) |\n",
    "|----------------|-----------|------------|\n",
    "| Homework       | 85        | 20         |\n",
    "| Quiz           | 90        | 10         |\n",
    "| Midterm        | 75        | 30         |\n",
    "| Project        | 92        | 20         |\n",
    "| Final Exam     | 88        | 20         |\n",
    "\n",
    "**Step 1:** Convert weights to decimals (e.g., 20% = 0.20).  \n",
    "**Step 2:** Multiply each grade by its weight.  \n",
    "**Step 3:** Add all weighted grades:  \n",
    "$$\n",
    "(85 \\times 0.20) + (90 \\times 0.10) + (75 \\times 0.30) + (92 \\times 0.20) + (88 \\times 0.20) = 17 + 9 + 22.5 + 18.4 + 17.6 = 84.5\n",
    "$$\n",
    "So, the final grade is **84.5%**[7].\n",
    "\n",
    "---\n",
    "\n",
    "This table and method can be adapted for any number of questions or different grading systems. For more complex calculations (like GPA or weighted averages across courses), use the formulas above and adjust weights as needed[1][6][7].\n",
    "\n",
    "Citations:\n",
    "[1] https://www.rapidtables.com/calc/grade/grade-calculator.html\n",
    "[2] https://www.gradecalculator.com\n",
    "[3] https://www.calculator.net/grade-calculator.html\n",
    "[4] https://grade-assistant.com/calculator/ez-grade\n",
    "[5] https://www.omnicalculator.com/other/grade\n",
    "[6] https://www.rapidtables.com/calc/grade/grade-calculation.html\n",
    "[7] https://www.geeksforgeeks.org/how-to-calculate-your-grade/\n",
    "[8] https://rows.com/templates/grade-calculator\n",
    "[9] https://www.omnicalculator.com/other/test-grade\n",
    "[10] https://www.ucalgary.ca/live-uc-ucalgary-site/sites/default/files/teams/23/How%20to%20Calculate%20your%20Grades%20Tip%20Sheet.pdf\n",
    "[11] https://easygradecalculator.com/grade/\n",
    "[12] https://www.gradecalculate.com\n",
    "[13] https://quickgra.de\n",
    "[14] https://www.rapidtables.com/calc/grade/final-grade-calculator.html\n",
    "[15] https://www.juniata.edu/academics/quest/academic-resources/grade-calculator/pointsBasedCalc.html\n",
    "[16] https://www.rapidtables.com/calc/grade/index.html\n",
    "[17] https://www.ocf.berkeley.edu/~immer/gradecalc.html\n",
    "\n",
    "---\n",
    "Answer from Perplexity: pplx.ai/share"
   ]
  },
  {
   "cell_type": "code",
   "execution_count": 21,
   "id": "83e44d48",
   "metadata": {},
   "outputs": [
    {
     "name": "stdout",
     "output_type": "stream",
     "text": [
      "Grade B\n"
     ]
    }
   ],
   "source": [
    "percentage = int(input(\"enter your percentage\"))\n",
    "if 90 <= percentage <= 100:\n",
    "    print(\"Grade A\")\n",
    "if 80 <= percentage < 90:\n",
    "    print(\"Grade B\")\n",
    "if 70 <= percentage < 80:\n",
    "    print(\"Grade C\")\n",
    "if 60 <= percentage < 70:\n",
    "    print(\"Grade D\")\n",
    "if percentage < 60:\n",
    "    print(\"Grade F\")"
   ]
  },
  {
   "cell_type": "code",
   "execution_count": 24,
   "id": "85a6b89d",
   "metadata": {},
   "outputs": [
    {
     "name": "stdout",
     "output_type": "stream",
     "text": [
      "Grade D\n"
     ]
    }
   ],
   "source": [
    "percentage = int(input(\"enter your percentage\"))\n",
    "if 90 <= percentage <= 100:\n",
    "    print(\"Grade A\")\n",
    "elif 80 <= percentage < 90:\n",
    "    print(\"Grade B\")\n",
    "elif 70 <= percentage < 80:\n",
    "    print(\"Grade C\")\n",
    "elif 60 <= percentage < 70:\n",
    "    print(\"Grade D\")\n",
    "elif  0 <= percentage < 60:\n",
    "    print(\"Grade F\")\n",
    "else:\n",
    "    print(\"Enter correct percentage which has to between 0 and 100\")"
   ]
  },
  {
   "cell_type": "markdown",
   "id": "6f6d12a5",
   "metadata": {},
   "source": [
    "Here are the new income tax slabs for individuals in India for the Financial Year (FY) 2025-26 (Assessment Year 2026-27) under the **new tax regime**, as per the latest updates:\n",
    "\n",
    "| Income Range (₹)         | Tax Rate (%) |\n",
    "|-------------------------|--------------|\n",
    "| Up to 4,00,000          | Nil          |\n",
    "| 4,00,001 to 8,00,000    | 5%           |\n",
    "| 8,00,001 to 12,00,000   | 10%          |\n",
    "| 12,00,001 to 16,00,000  | 15%          |\n",
    "| 16,00,001 to 20,00,000  | 20%          |\n",
    "| 20,00,001 to 24,00,000  | 25%          |\n",
    "| Above 24,00,000         | 30%          |\n",
    "\n",
    "### Key Highlights:\n",
    "- Individuals earning up to ₹12 lakh have zero tax liability due to a rebate of ₹60,000 under Section 87A, effectively making income up to ₹12 lakh tax-free under the new regime.\n",
    "- The standard deduction for salaried individuals remains at ₹75,000.\n",
    "- These slabs are applicable from FY 2025-26 onwards and are part of the new Income Tax Bill expected to come into effect from April 1, 2026[2][3][6].\n",
    "\n",
    "### Old Tax Regime Slabs for FY 2024-25 (for comparison):\n",
    "\n",
    "| Income Range (₹)         | Tax Rate (%) |\n",
    "|-------------------------|--------------|\n",
    "| Up to 2,50,000          | Nil          |\n",
    "| 2,50,001 to 5,00,000    | 5%           |\n",
    "| 5,00,001 to 10,00,000   | 20%          |\n",
    "| Above 10,00,000         | 30%          |\n",
    "\n",
    "- Old regime slabs vary by age (normal, senior citizens, super senior citizens) and include different exemption limits[5].\n",
    "\n",
    "### Surcharge and Cess:\n",
    "- Health and Education Cess of 4% is applicable on the income tax payable.\n",
    "- Surcharge rates vary with income, capped at 25% under the new regime for incomes above ₹5 crore[5].\n",
    "\n",
    "This new slab structure provides more gradual tax increments and benefits middle-income earners by increasing the tax-free threshold and reducing tax rates in the lower slabs.\n",
    "\n",
    "---\n",
    "\n",
    "This table summarizes the latest official tax slabs for individual taxpayers under the new regime for FY 2025-26 in India.\n",
    "\n",
    "Citations:\n",
    "[1] https://www.incometax.gov.in/iec/foportal/help/individual-business-profession\n",
    "[2] https://cleartax.in/s/income-tax-slabs\n",
    "[3] https://economictimes.com/wealth/income-tax-slabs\n",
    "[4] https://www.incometax.gov.in/iec/foportal/help/individual/return-applicable-0\n",
    "[5] https://www.maxlifeinsurance.com/blog/tax-savings/income-tax-slab-2024-25\n",
    "[6] https://cleartax.in/paytax/taxcalculator\n",
    "[7] https://www.referencer.in/Income_Tax/Income_Tax_Rates_AY_2025-26.aspx\n",
    "[8] https://www.incometax.gov.in/iec/foportal/help/individual/return-applicable-2\n",
    "[9] https://www.bankbazaar.com/tax/income-tax-slabs.html\n",
    "\n",
    "---\n",
    "Answer from Perplexity: pplx.ai/share"
   ]
  },
  {
   "cell_type": "code",
   "execution_count": null,
   "id": "7301a91d",
   "metadata": {},
   "outputs": [],
   "source": [
    "# Solve the above problem"
   ]
  },
  {
   "cell_type": "markdown",
   "id": "1ed9ebdd",
   "metadata": {},
   "source": [
    "Okay, here's a table organizing the different identity cards for Indian citizens based on the minimum age for eligibility:\n",
    "\n",
    "| Minimum Age | Identity Cards                                                                 |\n",
    "|-------------|---------------------------------------------------------------------------------|\n",
    "| Birth       | Birth Certificate, Aadhaar Card (can be obtained for newborns)                   |\n",
    "| Any Age     | Passport, PAN Card, Bank/Post Office Passbook                                  |\n",
    "| Enrolled    | School/College ID Card (for currently enrolled students)                         |\n",
    "| No specific age | Ration Card                                                                     |\n",
    "| 18 years    | Voter ID Card (EPIC), Driving License                                           |\n",
    "| 60 years    | Senior Citizen Card (eligibility criteria might vary slightly by state)         |\n",
    "\n",
    "**Key Points to Remember:**\n",
    "\n",
    "* **\"Any Age\"** means there isn't a lower age limit specified for obtaining the card, although the process might differ for minors (e.g., passport application).\n",
    "* The **Ration Card** doesn't have a strict age limit but is issued to households.\n",
    "* The **School/College ID Card** is applicable only while the individual is a student.\n",
    "* The age for the **Senior Citizen Card** is generally 60 years, but it's good to check the specific rules of the issuing State Government."
   ]
  },
  {
   "cell_type": "code",
   "execution_count": 27,
   "id": "d340006c",
   "metadata": {},
   "outputs": [
    {
     "name": "stdout",
     "output_type": "stream",
     "text": [
      "You are eligbile for \n",
      "Birth Certificate \n",
      "Aadhaar Card \n",
      "Passport \n",
      "PAN Card \n",
      "Bank/Post Office Passbook\n",
      "Voter ID Card (EPIC) \n",
      "Driving License\n"
     ]
    }
   ],
   "source": [
    "age = int(input(\"Enter your age: \"))\n",
    "print(\"You are eligbile for \")\n",
    "print(\"Birth Certificate \\nAadhaar Card \\nPassport \\nPAN Card \\nBank/Post Office Passbook\")\n",
    "if age >= 18:\n",
    "    print(\"Voter ID Card (EPIC) \\nDriving License\")\n",
    "if age >= 60:\n",
    "    print(\"Senior Citizen Card\")\n",
    "\n"
   ]
  },
  {
   "cell_type": "code",
   "execution_count": null,
   "id": "0ad5a1f4",
   "metadata": {},
   "outputs": [
    {
     "name": "stdout",
     "output_type": "stream",
     "text": [
      "1\n",
      "2\n",
      "3\n",
      "4\n",
      "5\n",
      "finally i'm out of viscious loop\n"
     ]
    }
   ],
   "source": [
    "# While loops\n",
    "\n",
    "\n",
    "# print numbers from 1 to 5\n",
    "index = 1\n",
    "while index <= 5:\n",
    "    print(index)\n",
    "    index += 1\n",
    "print(\"finally i'm out of viscious loop\")"
   ]
  },
  {
   "cell_type": "code",
   "execution_count": 29,
   "id": "abea1833",
   "metadata": {},
   "outputs": [
    {
     "name": "stdout",
     "output_type": "stream",
     "text": [
      "1\n",
      "2\n",
      "finally i'm out of viscious loop\n"
     ]
    }
   ],
   "source": [
    "# While loops\n",
    "\n",
    "\n",
    "# print numbers from 1 to 5\n",
    "index = 1\n",
    "while index <= 5:\n",
    "    print(index)\n",
    "    index += 1\n",
    "    if index == 3: # you have met an astrologer\n",
    "        break\n",
    "print(\"finally i'm out of viscious loop\")"
   ]
  },
  {
   "cell_type": "code",
   "execution_count": null,
   "id": "463ef04d",
   "metadata": {},
   "outputs": [
    {
     "name": "stdout",
     "output_type": "stream",
     "text": [
      "23\n"
     ]
    },
    {
     "ename": "",
     "evalue": "",
     "output_type": "error",
     "traceback": [
      "\u001b[1;31mThe Kernel crashed while executing code in the current cell or a previous cell. \n",
      "\u001b[1;31mPlease review the code in the cell(s) to identify a possible cause of the failure. \n",
      "\u001b[1;31mClick <a href='https://aka.ms/vscodeJupyterKernelCrash'>here</a> for more info. \n",
      "\u001b[1;31mView Jupyter <a href='command:jupyter.viewOutput'>log</a> for further details."
     ]
    }
   ],
   "source": [
    "# euler 1 https://projecteuler.net/problem=1\n",
    "index = 1\n",
    "max = 10\n",
    "sum = 0\n",
    "while index < max:\n",
    "    if index % 3 == 0 or index % 5 == 0:\n",
    "        sum += index\n",
    "    index += 1\n",
    "print(sum)\n"
   ]
  }
 ],
 "metadata": {
  "kernelspec": {
   "display_name": "Python 3",
   "language": "python",
   "name": "python3"
  },
  "language_info": {
   "codemirror_mode": {
    "name": "ipython",
    "version": 3
   },
   "file_extension": ".py",
   "mimetype": "text/x-python",
   "name": "python",
   "nbconvert_exporter": "python",
   "pygments_lexer": "ipython3",
   "version": "3.11.9"
  }
 },
 "nbformat": 4,
 "nbformat_minor": 5
}
