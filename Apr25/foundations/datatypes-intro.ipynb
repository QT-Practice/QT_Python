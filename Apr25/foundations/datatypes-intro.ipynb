{
 "cells": [
  {
   "cell_type": "markdown",
   "id": "c49b86dc",
   "metadata": {},
   "source": [
    "# Exploring Numeric Data types\n",
    "\n",
    "* int\n",
    "* float\n",
    "* complex"
   ]
  },
  {
   "cell_type": "code",
   "execution_count": 1,
   "id": "3d6843bd",
   "metadata": {},
   "outputs": [],
   "source": [
    "x = 5"
   ]
  },
  {
   "cell_type": "code",
   "execution_count": 2,
   "id": "775009eb",
   "metadata": {},
   "outputs": [
    {
     "data": {
      "text/plain": [
       "5"
      ]
     },
     "execution_count": 2,
     "metadata": {},
     "output_type": "execute_result"
    }
   ],
   "source": [
    "x"
   ]
  },
  {
   "cell_type": "code",
   "execution_count": 3,
   "id": "4e1de3e6",
   "metadata": {},
   "outputs": [
    {
     "data": {
      "text/plain": [
       "int"
      ]
     },
     "execution_count": 3,
     "metadata": {},
     "output_type": "execute_result"
    }
   ],
   "source": [
    "type(x)"
   ]
  },
  {
   "cell_type": "markdown",
   "id": "eb9357d0",
   "metadata": {},
   "source": [
    "# Operators\n",
    "[link](https://www.programiz.com/python-programming/operators)"
   ]
  },
  {
   "cell_type": "code",
   "execution_count": 4,
   "id": "182423b4",
   "metadata": {},
   "outputs": [],
   "source": [
    "x = 10\n",
    "y = 20"
   ]
  },
  {
   "cell_type": "code",
   "execution_count": 5,
   "id": "185d7995",
   "metadata": {},
   "outputs": [
    {
     "data": {
      "text/plain": [
       "30"
      ]
     },
     "execution_count": 5,
     "metadata": {},
     "output_type": "execute_result"
    }
   ],
   "source": [
    "x + y"
   ]
  },
  {
   "cell_type": "code",
   "execution_count": 6,
   "id": "f15aca08",
   "metadata": {},
   "outputs": [
    {
     "data": {
      "text/plain": [
       "-10"
      ]
     },
     "execution_count": 6,
     "metadata": {},
     "output_type": "execute_result"
    }
   ],
   "source": [
    "x - y"
   ]
  },
  {
   "cell_type": "code",
   "execution_count": 7,
   "id": "03379278",
   "metadata": {},
   "outputs": [
    {
     "data": {
      "text/plain": [
       "200"
      ]
     },
     "execution_count": 7,
     "metadata": {},
     "output_type": "execute_result"
    }
   ],
   "source": [
    "x * y"
   ]
  },
  {
   "cell_type": "code",
   "execution_count": 8,
   "id": "e7d7eef0",
   "metadata": {},
   "outputs": [
    {
     "data": {
      "text/plain": [
       "0.5"
      ]
     },
     "execution_count": 8,
     "metadata": {},
     "output_type": "execute_result"
    }
   ],
   "source": [
    "x / y"
   ]
  },
  {
   "cell_type": "code",
   "execution_count": 9,
   "id": "52321b13",
   "metadata": {},
   "outputs": [
    {
     "data": {
      "text/plain": [
       "0"
      ]
     },
     "execution_count": 9,
     "metadata": {},
     "output_type": "execute_result"
    }
   ],
   "source": [
    "x // y"
   ]
  },
  {
   "cell_type": "code",
   "execution_count": 10,
   "id": "1d2653fe",
   "metadata": {},
   "outputs": [
    {
     "data": {
      "text/plain": [
       "10"
      ]
     },
     "execution_count": 10,
     "metadata": {},
     "output_type": "execute_result"
    }
   ],
   "source": [
    "x % y"
   ]
  },
  {
   "cell_type": "code",
   "execution_count": 11,
   "id": "9e45d8fb",
   "metadata": {},
   "outputs": [
    {
     "data": {
      "text/plain": [
       "100"
      ]
     },
     "execution_count": 11,
     "metadata": {},
     "output_type": "execute_result"
    }
   ],
   "source": [
    "x ** 2"
   ]
  },
  {
   "cell_type": "code",
   "execution_count": 12,
   "id": "256a3524",
   "metadata": {},
   "outputs": [
    {
     "data": {
      "text/plain": [
       "1000"
      ]
     },
     "execution_count": 12,
     "metadata": {},
     "output_type": "execute_result"
    }
   ],
   "source": [
    "x ** 3"
   ]
  },
  {
   "cell_type": "code",
   "execution_count": 34,
   "id": "0841497d",
   "metadata": {},
   "outputs": [],
   "source": [
    "# simple intrest\n",
    "\n",
    "principal = 1000000\n",
    "time = 25\n",
    "rate = 24"
   ]
  },
  {
   "cell_type": "code",
   "execution_count": 35,
   "id": "aeab8800",
   "metadata": {},
   "outputs": [],
   "source": [
    "si = principal * time * rate / 100"
   ]
  },
  {
   "cell_type": "code",
   "execution_count": 36,
   "id": "a1bf9c8b",
   "metadata": {},
   "outputs": [
    {
     "data": {
      "text/plain": [
       "6000000.0"
      ]
     },
     "execution_count": 36,
     "metadata": {},
     "output_type": "execute_result"
    }
   ],
   "source": [
    "si"
   ]
  },
  {
   "cell_type": "code",
   "execution_count": 37,
   "id": "e947846b",
   "metadata": {},
   "outputs": [
    {
     "data": {
      "text/plain": [
       "7000000.0"
      ]
     },
     "execution_count": 37,
     "metadata": {},
     "output_type": "execute_result"
    }
   ],
   "source": [
    "total = principal + si\n",
    "total"
   ]
  },
  {
   "cell_type": "code",
   "execution_count": 38,
   "id": "f0a24a79",
   "metadata": {},
   "outputs": [],
   "source": [
    "# Compound intrest\n",
    "n = 12"
   ]
  },
  {
   "cell_type": "code",
   "execution_count": 39,
   "id": "ce87e908",
   "metadata": {},
   "outputs": [],
   "source": [
    "total = principal * ((1 + ((rate/100)/n) )** (n*time))"
   ]
  },
  {
   "cell_type": "code",
   "execution_count": 40,
   "id": "8299714f",
   "metadata": {},
   "outputs": [
    {
     "data": {
      "text/plain": [
       "380234508.06153566"
      ]
     },
     "execution_count": 40,
     "metadata": {},
     "output_type": "execute_result"
    }
   ],
   "source": [
    "total"
   ]
  },
  {
   "cell_type": "markdown",
   "id": "5cc5d787",
   "metadata": {},
   "source": [
    "To calculate the monthly EMI (Equated Monthly Installment) for a loan, you use the formula:\n",
    "\n",
    "$$\n",
    "\\text{EMI} = \\frac{P \\times R \\times (1+R)^N}{(1+R)^N - 1}\n",
    "$$\n",
    "\n",
    "Where:  \n",
    "- $$P$$ = Principal loan amount  \n",
    "- $$R$$ = Monthly interest rate (annual interest rate divided by 12 and converted to decimal)  \n",
    "- $$N$$ = Loan tenure in months  \n",
    "\n",
    "### Steps to calculate EMI:\n",
    "\n",
    "1. **Convert the annual interest rate to a monthly interest rate:**  \n",
    "   $$\n",
    "   R = \\frac{\\text{Annual Interest Rate}}{12 \\times 100}\n",
    "   $$  \n",
    "   For example, if the annual interest rate is 7.2%, then  \n",
    "   $$\n",
    "   R = \\frac{7.2}{12 \\times 100} = 0.006\n",
    "   $$\n",
    "\n",
    "2. **Determine the loan tenure in months:**  \n",
    "   If the loan tenure is given in years, multiply by 12. For example, 10 years = 120 months.\n",
    "\n",
    "3. **Plug values into the EMI formula:**  \n",
    "   Calculate $$(1+R)^N$$, then apply the formula to get the EMI amount.\n",
    "\n",
    "### Example:\n",
    "\n",
    "For a loan amount of ₹10,00,000 at an annual interest rate of 7.2% for 10 years (120 months):\n",
    "\n",
    "- $$P = 10,00,000$$  \n",
    "- $$R = 7.2 / 12 / 100 = 0.006$$  \n",
    "- $$N = 120$$\n",
    "\n",
    "$$\n",
    "\\text{EMI} = \\frac{10,00,000 \\times 0.006 \\times (1+0.006)^{120}}{(1+0.006)^{120} - 1} \\approx ₹11,714\n",
    "$$\n",
    "\n",
    "So, the monthly EMI is approximately ₹11,714[1][2][4][5].\n",
    "\n",
    "### Additional Notes:\n",
    "\n",
    "- EMI includes both principal and interest repayment, with the interest portion decreasing over time and principal portion increasing.  \n",
    "- The formula assumes a fixed interest rate and fixed tenure.  \n",
    "- EMIs are usually paid monthly on the same date.  \n",
    "- You can use online EMI calculators by entering the loan amount, interest rate, and tenure to get instant results without manual calculation[4][8].\n",
    "\n",
    "This formula and method are commonly used for home loans, car loans, personal loans, and other installment-based loans.\n",
    "\n",
    "Citations:\n",
    "[1] https://www.forbes.com/advisor/in/home-loan/emi-calculation-formula/\n",
    "[2] https://www.hdfc.com/home-loan-emi-calculator\n",
    "[3] https://corporatefinanceinstitute.com/resources/commercial-lending/equated-monthly-installment-emi/\n",
    "[4] https://www.omnicalculator.com/finance/emi\n",
    "[5] https://www.geeksforgeeks.org/emi-calculator/\n",
    "[6] https://www.marketfeed.com/calculators/emi-calculator\n",
    "[7] https://www.youtube.com/watch?v=QWOFZC_sfq0\n",
    "[8] https://www.icicibank.com/personal-banking/loans/home-loan/emi-calculator\n",
    "[9] https://www.calculatorsoup.com/calculators/financial/emi-loan-calculator.php\n",
    "\n",
    "---\n",
    "Answer from Perplexity: pplx.ai/share"
   ]
  },
  {
   "cell_type": "code",
   "execution_count": 41,
   "id": "e662238a",
   "metadata": {},
   "outputs": [],
   "source": [
    "# Find out emi\n",
    "principal = 20000000\n",
    "rate = 0.09\n",
    "tenure = 20 * 12\n",
    "monthly_rate = rate / 12"
   ]
  },
  {
   "cell_type": "code",
   "execution_count": 42,
   "id": "f58705d3",
   "metadata": {},
   "outputs": [],
   "source": [
    "emi = (principal * monthly_rate * ((1+monthly_rate)**tenure))/((1+monthly_rate)**tenure - 1)"
   ]
  },
  {
   "cell_type": "code",
   "execution_count": 43,
   "id": "3d75b90e",
   "metadata": {},
   "outputs": [
    {
     "data": {
      "text/plain": [
       "179945.1911700341"
      ]
     },
     "execution_count": 43,
     "metadata": {},
     "output_type": "execute_result"
    }
   ],
   "source": [
    "emi"
   ]
  },
  {
   "cell_type": "code",
   "execution_count": 46,
   "id": "debdaf48",
   "metadata": {},
   "outputs": [
    {
     "data": {
      "text/plain": [
       "43186845.88080818"
      ]
     },
     "execution_count": 46,
     "metadata": {},
     "output_type": "execute_result"
    }
   ],
   "source": [
    "total_paid = tenure * emi\n",
    "total_paid"
   ]
  },
  {
   "cell_type": "code",
   "execution_count": 45,
   "id": "a1e525fc",
   "metadata": {},
   "outputs": [
    {
     "data": {
      "text/plain": [
       "23186845.880808182"
      ]
     },
     "execution_count": 45,
     "metadata": {},
     "output_type": "execute_result"
    }
   ],
   "source": [
    "total_paid - principal"
   ]
  },
  {
   "cell_type": "code",
   "execution_count": null,
   "id": "0b498d64",
   "metadata": {},
   "outputs": [],
   "source": [
    "prompt = \"\"\"\n",
    "\n",
    "I 'm learning python. I want you to give me exercises \n",
    "without answers to help me learn numeric data types \n",
    "and operators in python\n",
    "\"\"\""
   ]
  },
  {
   "cell_type": "code",
   "execution_count": 1,
   "id": "4f130bc7",
   "metadata": {},
   "outputs": [],
   "source": [
    "# Assignment Operators\n",
    "number = 10"
   ]
  },
  {
   "cell_type": "code",
   "execution_count": 2,
   "id": "ec0e2046",
   "metadata": {},
   "outputs": [
    {
     "data": {
      "text/plain": [
       "140717129430088"
      ]
     },
     "execution_count": 2,
     "metadata": {},
     "output_type": "execute_result"
    }
   ],
   "source": [
    "id(number)"
   ]
  },
  {
   "cell_type": "code",
   "execution_count": 3,
   "id": "b2489307",
   "metadata": {},
   "outputs": [
    {
     "name": "stdout",
     "output_type": "stream",
     "text": [
      "140717129430120\n",
      "140717129430152\n"
     ]
    }
   ],
   "source": [
    "number = 11\n",
    "print(id(number))\n",
    "number = 12\n",
    "print(id(number))"
   ]
  },
  {
   "cell_type": "code",
   "execution_count": 4,
   "id": "073fa950",
   "metadata": {},
   "outputs": [
    {
     "data": {
      "text/plain": [
       "100"
      ]
     },
     "execution_count": 4,
     "metadata": {},
     "output_type": "execute_result"
    }
   ],
   "source": [
    "number = 10\n",
    "number = number * 10\n",
    "number"
   ]
  },
  {
   "cell_type": "code",
   "execution_count": 5,
   "id": "dcb9f89d",
   "metadata": {},
   "outputs": [
    {
     "data": {
      "text/plain": [
       "100"
      ]
     },
     "execution_count": 5,
     "metadata": {},
     "output_type": "execute_result"
    }
   ],
   "source": [
    "number = 10\n",
    "number *= 10\n",
    "number"
   ]
  },
  {
   "cell_type": "code",
   "execution_count": 7,
   "id": "484787bf",
   "metadata": {},
   "outputs": [
    {
     "data": {
      "text/plain": [
       "10000"
      ]
     },
     "execution_count": 7,
     "metadata": {},
     "output_type": "execute_result"
    }
   ],
   "source": [
    "number = 10\n",
    "number = number ** 2\n",
    "number **= 2\n",
    "number"
   ]
  },
  {
   "cell_type": "code",
   "execution_count": 8,
   "id": "5783e1f2",
   "metadata": {},
   "outputs": [
    {
     "data": {
      "text/plain": [
       "2"
      ]
     },
     "execution_count": 8,
     "metadata": {},
     "output_type": "execute_result"
    }
   ],
   "source": [
    "index = 1\n",
    "index = index + 1\n",
    "index"
   ]
  },
  {
   "cell_type": "code",
   "execution_count": null,
   "id": "bcbbba73",
   "metadata": {},
   "outputs": [],
   "source": [
    "index = 1\n",
    "index += 1\n"
   ]
  },
  {
   "cell_type": "code",
   "execution_count": 9,
   "id": "7c197ad2",
   "metadata": {},
   "outputs": [],
   "source": [
    "maths = float(input(\"Enter maths marks: \"))"
   ]
  }
 ],
 "metadata": {
  "kernelspec": {
   "display_name": "Python 3",
   "language": "python",
   "name": "python3"
  },
  "language_info": {
   "codemirror_mode": {
    "name": "ipython",
    "version": 3
   },
   "file_extension": ".py",
   "mimetype": "text/x-python",
   "name": "python",
   "nbconvert_exporter": "python",
   "pygments_lexer": "ipython3",
   "version": "3.11.9"
  }
 },
 "nbformat": 4,
 "nbformat_minor": 5
}
