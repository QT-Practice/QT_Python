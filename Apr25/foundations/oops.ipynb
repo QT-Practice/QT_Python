{
 "cells": [
  {
   "cell_type": "code",
   "execution_count": null,
   "id": "adcba1a6",
   "metadata": {},
   "outputs": [],
   "source": [
    "# defining class\n",
    "\n",
    "class Car:\n",
    "    pass"
   ]
  },
  {
   "cell_type": "code",
   "execution_count": 2,
   "id": "d6afb9a0",
   "metadata": {},
   "outputs": [],
   "source": [
    "# creating objects\n",
    "c1 = Car()"
   ]
  },
  {
   "cell_type": "code",
   "execution_count": 3,
   "id": "51df8947",
   "metadata": {},
   "outputs": [
    {
     "data": {
      "text/plain": [
       "<__main__.Car at 0x1f839de2310>"
      ]
     },
     "execution_count": 3,
     "metadata": {},
     "output_type": "execute_result"
    }
   ],
   "source": [
    "c1"
   ]
  },
  {
   "cell_type": "code",
   "execution_count": 5,
   "id": "ee6c8666",
   "metadata": {},
   "outputs": [
    {
     "data": {
      "text/plain": [
       "'<__main__.Car object at 0x000001F839DE2310>'"
      ]
     },
     "execution_count": 5,
     "metadata": {},
     "output_type": "execute_result"
    }
   ],
   "source": [
    "c1.__str__()"
   ]
  },
  {
   "cell_type": "code",
   "execution_count": 6,
   "id": "433210e9",
   "metadata": {},
   "outputs": [],
   "source": [
    "class Car:\n",
    "    def start(self):\n",
    "        print(\"started\")\n",
    "\n",
    "    def stop(self):\n",
    "        print(\"stopped\")"
   ]
  },
  {
   "cell_type": "code",
   "execution_count": 7,
   "id": "133ef5ed",
   "metadata": {},
   "outputs": [],
   "source": [
    "c1 = Car()"
   ]
  },
  {
   "cell_type": "code",
   "execution_count": 10,
   "id": "d6265e8b",
   "metadata": {},
   "outputs": [
    {
     "name": "stdout",
     "output_type": "stream",
     "text": [
      "started\n"
     ]
    }
   ],
   "source": [
    "c1.start()"
   ]
  },
  {
   "cell_type": "code",
   "execution_count": 9,
   "id": "b4b76ff0",
   "metadata": {},
   "outputs": [
    {
     "name": "stdout",
     "output_type": "stream",
     "text": [
      "started\n"
     ]
    }
   ],
   "source": [
    "Car.start(c1)"
   ]
  },
  {
   "cell_type": "code",
   "execution_count": 11,
   "id": "baa47208",
   "metadata": {},
   "outputs": [],
   "source": [
    "class Car:\n",
    "    def __init__(self):\n",
    "        self.model = \"\"\n",
    "        self.make = \"\"\n",
    "\n",
    "    def start(self):\n",
    "        print(\"started\")\n",
    "\n",
    "    def stop(self):\n",
    "        print(\"stopped\")"
   ]
  },
  {
   "cell_type": "code",
   "execution_count": 12,
   "id": "57d16ba1",
   "metadata": {},
   "outputs": [
    {
     "name": "stdout",
     "output_type": "stream",
     "text": [
      "started\n"
     ]
    }
   ],
   "source": [
    "c1 = Car()\n",
    "c1.start()"
   ]
  },
  {
   "cell_type": "code",
   "execution_count": 13,
   "id": "e2298024",
   "metadata": {},
   "outputs": [
    {
     "data": {
      "text/plain": [
       "''"
      ]
     },
     "execution_count": 13,
     "metadata": {},
     "output_type": "execute_result"
    }
   ],
   "source": [
    "c1.model"
   ]
  },
  {
   "cell_type": "code",
   "execution_count": 14,
   "id": "9c79fa44",
   "metadata": {},
   "outputs": [
    {
     "data": {
      "text/plain": [
       "''"
      ]
     },
     "execution_count": 14,
     "metadata": {},
     "output_type": "execute_result"
    }
   ],
   "source": [
    "c1.make"
   ]
  },
  {
   "cell_type": "code",
   "execution_count": 22,
   "id": "a96ee327",
   "metadata": {},
   "outputs": [],
   "source": [
    "class Car:\n",
    "    def __init__(self, model, make):\n",
    "        self.model = model\n",
    "        self.make = make\n",
    "\n",
    "    def start(self):\n",
    "        print(f\"{self.make} {self.model} => started\")\n",
    "\n",
    "    def stop(self):\n",
    "        print(f\"{self.make} {self.model} => stopped\")\n",
    "\n",
    "    def __str__(self):\n",
    "        \"\"\"Inherited and changed the behavior\n",
    "        \"\"\"\n",
    "        return f\"make = {self.make} model = {self.model}\""
   ]
  },
  {
   "cell_type": "code",
   "execution_count": 23,
   "id": "480ea319",
   "metadata": {},
   "outputs": [],
   "source": [
    "tesla_y = Car(model=\"Model Y\", make='tesla')"
   ]
  },
  {
   "cell_type": "code",
   "execution_count": 24,
   "id": "e3e628f4",
   "metadata": {},
   "outputs": [
    {
     "name": "stdout",
     "output_type": "stream",
     "text": [
      "make = tesla model = Model Y\n"
     ]
    }
   ],
   "source": [
    "print(tesla_y)"
   ]
  },
  {
   "cell_type": "code",
   "execution_count": 25,
   "id": "de5cda13",
   "metadata": {},
   "outputs": [
    {
     "name": "stdout",
     "output_type": "stream",
     "text": [
      "tesla Model Y => started\n"
     ]
    }
   ],
   "source": [
    "tesla_y.start()"
   ]
  },
  {
   "cell_type": "code",
   "execution_count": 26,
   "id": "99088284",
   "metadata": {},
   "outputs": [],
   "source": [
    "civic = Car(model=\"Civic\", make='Honda')"
   ]
  },
  {
   "cell_type": "code",
   "execution_count": 27,
   "id": "78fd07ec",
   "metadata": {},
   "outputs": [
    {
     "name": "stdout",
     "output_type": "stream",
     "text": [
      "make = Honda model = Civic\n"
     ]
    }
   ],
   "source": [
    "print(civic)"
   ]
  },
  {
   "cell_type": "code",
   "execution_count": 28,
   "id": "8ef49a38",
   "metadata": {},
   "outputs": [
    {
     "name": "stdout",
     "output_type": "stream",
     "text": [
      "Honda Civic => started\n"
     ]
    }
   ],
   "source": [
    "civic.start()"
   ]
  },
  {
   "cell_type": "code",
   "execution_count": 29,
   "id": "f243c6c6",
   "metadata": {},
   "outputs": [],
   "source": [
    "class Account:\n",
    "    def __init__(self, number, balance):\n",
    "        self.number = number\n",
    "        self.balance = balance\n",
    "    \n",
    "    def withdraw(self, amount):\n",
    "        self.balance -= amount\n",
    "\n",
    "    def deposit(self, amount):\n",
    "        self.balance += amount\n",
    "\n",
    "    def transfer(self, to_account,amount):\n",
    "        self.withdraw(amount)\n",
    "        to_account.deposit(amount)"
   ]
  },
  {
   "cell_type": "code",
   "execution_count": 30,
   "id": "47a90c98",
   "metadata": {},
   "outputs": [],
   "source": [
    "jay_account = Account(1, 0)\n",
    "viru_account = Account(2, 0)"
   ]
  },
  {
   "cell_type": "code",
   "execution_count": 31,
   "id": "06c93dd7",
   "metadata": {},
   "outputs": [],
   "source": [
    "thakur_account = Account(3, 1000000000000)"
   ]
  },
  {
   "cell_type": "code",
   "execution_count": 33,
   "id": "13f716f3",
   "metadata": {},
   "outputs": [],
   "source": [
    "def print_balances():\n",
    "    print(f\"thakur balance {thakur_account.balance}\")\n",
    "    print(f\"jay balance {jay_account.balance}\")\n",
    "    print(f\"viru balance {viru_account.balance}\")"
   ]
  },
  {
   "cell_type": "code",
   "execution_count": 34,
   "id": "e067a2b5",
   "metadata": {},
   "outputs": [
    {
     "name": "stdout",
     "output_type": "stream",
     "text": [
      "thakur balance 1000000000000\n",
      "jay balance 0\n",
      "viru balance 0\n"
     ]
    }
   ],
   "source": [
    "print_balances()"
   ]
  },
  {
   "cell_type": "code",
   "execution_count": 35,
   "id": "26337406",
   "metadata": {},
   "outputs": [],
   "source": [
    "thakur_account.transfer(jay_account,100000)\n",
    "thakur_account.transfer(viru_account,100000)"
   ]
  },
  {
   "cell_type": "code",
   "execution_count": 36,
   "id": "cb8c8751",
   "metadata": {},
   "outputs": [
    {
     "name": "stdout",
     "output_type": "stream",
     "text": [
      "thakur balance 999999800000\n",
      "jay balance 100000\n",
      "viru balance 100000\n"
     ]
    }
   ],
   "source": [
    "print_balances()"
   ]
  },
  {
   "cell_type": "code",
   "execution_count": 38,
   "id": "f4d49607",
   "metadata": {},
   "outputs": [],
   "source": [
    "class Ticket:\n",
    "    # class member\n",
    "    total_tickets_sold = 0\n",
    "\n",
    "    def __init__(self, price=0):\n",
    "        self.price = price\n",
    "        self.increment_count()\n",
    "    \n",
    "    def print_ticket(self):\n",
    "        print(f\"Printing ticket for sale of {self.price}\")\n",
    "\n",
    "    @classmethod\n",
    "    def increment_count(cls):\n",
    "        cls.total_tickets_sold += 1\n",
    "\n",
    "    @staticmethod\n",
    "    def is_price_valid(amount):\n",
    "        return amount >= 0\n",
    "        "
   ]
  },
  {
   "cell_type": "code",
   "execution_count": 39,
   "id": "9a8ad540",
   "metadata": {},
   "outputs": [],
   "source": [
    "t1 = Ticket(10)\n",
    "t2 = Ticket(110)\n",
    "t3 = Ticket(120)"
   ]
  },
  {
   "cell_type": "code",
   "execution_count": 40,
   "id": "e037aabf",
   "metadata": {},
   "outputs": [
    {
     "data": {
      "text/plain": [
       "3"
      ]
     },
     "execution_count": 40,
     "metadata": {},
     "output_type": "execute_result"
    }
   ],
   "source": [
    "Ticket.total_tickets_sold"
   ]
  },
  {
   "cell_type": "code",
   "execution_count": 41,
   "id": "ea443643",
   "metadata": {},
   "outputs": [],
   "source": [
    "Ticket.increment_count()"
   ]
  },
  {
   "cell_type": "code",
   "execution_count": 42,
   "id": "901abdb9",
   "metadata": {},
   "outputs": [
    {
     "data": {
      "text/plain": [
       "True"
      ]
     },
     "execution_count": 42,
     "metadata": {},
     "output_type": "execute_result"
    }
   ],
   "source": [
    "Ticket.is_price_valid(100)"
   ]
  }
 ],
 "metadata": {
  "kernelspec": {
   "display_name": "Python 3",
   "language": "python",
   "name": "python3"
  },
  "language_info": {
   "codemirror_mode": {
    "name": "ipython",
    "version": 3
   },
   "file_extension": ".py",
   "mimetype": "text/x-python",
   "name": "python",
   "nbconvert_exporter": "python",
   "pygments_lexer": "ipython3",
   "version": "3.11.9"
  }
 },
 "nbformat": 4,
 "nbformat_minor": 5
}
